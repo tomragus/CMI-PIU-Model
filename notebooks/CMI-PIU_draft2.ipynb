{
 "cells": [
  {
   "cell_type": "markdown",
   "id": "2beb8aa7",
   "metadata": {},
   "source": [
    "# ***Child Mind Institute - Relating Physical Activity to Problematic Internet Use***\n",
    "Link to GitHub for this project 👉 check it out\n",
    "\n",
    "Here is an article from the institute on Summer Screen Time Use 👉 [check it out](https://childmind.org/article/screen-time-and-summer/)\n",
    "\n",
    "\n",
    "\n",
    "### The Problem at Hand 🧑‍💻 *(taken from the comptetition homepage 👉 [check it out](https://www.kaggle.com/competitions/child-mind-institute-problematic-internet-use/overview))*\n",
    "\n",
    "\"In today’s digital age, problematic internet use among children and adolescents is a growing concern. Better understanding this issue is crucial for addressing mental health problems such as depression and anxiety.\n",
    "\n",
    "Current methods for measuring problematic internet use in children and adolescents are often complex and require professional assessments. This creates access, cultural, and linguistic barriers for many families. Due to these limitations, problematic internet use is often not measured directly, but is instead associated with issues such as depression and anxiety in youth.\n",
    "\n",
    "Conversely, physical & fitness measures are extremely accessible and widely available with minimal intervention or clinical expertise. Changes in physical habits, such as poorer posture, irregular diet, and reduced physical activity, are common in excessive technology users. We propose using these easily obtainable physical fitness indicators as proxies for identifying problematic internet use, especially in contexts lacking clinical expertise or suitable assessment tools.\"\n",
    "\n",
    "**What does this mean?** The Child Mind Institute has tasked the public with building a predictive machine learning model that will determine the Severity Impairment Indes (SII), measuring the level of problematic internet use among children and adolescents, based on physical activity, health, and lifestyle factors. The aim is to identify signs of problematic internet use early so that preventative measures can be taken by the parent/ caretaker.\n",
    "\n",
    "### The Data at Hand 📊\n",
    "In the institute's Healthy Brain Network (HBN) study, roughly 5,000 participants (aged 5-22) were given an accelerometer to wear for up to 30 days continually while at home and going about their daily lives. This data, known as **actigraphy data**, was collected alongside data from various records and assessments, including a Physical Activity Questionaire (PAQ), Parent-Child Internet Addiction Test (PCIAT), the FitnessGram Child Test, and others - these we'll call **feature data**.\n",
    "\n",
    "Our objective is to train an ensemble of machine learning models on both of these datasets that will accurately predict the SII, the **target variable**, for each participant in what is known as the **test set**, a small dataset that is missing some of the features in the other sets including the SII.\n",
    "\n",
    "We will do this by first **loading the data, cleaning the data (removing missing values), and preforming some simple EDA (exploratory data analysis),** to help us better understand what we're working with and **how different features relate to one another and the target variable**. Then we will engage in pre-processing and feature engineering to create a more robust dataset, and finally train and evaluate our models.\n",
    "\n",
    "# Let's start by taking a peek into our data:"
   ]
  }
 ],
 "metadata": {
  "language_info": {
   "name": "python"
  }
 },
 "nbformat": 4,
 "nbformat_minor": 5
}
