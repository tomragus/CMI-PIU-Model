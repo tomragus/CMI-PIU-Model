{
 "cells": [
  {
   "cell_type": "markdown",
   "id": "9b928224",
   "metadata": {},
   "source": [
    "# PHASE 1: DATASET PREPARATION\n",
    "### blah blah blah"
   ]
  },
  {
   "cell_type": "code",
   "execution_count": null,
   "id": "4faa5d9c",
   "metadata": {},
   "outputs": [],
   "source": [
    "# write code here"
   ]
  },
  {
   "cell_type": "markdown",
   "id": "24c3677e",
   "metadata": {},
   "source": [
    "# PHASE 2: FEATURES & ACTIGRAPHY EDA\n",
    "### blah blah blah"
   ]
  },
  {
   "cell_type": "code",
   "execution_count": null,
   "id": "480b878f",
   "metadata": {},
   "outputs": [],
   "source": [
    "# write code here"
   ]
  },
  {
   "cell_type": "markdown",
   "id": "61ed019d",
   "metadata": {},
   "source": [
    "# PHASE 3: DATA PREPROCESSING & FEATURE ENGINEERING\n",
    "### blah blah blah"
   ]
  },
  {
   "cell_type": "code",
   "execution_count": null,
   "id": "f5c5d26b",
   "metadata": {},
   "outputs": [],
   "source": [
    "# write code here"
   ]
  },
  {
   "cell_type": "markdown",
   "id": "8afea3dd",
   "metadata": {},
   "source": [
    "# PHASE 4: BUILDING AND TRAINING THE MODEL(S)\n",
    "### blah blah blah"
   ]
  },
  {
   "cell_type": "code",
   "execution_count": null,
   "id": "37889880",
   "metadata": {},
   "outputs": [],
   "source": [
    "# write code here"
   ]
  },
  {
   "cell_type": "markdown",
   "id": "14cd2c70",
   "metadata": {},
   "source": [
    "# PHASE 5: PREPARATION FOR SUBMISSION\n",
    "### blah blah blah"
   ]
  },
  {
   "cell_type": "code",
   "execution_count": null,
   "id": "643de4cb",
   "metadata": {},
   "outputs": [],
   "source": [
    "# write code here"
   ]
  },
  {
   "cell_type": "markdown",
   "id": "034c35ef",
   "metadata": {},
   "source": [
    "# PHASE 6: CONSTRUCTING THE PRESENTATION\n",
    "### blah blah blah"
   ]
  },
  {
   "cell_type": "code",
   "execution_count": null,
   "id": "d406b4ea",
   "metadata": {},
   "outputs": [],
   "source": [
    "# write code here"
   ]
  }
 ],
 "metadata": {
  "kernelspec": {
   "display_name": "ds_env",
   "language": "python",
   "name": "python3"
  },
  "language_info": {
   "name": "python",
   "version": "3.12.2"
  }
 },
 "nbformat": 4,
 "nbformat_minor": 5
}
