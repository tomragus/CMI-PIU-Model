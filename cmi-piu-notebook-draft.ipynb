{
 "cells": [
  {
   "cell_type": "markdown",
   "id": "8e57c678",
   "metadata": {
    "papermill": {
     "duration": 0.013557,
     "end_time": "2025-07-15T04:35:22.329851",
     "exception": false,
     "start_time": "2025-07-15T04:35:22.316294",
     "status": "completed"
    },
    "tags": []
   },
   "source": [
    "# **Child Mind Institute: Problematic Internet Use (Kaggle Competition Notebook)**\n",
    "\n",
    "View this project on [GitHub]()\n",
    "\n",
    "### ‣ 🧑‍💻 The Problem at Hand *(taken from the comptetition homepage 👉  [read here](https://www.kaggle.com/competitions/child-mind-institute-problematic-internet-use/overview))*\n",
    "\n",
    "\"In today’s digital age, problematic internet use among children and adolescents is a growing concern. Better understanding this issue is crucial for addressing mental health problems such as depression and anxiety.\n",
    "\n",
    "Current methods for measuring problematic internet use in children and adolescents are often complex and require professional assessments. This creates access, cultural, and linguistic barriers for many families. Due to these limitations, problematic internet use is often not measured directly, but is instead associated with issues such as depression and anxiety in youth.\n",
    "\n",
    "Conversely, physical & fitness measures are extremely accessible and widely available with minimal intervention or clinical expertise. Changes in physical habits, such as poorer posture, irregular diet, and reduced physical activity, are common in excessive technology users. We propose using these easily obtainable physical fitness indicators as proxies for identifying problematic internet use, especially in contexts lacking clinical expertise or suitable assessment tools.\"\n",
    "\n",
    "**What does this mean?** The Child Mind Institute has tasked the public with building predictive machine learning models that will determine a participant's Severity Impairment Index (SII) - a metric measuring the level of problematic internet use among children and adolescents - based on physical activity, health, and other factors. The aim is to improve our ability to identify signs of problematic internet use early so preventative intervention can take place.\n",
    "\n",
    "### ‣ 📊 The Data at Hand\n",
    "\n",
    "From the institute's *Healthy Brain Network*, we have been provided with a roughly 4,000-entry dataset comprising measurements from various instruments, assessments, and questionairres - in particular, an assessment called the \"Parent-Child Internet Addiction Test\" (PCIAT), which is used to calculate the SII of each participant. We have also been given a collection of time-series data, collected via a wrist accelerometer given to roughly 1,000 participants to wear for up to 30 days continually while at home and going about their daily lives. The competition is largely concerned with the first dataset, but we will investigate the latter near the end of the notebook.\n",
    "\n",
    "We have been provided with a **train set** on which we will train our models, and a **test set** on which we will evaluate their performance and generate our submission. The train set is the full dataset with **over 70 features**, including SII (**target variable**) and the PCIAT results used to calculate it. The test set is a much smaller collection of data with about 20 rows, and missing these features. *Our objective then is to train the models to accurately predict SII values for each entry in the test set.* We'll be using an *ensemble approach*, pre-processing and training two models separately and merging results for the final submission. \n",
    "\n",
    "### ‣ 📝 Competition Evaluation\n",
    "\n",
    "The result will be evaluated based on the **quadratic weighted kappa**, a metric measuring the agreement between two outcomes. Our submission will consist of two rows, one for id and one for SII, with an entry for each participant in the test set. An example submission has been given to us to view."
   ]
  },
  {
   "cell_type": "code",
   "execution_count": 1,
   "id": "2baf2611",
   "metadata": {
    "execution": {
     "iopub.execute_input": "2025-07-15T04:35:22.353658Z",
     "iopub.status.busy": "2025-07-15T04:35:22.352780Z",
     "iopub.status.idle": "2025-07-15T04:35:24.197422Z",
     "shell.execute_reply": "2025-07-15T04:35:24.196564Z"
    },
    "papermill": {
     "duration": 1.858113,
     "end_time": "2025-07-15T04:35:24.199164",
     "exception": false,
     "start_time": "2025-07-15T04:35:22.341051",
     "status": "completed"
    },
    "tags": []
   },
   "outputs": [
    {
     "name": "stdout",
     "output_type": "stream",
     "text": [
      "Sample submission\n",
      "Submission shape: (20, 2)\n"
     ]
    },
    {
     "data": {
      "text/html": [
       "<div>\n",
       "<style scoped>\n",
       "    .dataframe tbody tr th:only-of-type {\n",
       "        vertical-align: middle;\n",
       "    }\n",
       "\n",
       "    .dataframe tbody tr th {\n",
       "        vertical-align: top;\n",
       "    }\n",
       "\n",
       "    .dataframe thead th {\n",
       "        text-align: right;\n",
       "    }\n",
       "</style>\n",
       "<table border=\"1\" class=\"dataframe\">\n",
       "  <thead>\n",
       "    <tr style=\"text-align: right;\">\n",
       "      <th></th>\n",
       "      <th>id</th>\n",
       "      <th>sii</th>\n",
       "    </tr>\n",
       "  </thead>\n",
       "  <tbody>\n",
       "    <tr>\n",
       "      <th>0</th>\n",
       "      <td>00008ff9</td>\n",
       "      <td>0</td>\n",
       "    </tr>\n",
       "    <tr>\n",
       "      <th>1</th>\n",
       "      <td>000fd460</td>\n",
       "      <td>1</td>\n",
       "    </tr>\n",
       "    <tr>\n",
       "      <th>2</th>\n",
       "      <td>00105258</td>\n",
       "      <td>2</td>\n",
       "    </tr>\n",
       "    <tr>\n",
       "      <th>3</th>\n",
       "      <td>00115b9f</td>\n",
       "      <td>3</td>\n",
       "    </tr>\n",
       "    <tr>\n",
       "      <th>4</th>\n",
       "      <td>0016bb22</td>\n",
       "      <td>0</td>\n",
       "    </tr>\n",
       "    <tr>\n",
       "      <th>5</th>\n",
       "      <td>001f3379</td>\n",
       "      <td>1</td>\n",
       "    </tr>\n",
       "    <tr>\n",
       "      <th>6</th>\n",
       "      <td>0038ba98</td>\n",
       "      <td>2</td>\n",
       "    </tr>\n",
       "    <tr>\n",
       "      <th>7</th>\n",
       "      <td>0068a485</td>\n",
       "      <td>3</td>\n",
       "    </tr>\n",
       "    <tr>\n",
       "      <th>8</th>\n",
       "      <td>0069fbed</td>\n",
       "      <td>0</td>\n",
       "    </tr>\n",
       "    <tr>\n",
       "      <th>9</th>\n",
       "      <td>0083e397</td>\n",
       "      <td>1</td>\n",
       "    </tr>\n",
       "    <tr>\n",
       "      <th>10</th>\n",
       "      <td>0087dd65</td>\n",
       "      <td>2</td>\n",
       "    </tr>\n",
       "    <tr>\n",
       "      <th>11</th>\n",
       "      <td>00abe655</td>\n",
       "      <td>3</td>\n",
       "    </tr>\n",
       "    <tr>\n",
       "      <th>12</th>\n",
       "      <td>00ae59c9</td>\n",
       "      <td>0</td>\n",
       "    </tr>\n",
       "    <tr>\n",
       "      <th>13</th>\n",
       "      <td>00af6387</td>\n",
       "      <td>1</td>\n",
       "    </tr>\n",
       "    <tr>\n",
       "      <th>14</th>\n",
       "      <td>00bd4359</td>\n",
       "      <td>2</td>\n",
       "    </tr>\n",
       "    <tr>\n",
       "      <th>15</th>\n",
       "      <td>00c0cd71</td>\n",
       "      <td>3</td>\n",
       "    </tr>\n",
       "    <tr>\n",
       "      <th>16</th>\n",
       "      <td>00d56d4b</td>\n",
       "      <td>0</td>\n",
       "    </tr>\n",
       "    <tr>\n",
       "      <th>17</th>\n",
       "      <td>00d9913d</td>\n",
       "      <td>1</td>\n",
       "    </tr>\n",
       "    <tr>\n",
       "      <th>18</th>\n",
       "      <td>00e6167c</td>\n",
       "      <td>2</td>\n",
       "    </tr>\n",
       "    <tr>\n",
       "      <th>19</th>\n",
       "      <td>00ebc35d</td>\n",
       "      <td>3</td>\n",
       "    </tr>\n",
       "  </tbody>\n",
       "</table>\n",
       "</div>"
      ],
      "text/plain": [
       "          id  sii\n",
       "0   00008ff9    0\n",
       "1   000fd460    1\n",
       "2   00105258    2\n",
       "3   00115b9f    3\n",
       "4   0016bb22    0\n",
       "5   001f3379    1\n",
       "6   0038ba98    2\n",
       "7   0068a485    3\n",
       "8   0069fbed    0\n",
       "9   0083e397    1\n",
       "10  0087dd65    2\n",
       "11  00abe655    3\n",
       "12  00ae59c9    0\n",
       "13  00af6387    1\n",
       "14  00bd4359    2\n",
       "15  00c0cd71    3\n",
       "16  00d56d4b    0\n",
       "17  00d9913d    1\n",
       "18  00e6167c    2\n",
       "19  00ebc35d    3"
      ]
     },
     "execution_count": 1,
     "metadata": {},
     "output_type": "execute_result"
    }
   ],
   "source": [
    "# load pandas\n",
    "import pandas as pd\n",
    "\n",
    "# load sample submission\n",
    "sample = pd.read_csv(\"/kaggle/input/child-mind-institute-problematic-internet-use/sample_submission.csv\")\n",
    "\n",
    "# display sample submission\n",
    "print(\"Sample submission\")\n",
    "print(f\"Submission shape: {sample.shape}\")\n",
    "sample"
   ]
  },
  {
   "cell_type": "markdown",
   "id": "8724e62e",
   "metadata": {
    "papermill": {
     "duration": 0.011585,
     "end_time": "2025-07-15T04:35:24.222189",
     "exception": false,
     "start_time": "2025-07-15T04:35:24.210604",
     "status": "completed"
    },
    "tags": []
   },
   "source": [
    "### ‣ 📚 Credit\n",
    "\n",
    "*Parts of this notebook's EDA section were adapted from [Antonina Dolgorukova](https://datadelic.dev/)'s brilliant feature EDA notebook for this competition. I highly encourage checking out her work - it is extremely in-depth and well written!* 👉   [read it here](https://www.kaggle.com/code/antoninadolgorukova/cmi-piu-features-eda/notebook)"
   ]
  },
  {
   "cell_type": "markdown",
   "id": "5ccf992f",
   "metadata": {
    "papermill": {
     "duration": 0.010901,
     "end_time": "2025-07-15T04:35:24.244186",
     "exception": false,
     "start_time": "2025-07-15T04:35:24.233285",
     "status": "completed"
    },
    "tags": []
   },
   "source": [
    "***\n",
    "\n",
    "## 🎬 ***Getting Started***\n",
    "\n",
    "Let's start by taking a peek into our data and observing the features of the set."
   ]
  },
  {
   "cell_type": "code",
   "execution_count": 2,
   "id": "dc10e53f",
   "metadata": {
    "execution": {
     "iopub.execute_input": "2025-07-15T04:35:24.267863Z",
     "iopub.status.busy": "2025-07-15T04:35:24.267497Z",
     "iopub.status.idle": "2025-07-15T04:35:24.368059Z",
     "shell.execute_reply": "2025-07-15T04:35:24.366667Z"
    },
    "papermill": {
     "duration": 0.114385,
     "end_time": "2025-07-15T04:35:24.369677",
     "exception": false,
     "start_time": "2025-07-15T04:35:24.255292",
     "status": "completed"
    },
    "tags": []
   },
   "outputs": [
    {
     "name": "stdout",
     "output_type": "stream",
     "text": [
      "Train set: where the 'features' live\n",
      "Train shape: (3960, 82)\n"
     ]
    },
    {
     "data": {
      "text/html": [
       "<div>\n",
       "<style scoped>\n",
       "    .dataframe tbody tr th:only-of-type {\n",
       "        vertical-align: middle;\n",
       "    }\n",
       "\n",
       "    .dataframe tbody tr th {\n",
       "        vertical-align: top;\n",
       "    }\n",
       "\n",
       "    .dataframe thead th {\n",
       "        text-align: right;\n",
       "    }\n",
       "</style>\n",
       "<table border=\"1\" class=\"dataframe\">\n",
       "  <thead>\n",
       "    <tr style=\"text-align: right;\">\n",
       "      <th></th>\n",
       "      <th>id</th>\n",
       "      <th>Basic_Demos-Enroll_Season</th>\n",
       "      <th>Basic_Demos-Age</th>\n",
       "      <th>Basic_Demos-Sex</th>\n",
       "      <th>CGAS-Season</th>\n",
       "      <th>CGAS-CGAS_Score</th>\n",
       "      <th>Physical-Season</th>\n",
       "      <th>Physical-BMI</th>\n",
       "      <th>Physical-Height</th>\n",
       "      <th>Physical-Weight</th>\n",
       "      <th>...</th>\n",
       "      <th>PCIAT-PCIAT_18</th>\n",
       "      <th>PCIAT-PCIAT_19</th>\n",
       "      <th>PCIAT-PCIAT_20</th>\n",
       "      <th>PCIAT-PCIAT_Total</th>\n",
       "      <th>SDS-Season</th>\n",
       "      <th>SDS-SDS_Total_Raw</th>\n",
       "      <th>SDS-SDS_Total_T</th>\n",
       "      <th>PreInt_EduHx-Season</th>\n",
       "      <th>PreInt_EduHx-computerinternet_hoursday</th>\n",
       "      <th>sii</th>\n",
       "    </tr>\n",
       "  </thead>\n",
       "  <tbody>\n",
       "    <tr>\n",
       "      <th>0</th>\n",
       "      <td>00008ff9</td>\n",
       "      <td>Fall</td>\n",
       "      <td>5</td>\n",
       "      <td>0</td>\n",
       "      <td>Winter</td>\n",
       "      <td>51.0</td>\n",
       "      <td>Fall</td>\n",
       "      <td>16.877316</td>\n",
       "      <td>46.0</td>\n",
       "      <td>50.8</td>\n",
       "      <td>...</td>\n",
       "      <td>4.0</td>\n",
       "      <td>2.0</td>\n",
       "      <td>4.0</td>\n",
       "      <td>55.0</td>\n",
       "      <td>NaN</td>\n",
       "      <td>NaN</td>\n",
       "      <td>NaN</td>\n",
       "      <td>Fall</td>\n",
       "      <td>3.0</td>\n",
       "      <td>2.0</td>\n",
       "    </tr>\n",
       "    <tr>\n",
       "      <th>1</th>\n",
       "      <td>000fd460</td>\n",
       "      <td>Summer</td>\n",
       "      <td>9</td>\n",
       "      <td>0</td>\n",
       "      <td>NaN</td>\n",
       "      <td>NaN</td>\n",
       "      <td>Fall</td>\n",
       "      <td>14.035590</td>\n",
       "      <td>48.0</td>\n",
       "      <td>46.0</td>\n",
       "      <td>...</td>\n",
       "      <td>0.0</td>\n",
       "      <td>0.0</td>\n",
       "      <td>0.0</td>\n",
       "      <td>0.0</td>\n",
       "      <td>Fall</td>\n",
       "      <td>46.0</td>\n",
       "      <td>64.0</td>\n",
       "      <td>Summer</td>\n",
       "      <td>0.0</td>\n",
       "      <td>0.0</td>\n",
       "    </tr>\n",
       "    <tr>\n",
       "      <th>2</th>\n",
       "      <td>00105258</td>\n",
       "      <td>Summer</td>\n",
       "      <td>10</td>\n",
       "      <td>1</td>\n",
       "      <td>Fall</td>\n",
       "      <td>71.0</td>\n",
       "      <td>Fall</td>\n",
       "      <td>16.648696</td>\n",
       "      <td>56.5</td>\n",
       "      <td>75.6</td>\n",
       "      <td>...</td>\n",
       "      <td>2.0</td>\n",
       "      <td>1.0</td>\n",
       "      <td>1.0</td>\n",
       "      <td>28.0</td>\n",
       "      <td>Fall</td>\n",
       "      <td>38.0</td>\n",
       "      <td>54.0</td>\n",
       "      <td>Summer</td>\n",
       "      <td>2.0</td>\n",
       "      <td>0.0</td>\n",
       "    </tr>\n",
       "    <tr>\n",
       "      <th>3</th>\n",
       "      <td>00115b9f</td>\n",
       "      <td>Winter</td>\n",
       "      <td>9</td>\n",
       "      <td>0</td>\n",
       "      <td>Fall</td>\n",
       "      <td>71.0</td>\n",
       "      <td>Summer</td>\n",
       "      <td>18.292347</td>\n",
       "      <td>56.0</td>\n",
       "      <td>81.6</td>\n",
       "      <td>...</td>\n",
       "      <td>3.0</td>\n",
       "      <td>4.0</td>\n",
       "      <td>1.0</td>\n",
       "      <td>44.0</td>\n",
       "      <td>Summer</td>\n",
       "      <td>31.0</td>\n",
       "      <td>45.0</td>\n",
       "      <td>Winter</td>\n",
       "      <td>0.0</td>\n",
       "      <td>1.0</td>\n",
       "    </tr>\n",
       "    <tr>\n",
       "      <th>4</th>\n",
       "      <td>0016bb22</td>\n",
       "      <td>Spring</td>\n",
       "      <td>18</td>\n",
       "      <td>1</td>\n",
       "      <td>Summer</td>\n",
       "      <td>NaN</td>\n",
       "      <td>NaN</td>\n",
       "      <td>NaN</td>\n",
       "      <td>NaN</td>\n",
       "      <td>NaN</td>\n",
       "      <td>...</td>\n",
       "      <td>NaN</td>\n",
       "      <td>NaN</td>\n",
       "      <td>NaN</td>\n",
       "      <td>NaN</td>\n",
       "      <td>NaN</td>\n",
       "      <td>NaN</td>\n",
       "      <td>NaN</td>\n",
       "      <td>NaN</td>\n",
       "      <td>NaN</td>\n",
       "      <td>NaN</td>\n",
       "    </tr>\n",
       "  </tbody>\n",
       "</table>\n",
       "<p>5 rows × 82 columns</p>\n",
       "</div>"
      ],
      "text/plain": [
       "         id Basic_Demos-Enroll_Season  Basic_Demos-Age  Basic_Demos-Sex  \\\n",
       "0  00008ff9                      Fall                5                0   \n",
       "1  000fd460                    Summer                9                0   \n",
       "2  00105258                    Summer               10                1   \n",
       "3  00115b9f                    Winter                9                0   \n",
       "4  0016bb22                    Spring               18                1   \n",
       "\n",
       "  CGAS-Season  CGAS-CGAS_Score Physical-Season  Physical-BMI  Physical-Height  \\\n",
       "0      Winter             51.0            Fall     16.877316             46.0   \n",
       "1         NaN              NaN            Fall     14.035590             48.0   \n",
       "2        Fall             71.0            Fall     16.648696             56.5   \n",
       "3        Fall             71.0          Summer     18.292347             56.0   \n",
       "4      Summer              NaN             NaN           NaN              NaN   \n",
       "\n",
       "   Physical-Weight  ...  PCIAT-PCIAT_18  PCIAT-PCIAT_19  PCIAT-PCIAT_20  \\\n",
       "0             50.8  ...             4.0             2.0             4.0   \n",
       "1             46.0  ...             0.0             0.0             0.0   \n",
       "2             75.6  ...             2.0             1.0             1.0   \n",
       "3             81.6  ...             3.0             4.0             1.0   \n",
       "4              NaN  ...             NaN             NaN             NaN   \n",
       "\n",
       "   PCIAT-PCIAT_Total SDS-Season  SDS-SDS_Total_Raw  SDS-SDS_Total_T  \\\n",
       "0               55.0        NaN                NaN              NaN   \n",
       "1                0.0       Fall               46.0             64.0   \n",
       "2               28.0       Fall               38.0             54.0   \n",
       "3               44.0     Summer               31.0             45.0   \n",
       "4                NaN        NaN                NaN              NaN   \n",
       "\n",
       "   PreInt_EduHx-Season PreInt_EduHx-computerinternet_hoursday  sii  \n",
       "0                 Fall                                    3.0  2.0  \n",
       "1               Summer                                    0.0  0.0  \n",
       "2               Summer                                    2.0  0.0  \n",
       "3               Winter                                    0.0  1.0  \n",
       "4                  NaN                                    NaN  NaN  \n",
       "\n",
       "[5 rows x 82 columns]"
      ]
     },
     "metadata": {},
     "output_type": "display_data"
    }
   ],
   "source": [
    "import warnings\n",
    "\n",
    "# load train set\n",
    "train = pd.read_csv(\"/kaggle/input/child-mind-institute-problematic-internet-use/train.csv\")\n",
    "\n",
    "# display first 5 rows of train set\n",
    "print(\"\"\"Train set: where the 'features' live\"\"\")\n",
    "print(f\"Train shape: {train.shape}\")\n",
    "with warnings.catch_warnings():\n",
    "    warnings.simplefilter(\"ignore\", category=RuntimeWarning)\n",
    "    display(train.head())\n"
   ]
  },
  {
   "cell_type": "markdown",
   "id": "4ecefd00",
   "metadata": {
    "papermill": {
     "duration": 0.013711,
     "end_time": "2025-07-15T04:35:24.395423",
     "exception": false,
     "start_time": "2025-07-15T04:35:24.381712",
     "status": "completed"
    },
    "tags": []
   },
   "source": [
    "While this is just a snippet, we can see the SII and the PCIAT scores on the right side of the set. The SII scores range from 0 to 3, with 0 representing no impairment and 3 representing severe impairment. So, we can think of the problem as training our models to **classify** each id in the test set into one of the 4 SII classes (0, 1, 2 or 3). A classification pipeline calls for what is known as **supervised learning**."
   ]
  },
  {
   "cell_type": "code",
   "execution_count": 3,
   "id": "9269b5ab",
   "metadata": {
    "execution": {
     "iopub.execute_input": "2025-07-15T04:35:24.420890Z",
     "iopub.status.busy": "2025-07-15T04:35:24.420048Z",
     "iopub.status.idle": "2025-07-15T04:35:24.450668Z",
     "shell.execute_reply": "2025-07-15T04:35:24.449854Z"
    },
    "papermill": {
     "duration": 0.044839,
     "end_time": "2025-07-15T04:35:24.452146",
     "exception": false,
     "start_time": "2025-07-15T04:35:24.407307",
     "status": "completed"
    },
    "tags": []
   },
   "outputs": [
    {
     "name": "stdout",
     "output_type": "stream",
     "text": [
      "Test set: what we will evaluate our models on\n",
      "Test shape: (20, 59)\n"
     ]
    },
    {
     "data": {
      "text/html": [
       "<div>\n",
       "<style scoped>\n",
       "    .dataframe tbody tr th:only-of-type {\n",
       "        vertical-align: middle;\n",
       "    }\n",
       "\n",
       "    .dataframe tbody tr th {\n",
       "        vertical-align: top;\n",
       "    }\n",
       "\n",
       "    .dataframe thead th {\n",
       "        text-align: right;\n",
       "    }\n",
       "</style>\n",
       "<table border=\"1\" class=\"dataframe\">\n",
       "  <thead>\n",
       "    <tr style=\"text-align: right;\">\n",
       "      <th></th>\n",
       "      <th>id</th>\n",
       "      <th>Basic_Demos-Enroll_Season</th>\n",
       "      <th>Basic_Demos-Age</th>\n",
       "      <th>Basic_Demos-Sex</th>\n",
       "      <th>CGAS-Season</th>\n",
       "      <th>CGAS-CGAS_Score</th>\n",
       "      <th>Physical-Season</th>\n",
       "      <th>Physical-BMI</th>\n",
       "      <th>Physical-Height</th>\n",
       "      <th>Physical-Weight</th>\n",
       "      <th>...</th>\n",
       "      <th>BIA-BIA_TBW</th>\n",
       "      <th>PAQ_A-Season</th>\n",
       "      <th>PAQ_A-PAQ_A_Total</th>\n",
       "      <th>PAQ_C-Season</th>\n",
       "      <th>PAQ_C-PAQ_C_Total</th>\n",
       "      <th>SDS-Season</th>\n",
       "      <th>SDS-SDS_Total_Raw</th>\n",
       "      <th>SDS-SDS_Total_T</th>\n",
       "      <th>PreInt_EduHx-Season</th>\n",
       "      <th>PreInt_EduHx-computerinternet_hoursday</th>\n",
       "    </tr>\n",
       "  </thead>\n",
       "  <tbody>\n",
       "    <tr>\n",
       "      <th>0</th>\n",
       "      <td>00008ff9</td>\n",
       "      <td>Fall</td>\n",
       "      <td>5</td>\n",
       "      <td>0</td>\n",
       "      <td>Winter</td>\n",
       "      <td>51.0</td>\n",
       "      <td>Fall</td>\n",
       "      <td>16.877316</td>\n",
       "      <td>46.0</td>\n",
       "      <td>50.8</td>\n",
       "      <td>...</td>\n",
       "      <td>32.6909</td>\n",
       "      <td>NaN</td>\n",
       "      <td>NaN</td>\n",
       "      <td>NaN</td>\n",
       "      <td>NaN</td>\n",
       "      <td>NaN</td>\n",
       "      <td>NaN</td>\n",
       "      <td>NaN</td>\n",
       "      <td>Fall</td>\n",
       "      <td>3.0</td>\n",
       "    </tr>\n",
       "    <tr>\n",
       "      <th>1</th>\n",
       "      <td>000fd460</td>\n",
       "      <td>Summer</td>\n",
       "      <td>9</td>\n",
       "      <td>0</td>\n",
       "      <td>NaN</td>\n",
       "      <td>NaN</td>\n",
       "      <td>Fall</td>\n",
       "      <td>14.035590</td>\n",
       "      <td>48.0</td>\n",
       "      <td>46.0</td>\n",
       "      <td>...</td>\n",
       "      <td>27.0552</td>\n",
       "      <td>NaN</td>\n",
       "      <td>NaN</td>\n",
       "      <td>Fall</td>\n",
       "      <td>2.340</td>\n",
       "      <td>Fall</td>\n",
       "      <td>46.0</td>\n",
       "      <td>64.0</td>\n",
       "      <td>Summer</td>\n",
       "      <td>0.0</td>\n",
       "    </tr>\n",
       "    <tr>\n",
       "      <th>2</th>\n",
       "      <td>00105258</td>\n",
       "      <td>Summer</td>\n",
       "      <td>10</td>\n",
       "      <td>1</td>\n",
       "      <td>Fall</td>\n",
       "      <td>71.0</td>\n",
       "      <td>Fall</td>\n",
       "      <td>16.648696</td>\n",
       "      <td>56.5</td>\n",
       "      <td>75.6</td>\n",
       "      <td>...</td>\n",
       "      <td>NaN</td>\n",
       "      <td>NaN</td>\n",
       "      <td>NaN</td>\n",
       "      <td>Summer</td>\n",
       "      <td>2.170</td>\n",
       "      <td>Fall</td>\n",
       "      <td>38.0</td>\n",
       "      <td>54.0</td>\n",
       "      <td>Summer</td>\n",
       "      <td>2.0</td>\n",
       "    </tr>\n",
       "    <tr>\n",
       "      <th>3</th>\n",
       "      <td>00115b9f</td>\n",
       "      <td>Winter</td>\n",
       "      <td>9</td>\n",
       "      <td>0</td>\n",
       "      <td>Fall</td>\n",
       "      <td>71.0</td>\n",
       "      <td>Summer</td>\n",
       "      <td>18.292347</td>\n",
       "      <td>56.0</td>\n",
       "      <td>81.6</td>\n",
       "      <td>...</td>\n",
       "      <td>45.9966</td>\n",
       "      <td>NaN</td>\n",
       "      <td>NaN</td>\n",
       "      <td>Winter</td>\n",
       "      <td>2.451</td>\n",
       "      <td>Summer</td>\n",
       "      <td>31.0</td>\n",
       "      <td>45.0</td>\n",
       "      <td>Winter</td>\n",
       "      <td>0.0</td>\n",
       "    </tr>\n",
       "    <tr>\n",
       "      <th>4</th>\n",
       "      <td>0016bb22</td>\n",
       "      <td>Spring</td>\n",
       "      <td>18</td>\n",
       "      <td>1</td>\n",
       "      <td>Summer</td>\n",
       "      <td>NaN</td>\n",
       "      <td>NaN</td>\n",
       "      <td>NaN</td>\n",
       "      <td>NaN</td>\n",
       "      <td>NaN</td>\n",
       "      <td>...</td>\n",
       "      <td>NaN</td>\n",
       "      <td>Summer</td>\n",
       "      <td>1.04</td>\n",
       "      <td>NaN</td>\n",
       "      <td>NaN</td>\n",
       "      <td>NaN</td>\n",
       "      <td>NaN</td>\n",
       "      <td>NaN</td>\n",
       "      <td>NaN</td>\n",
       "      <td>NaN</td>\n",
       "    </tr>\n",
       "  </tbody>\n",
       "</table>\n",
       "<p>5 rows × 59 columns</p>\n",
       "</div>"
      ],
      "text/plain": [
       "         id Basic_Demos-Enroll_Season  Basic_Demos-Age  Basic_Demos-Sex  \\\n",
       "0  00008ff9                      Fall                5                0   \n",
       "1  000fd460                    Summer                9                0   \n",
       "2  00105258                    Summer               10                1   \n",
       "3  00115b9f                    Winter                9                0   \n",
       "4  0016bb22                    Spring               18                1   \n",
       "\n",
       "  CGAS-Season  CGAS-CGAS_Score Physical-Season  Physical-BMI  Physical-Height  \\\n",
       "0      Winter             51.0            Fall     16.877316             46.0   \n",
       "1         NaN              NaN            Fall     14.035590             48.0   \n",
       "2        Fall             71.0            Fall     16.648696             56.5   \n",
       "3        Fall             71.0          Summer     18.292347             56.0   \n",
       "4      Summer              NaN             NaN           NaN              NaN   \n",
       "\n",
       "   Physical-Weight  ...  BIA-BIA_TBW  PAQ_A-Season  PAQ_A-PAQ_A_Total  \\\n",
       "0             50.8  ...      32.6909           NaN                NaN   \n",
       "1             46.0  ...      27.0552           NaN                NaN   \n",
       "2             75.6  ...          NaN           NaN                NaN   \n",
       "3             81.6  ...      45.9966           NaN                NaN   \n",
       "4              NaN  ...          NaN        Summer               1.04   \n",
       "\n",
       "   PAQ_C-Season PAQ_C-PAQ_C_Total  SDS-Season  SDS-SDS_Total_Raw  \\\n",
       "0           NaN               NaN         NaN                NaN   \n",
       "1          Fall             2.340        Fall               46.0   \n",
       "2        Summer             2.170        Fall               38.0   \n",
       "3        Winter             2.451      Summer               31.0   \n",
       "4           NaN               NaN         NaN                NaN   \n",
       "\n",
       "   SDS-SDS_Total_T PreInt_EduHx-Season  PreInt_EduHx-computerinternet_hoursday  \n",
       "0              NaN                Fall                                     3.0  \n",
       "1             64.0              Summer                                     0.0  \n",
       "2             54.0              Summer                                     2.0  \n",
       "3             45.0              Winter                                     0.0  \n",
       "4              NaN                 NaN                                     NaN  \n",
       "\n",
       "[5 rows x 59 columns]"
      ]
     },
     "metadata": {},
     "output_type": "display_data"
    }
   ],
   "source": [
    "# load test set\n",
    "test = pd.read_csv(\"/kaggle/input/child-mind-institute-problematic-internet-use/test.csv\")\n",
    "\n",
    "# display first 5 rows of test set\n",
    "print(\"\"\"Test set: what we will evaluate our models on\"\"\")\n",
    "print(f\"Test shape: {test.shape}\")\n",
    "with warnings.catch_warnings():\n",
    "    warnings.simplefilter(\"ignore\", category=RuntimeWarning)\n",
    "    display(test.head())"
   ]
  },
  {
   "cell_type": "markdown",
   "id": "e670509a",
   "metadata": {
    "papermill": {
     "duration": 0.011669,
     "end_time": "2025-07-15T04:35:24.475962",
     "exception": false,
     "start_time": "2025-07-15T04:35:24.464293",
     "status": "completed"
    },
    "tags": []
   },
   "source": [
    "We can see some features that are pretty intuitive like *age*, *sex*, and *height*, but it can be tricky to figure out what all of these abbreviations mean - thankfully, the Child Mind Institute was kind enough to include a **data dictionary** for this competition, which gives some extra information on each feature. We'll load a little preview, but [you can view the full file on the Kaggle page.](https://www.kaggle.com/competitions/child-mind-institute-problematic-internet-use/data?select=data_dictionary.csv)"
   ]
  },
  {
   "cell_type": "code",
   "execution_count": 4,
   "id": "9ad6ea8a",
   "metadata": {
    "execution": {
     "iopub.execute_input": "2025-07-15T04:35:24.501191Z",
     "iopub.status.busy": "2025-07-15T04:35:24.500689Z",
     "iopub.status.idle": "2025-07-15T04:35:24.518368Z",
     "shell.execute_reply": "2025-07-15T04:35:24.517452Z"
    },
    "papermill": {
     "duration": 0.032238,
     "end_time": "2025-07-15T04:35:24.519985",
     "exception": false,
     "start_time": "2025-07-15T04:35:24.487747",
     "status": "completed"
    },
    "tags": []
   },
   "outputs": [
    {
     "name": "stdout",
     "output_type": "stream",
     "text": [
      "Data Dictionary: what each feature means\n",
      "Data Dictionary shape: (81, 6)\n"
     ]
    },
    {
     "data": {
      "text/html": [
       "<div>\n",
       "<style scoped>\n",
       "    .dataframe tbody tr th:only-of-type {\n",
       "        vertical-align: middle;\n",
       "    }\n",
       "\n",
       "    .dataframe tbody tr th {\n",
       "        vertical-align: top;\n",
       "    }\n",
       "\n",
       "    .dataframe thead th {\n",
       "        text-align: right;\n",
       "    }\n",
       "</style>\n",
       "<table border=\"1\" class=\"dataframe\">\n",
       "  <thead>\n",
       "    <tr style=\"text-align: right;\">\n",
       "      <th></th>\n",
       "      <th>Instrument</th>\n",
       "      <th>Field</th>\n",
       "      <th>Description</th>\n",
       "      <th>Type</th>\n",
       "      <th>Values</th>\n",
       "      <th>Value Labels</th>\n",
       "    </tr>\n",
       "  </thead>\n",
       "  <tbody>\n",
       "    <tr>\n",
       "      <th>0</th>\n",
       "      <td>Identifier</td>\n",
       "      <td>id</td>\n",
       "      <td>Participant's ID</td>\n",
       "      <td>str</td>\n",
       "      <td>NaN</td>\n",
       "      <td>NaN</td>\n",
       "    </tr>\n",
       "    <tr>\n",
       "      <th>1</th>\n",
       "      <td>Demographics</td>\n",
       "      <td>Basic_Demos-Enroll_Season</td>\n",
       "      <td>Season of enrollment</td>\n",
       "      <td>str</td>\n",
       "      <td>Spring, Summer, Fall, Winter</td>\n",
       "      <td>NaN</td>\n",
       "    </tr>\n",
       "    <tr>\n",
       "      <th>2</th>\n",
       "      <td>Demographics</td>\n",
       "      <td>Basic_Demos-Age</td>\n",
       "      <td>Age of participant</td>\n",
       "      <td>float</td>\n",
       "      <td>NaN</td>\n",
       "      <td>NaN</td>\n",
       "    </tr>\n",
       "    <tr>\n",
       "      <th>3</th>\n",
       "      <td>Demographics</td>\n",
       "      <td>Basic_Demos-Sex</td>\n",
       "      <td>Sex of participant</td>\n",
       "      <td>categorical int</td>\n",
       "      <td>0,1</td>\n",
       "      <td>0=Male, 1=Female</td>\n",
       "    </tr>\n",
       "    <tr>\n",
       "      <th>4</th>\n",
       "      <td>Children's Global Assessment Scale</td>\n",
       "      <td>CGAS-Season</td>\n",
       "      <td>Season of participation</td>\n",
       "      <td>str</td>\n",
       "      <td>Spring, Summer, Fall, Winter</td>\n",
       "      <td>NaN</td>\n",
       "    </tr>\n",
       "  </tbody>\n",
       "</table>\n",
       "</div>"
      ],
      "text/plain": [
       "                           Instrument                      Field  \\\n",
       "0                          Identifier                         id   \n",
       "1                        Demographics  Basic_Demos-Enroll_Season   \n",
       "2                        Demographics            Basic_Demos-Age   \n",
       "3                        Demographics            Basic_Demos-Sex   \n",
       "4  Children's Global Assessment Scale                CGAS-Season   \n",
       "\n",
       "               Description             Type                        Values  \\\n",
       "0         Participant's ID              str                           NaN   \n",
       "1     Season of enrollment              str  Spring, Summer, Fall, Winter   \n",
       "2       Age of participant            float                           NaN   \n",
       "3       Sex of participant  categorical int                           0,1   \n",
       "4  Season of participation              str  Spring, Summer, Fall, Winter   \n",
       "\n",
       "       Value Labels  \n",
       "0               NaN  \n",
       "1               NaN  \n",
       "2               NaN  \n",
       "3  0=Male, 1=Female  \n",
       "4               NaN  "
      ]
     },
     "metadata": {},
     "output_type": "display_data"
    }
   ],
   "source": [
    "# load data dictionary\n",
    "data_dict = pd.read_csv(\"/kaggle/input/child-mind-institute-problematic-internet-use/data_dictionary.csv\")\n",
    "\n",
    "# display first 5 rows of data dictionary\n",
    "print(\"\"\"Data Dictionary: what each feature means\"\"\")\n",
    "print(f\"Data Dictionary shape: {data_dict.shape}\")\n",
    "display(data_dict.head())"
   ]
  },
  {
   "cell_type": "markdown",
   "id": "a0cb732f",
   "metadata": {
    "papermill": {
     "duration": 0.011945,
     "end_time": "2025-07-15T04:35:24.553346",
     "exception": false,
     "start_time": "2025-07-15T04:35:24.541401",
     "status": "completed"
    },
    "tags": []
   },
   "source": [
    "This should give us a brief overview of what we're working with. Throughout this notebook, we'll be utilizing libraries like numpy, pandas, matplotlib, seaborn, and scikit-learn frequently for manipulation, visualization, and machine learning. We'll import them here."
   ]
  },
  {
   "cell_type": "code",
   "execution_count": 5,
   "id": "7c3ed9c6",
   "metadata": {
    "execution": {
     "iopub.execute_input": "2025-07-15T04:35:24.578967Z",
     "iopub.status.busy": "2025-07-15T04:35:24.578101Z",
     "iopub.status.idle": "2025-07-15T04:35:31.870890Z",
     "shell.execute_reply": "2025-07-15T04:35:31.870211Z"
    },
    "papermill": {
     "duration": 7.307528,
     "end_time": "2025-07-15T04:35:31.872609",
     "exception": false,
     "start_time": "2025-07-15T04:35:24.565081",
     "status": "completed"
    },
    "tags": []
   },
   "outputs": [],
   "source": [
    "# load all other libraries\n",
    "import numpy as np\n",
    "import matplotlib\n",
    "import matplotlib.pyplot as plt\n",
    "import seaborn as sns\n",
    "import os\n",
    "import xgboost as xgb\n",
    "import lightgbm as lgb\n",
    "from pandas.api.types import is_numeric_dtype, is_object_dtype, is_categorical_dtype, CategoricalDtype\n",
    "from scipy import stats\n",
    "from scipy.stats import pearsonr, spearmanr\n",
    "from sklearn.model_selection import train_test_split, StratifiedKFold, cross_val_score, KFold, GridSearchCV\n",
    "from sklearn.preprocessing import StandardScaler, RobustScaler, LabelEncoder\n",
    "from sklearn.linear_model import Ridge\n",
    "from sklearn.metrics import mean_squared_error, mean_absolute_error\n",
    "from lightgbm import LGBMRegressor, early_stopping, log_evaluation\n",
    "warnings.filterwarnings(\"ignore\", category=RuntimeWarning)"
   ]
  },
  {
   "cell_type": "markdown",
   "id": "eb9e48cc",
   "metadata": {
    "papermill": {
     "duration": 0.011928,
     "end_time": "2025-07-15T04:35:31.897256",
     "exception": false,
     "start_time": "2025-07-15T04:35:31.885328",
     "status": "completed"
    },
    "tags": []
   },
   "source": [
    "***\n",
    "\n",
    "## 🧐 ***Exploratory Data Analysis (EDA)***\n",
    "\n",
    "It can be tricky to know where to start with EDA, since there's so much to work with - but let's begin by taking a closer look at the PCIAT features, or in other words, all the features that in the train set but not in the test set."
   ]
  },
  {
   "cell_type": "code",
   "execution_count": 6,
   "id": "11654059",
   "metadata": {
    "execution": {
     "iopub.execute_input": "2025-07-15T04:35:31.922619Z",
     "iopub.status.busy": "2025-07-15T04:35:31.922067Z",
     "iopub.status.idle": "2025-07-15T04:35:31.940166Z",
     "shell.execute_reply": "2025-07-15T04:35:31.939362Z"
    },
    "papermill": {
     "duration": 0.032286,
     "end_time": "2025-07-15T04:35:31.941498",
     "exception": false,
     "start_time": "2025-07-15T04:35:31.909212",
     "status": "completed"
    },
    "tags": []
   },
   "outputs": [
    {
     "data": {
      "text/html": [
       "<div>\n",
       "<style scoped>\n",
       "    .dataframe tbody tr th:only-of-type {\n",
       "        vertical-align: middle;\n",
       "    }\n",
       "\n",
       "    .dataframe tbody tr th {\n",
       "        vertical-align: top;\n",
       "    }\n",
       "\n",
       "    .dataframe thead th {\n",
       "        text-align: right;\n",
       "    }\n",
       "</style>\n",
       "<table border=\"1\" class=\"dataframe\">\n",
       "  <thead>\n",
       "    <tr style=\"text-align: right;\">\n",
       "      <th></th>\n",
       "      <th>Instrument</th>\n",
       "      <th>Field</th>\n",
       "      <th>Description</th>\n",
       "      <th>Type</th>\n",
       "      <th>Values</th>\n",
       "      <th>Value Labels</th>\n",
       "    </tr>\n",
       "  </thead>\n",
       "  <tbody>\n",
       "    <tr>\n",
       "      <th>54</th>\n",
       "      <td>Parent-Child Internet Addiction Test</td>\n",
       "      <td>PCIAT-Season</td>\n",
       "      <td>Season of participation</td>\n",
       "      <td>str</td>\n",
       "      <td>Spring, Summer, Fall, Winter</td>\n",
       "      <td>NaN</td>\n",
       "    </tr>\n",
       "    <tr>\n",
       "      <th>55</th>\n",
       "      <td>Parent-Child Internet Addiction Test</td>\n",
       "      <td>PCIAT-PCIAT_01</td>\n",
       "      <td>How often does your child disobey time limits ...</td>\n",
       "      <td>categorical int</td>\n",
       "      <td>0,1,2,3,4,5</td>\n",
       "      <td>0=Does Not Apply, 1=Rarely, 2=Occasionally, 3=...</td>\n",
       "    </tr>\n",
       "    <tr>\n",
       "      <th>56</th>\n",
       "      <td>Parent-Child Internet Addiction Test</td>\n",
       "      <td>PCIAT-PCIAT_02</td>\n",
       "      <td>How often does your child neglect household ch...</td>\n",
       "      <td>categorical int</td>\n",
       "      <td>0,1,2,3,4,5</td>\n",
       "      <td>0=Does Not Apply, 1=Rarely, 2=Occasionally, 3=...</td>\n",
       "    </tr>\n",
       "    <tr>\n",
       "      <th>57</th>\n",
       "      <td>Parent-Child Internet Addiction Test</td>\n",
       "      <td>PCIAT-PCIAT_03</td>\n",
       "      <td>How often does your child prefer to spend time...</td>\n",
       "      <td>categorical int</td>\n",
       "      <td>0,1,2,3,4,5</td>\n",
       "      <td>0=Does Not Apply, 1=Rarely, 2=Occasionally, 3=...</td>\n",
       "    </tr>\n",
       "    <tr>\n",
       "      <th>58</th>\n",
       "      <td>Parent-Child Internet Addiction Test</td>\n",
       "      <td>PCIAT-PCIAT_04</td>\n",
       "      <td>How often does your child form new relationshi...</td>\n",
       "      <td>categorical int</td>\n",
       "      <td>0,1,2,3,4,5</td>\n",
       "      <td>0=Does Not Apply, 1=Rarely, 2=Occasionally, 3=...</td>\n",
       "    </tr>\n",
       "    <tr>\n",
       "      <th>59</th>\n",
       "      <td>Parent-Child Internet Addiction Test</td>\n",
       "      <td>PCIAT-PCIAT_05</td>\n",
       "      <td>How often do you complain about the amount of ...</td>\n",
       "      <td>categorical int</td>\n",
       "      <td>0,1,2,3,4,5</td>\n",
       "      <td>0=Does Not Apply, 1=Rarely, 2=Occasionally, 3=...</td>\n",
       "    </tr>\n",
       "    <tr>\n",
       "      <th>60</th>\n",
       "      <td>Parent-Child Internet Addiction Test</td>\n",
       "      <td>PCIAT-PCIAT_06</td>\n",
       "      <td>How often do your child's grades suffer becaus...</td>\n",
       "      <td>categorical int</td>\n",
       "      <td>0,1,2,3,4,5</td>\n",
       "      <td>0=Does Not Apply, 1=Rarely, 2=Occasionally, 3=...</td>\n",
       "    </tr>\n",
       "    <tr>\n",
       "      <th>61</th>\n",
       "      <td>Parent-Child Internet Addiction Test</td>\n",
       "      <td>PCIAT-PCIAT_07</td>\n",
       "      <td>How often does your child check his or her e-m...</td>\n",
       "      <td>categorical int</td>\n",
       "      <td>0,1,2,3,4,5</td>\n",
       "      <td>0=Does Not Apply, 1=Rarely, 2=Occasionally, 3=...</td>\n",
       "    </tr>\n",
       "    <tr>\n",
       "      <th>62</th>\n",
       "      <td>Parent-Child Internet Addiction Test</td>\n",
       "      <td>PCIAT-PCIAT_08</td>\n",
       "      <td>How often does your child seem withdrawn from ...</td>\n",
       "      <td>categorical int</td>\n",
       "      <td>0,1,2,3,4,5</td>\n",
       "      <td>0=Does Not Apply, 1=Rarely, 2=Occasionally, 3=...</td>\n",
       "    </tr>\n",
       "    <tr>\n",
       "      <th>63</th>\n",
       "      <td>Parent-Child Internet Addiction Test</td>\n",
       "      <td>PCIAT-PCIAT_09</td>\n",
       "      <td>How often does your child become defensive or ...</td>\n",
       "      <td>categorical int</td>\n",
       "      <td>0,1,2,3,4,5</td>\n",
       "      <td>0=Does Not Apply, 1=Rarely, 2=Occasionally, 3=...</td>\n",
       "    </tr>\n",
       "    <tr>\n",
       "      <th>64</th>\n",
       "      <td>Parent-Child Internet Addiction Test</td>\n",
       "      <td>PCIAT-PCIAT_10</td>\n",
       "      <td>How often have you caught your child sneaking ...</td>\n",
       "      <td>categorical int</td>\n",
       "      <td>0,1,2,3,4,5</td>\n",
       "      <td>0=Does Not Apply, 1=Rarely, 2=Occasionally, 3=...</td>\n",
       "    </tr>\n",
       "    <tr>\n",
       "      <th>65</th>\n",
       "      <td>Parent-Child Internet Addiction Test</td>\n",
       "      <td>PCIAT-PCIAT_11</td>\n",
       "      <td>How often does your child spend time along in ...</td>\n",
       "      <td>categorical int</td>\n",
       "      <td>0,1,2,3,4,5</td>\n",
       "      <td>0=Does Not Apply, 1=Rarely, 2=Occasionally, 3=...</td>\n",
       "    </tr>\n",
       "    <tr>\n",
       "      <th>66</th>\n",
       "      <td>Parent-Child Internet Addiction Test</td>\n",
       "      <td>PCIAT-PCIAT_12</td>\n",
       "      <td>How often does your child receive strange phon...</td>\n",
       "      <td>categorical int</td>\n",
       "      <td>0,1,2,3,4,5</td>\n",
       "      <td>0=Does Not Apply, 1=Rarely, 2=Occasionally, 3=...</td>\n",
       "    </tr>\n",
       "    <tr>\n",
       "      <th>67</th>\n",
       "      <td>Parent-Child Internet Addiction Test</td>\n",
       "      <td>PCIAT-PCIAT_13</td>\n",
       "      <td>How often does your child snap, yell, or act a...</td>\n",
       "      <td>categorical int</td>\n",
       "      <td>0,1,2,3,4,5</td>\n",
       "      <td>0=Does Not Apply, 1=Rarely, 2=Occasionally, 3=...</td>\n",
       "    </tr>\n",
       "    <tr>\n",
       "      <th>68</th>\n",
       "      <td>Parent-Child Internet Addiction Test</td>\n",
       "      <td>PCIAT-PCIAT_14</td>\n",
       "      <td>How often does your child seem more tired and ...</td>\n",
       "      <td>categorical int</td>\n",
       "      <td>0,1,2,3,4,5</td>\n",
       "      <td>0=Does Not Apply, 1=Rarely, 2=Occasionally, 3=...</td>\n",
       "    </tr>\n",
       "    <tr>\n",
       "      <th>69</th>\n",
       "      <td>Parent-Child Internet Addiction Test</td>\n",
       "      <td>PCIAT-PCIAT_15</td>\n",
       "      <td>How often does your child seem preoccupied wit...</td>\n",
       "      <td>categorical int</td>\n",
       "      <td>0,1,2,3,4,5</td>\n",
       "      <td>0=Does Not Apply, 1=Rarely, 2=Occasionally, 3=...</td>\n",
       "    </tr>\n",
       "    <tr>\n",
       "      <th>70</th>\n",
       "      <td>Parent-Child Internet Addiction Test</td>\n",
       "      <td>PCIAT-PCIAT_16</td>\n",
       "      <td>How often does your child throw tantrums with ...</td>\n",
       "      <td>categorical int</td>\n",
       "      <td>0,1,2,3,4,5</td>\n",
       "      <td>0=Does Not Apply, 1=Rarely, 2=Occasionally, 3=...</td>\n",
       "    </tr>\n",
       "    <tr>\n",
       "      <th>71</th>\n",
       "      <td>Parent-Child Internet Addiction Test</td>\n",
       "      <td>PCIAT-PCIAT_17</td>\n",
       "      <td>How often does your child choose to spend time...</td>\n",
       "      <td>categorical int</td>\n",
       "      <td>0,1,2,3,4,5</td>\n",
       "      <td>0=Does Not Apply, 1=Rarely, 2=Occasionally, 3=...</td>\n",
       "    </tr>\n",
       "    <tr>\n",
       "      <th>72</th>\n",
       "      <td>Parent-Child Internet Addiction Test</td>\n",
       "      <td>PCIAT-PCIAT_18</td>\n",
       "      <td>How often does your child become angry or bell...</td>\n",
       "      <td>categorical int</td>\n",
       "      <td>0,1,2,3,4,5</td>\n",
       "      <td>0=Does Not Apply, 1=Rarely, 2=Occasionally, 3=...</td>\n",
       "    </tr>\n",
       "    <tr>\n",
       "      <th>73</th>\n",
       "      <td>Parent-Child Internet Addiction Test</td>\n",
       "      <td>PCIAT-PCIAT_19</td>\n",
       "      <td>How often does your child choose to spend more...</td>\n",
       "      <td>categorical int</td>\n",
       "      <td>0,1,2,3,4,5</td>\n",
       "      <td>0=Does Not Apply, 1=Rarely, 2=Occasionally, 3=...</td>\n",
       "    </tr>\n",
       "    <tr>\n",
       "      <th>74</th>\n",
       "      <td>Parent-Child Internet Addiction Test</td>\n",
       "      <td>PCIAT-PCIAT_20</td>\n",
       "      <td>How often does your child feel depressed, mood...</td>\n",
       "      <td>categorical int</td>\n",
       "      <td>0,1,2,3,4,5</td>\n",
       "      <td>0=Does Not Apply, 1=Rarely, 2=Occasionally, 3=...</td>\n",
       "    </tr>\n",
       "    <tr>\n",
       "      <th>75</th>\n",
       "      <td>Parent-Child Internet Addiction Test</td>\n",
       "      <td>PCIAT-PCIAT_Total</td>\n",
       "      <td>Total Score</td>\n",
       "      <td>int</td>\n",
       "      <td>NaN</td>\n",
       "      <td>Severity Impairment Index: 0-30=None; 31-49=Mi...</td>\n",
       "    </tr>\n",
       "  </tbody>\n",
       "</table>\n",
       "</div>"
      ],
      "text/plain": [
       "                              Instrument              Field  \\\n",
       "54  Parent-Child Internet Addiction Test       PCIAT-Season   \n",
       "55  Parent-Child Internet Addiction Test     PCIAT-PCIAT_01   \n",
       "56  Parent-Child Internet Addiction Test     PCIAT-PCIAT_02   \n",
       "57  Parent-Child Internet Addiction Test     PCIAT-PCIAT_03   \n",
       "58  Parent-Child Internet Addiction Test     PCIAT-PCIAT_04   \n",
       "59  Parent-Child Internet Addiction Test     PCIAT-PCIAT_05   \n",
       "60  Parent-Child Internet Addiction Test     PCIAT-PCIAT_06   \n",
       "61  Parent-Child Internet Addiction Test     PCIAT-PCIAT_07   \n",
       "62  Parent-Child Internet Addiction Test     PCIAT-PCIAT_08   \n",
       "63  Parent-Child Internet Addiction Test     PCIAT-PCIAT_09   \n",
       "64  Parent-Child Internet Addiction Test     PCIAT-PCIAT_10   \n",
       "65  Parent-Child Internet Addiction Test     PCIAT-PCIAT_11   \n",
       "66  Parent-Child Internet Addiction Test     PCIAT-PCIAT_12   \n",
       "67  Parent-Child Internet Addiction Test     PCIAT-PCIAT_13   \n",
       "68  Parent-Child Internet Addiction Test     PCIAT-PCIAT_14   \n",
       "69  Parent-Child Internet Addiction Test     PCIAT-PCIAT_15   \n",
       "70  Parent-Child Internet Addiction Test     PCIAT-PCIAT_16   \n",
       "71  Parent-Child Internet Addiction Test     PCIAT-PCIAT_17   \n",
       "72  Parent-Child Internet Addiction Test     PCIAT-PCIAT_18   \n",
       "73  Parent-Child Internet Addiction Test     PCIAT-PCIAT_19   \n",
       "74  Parent-Child Internet Addiction Test     PCIAT-PCIAT_20   \n",
       "75  Parent-Child Internet Addiction Test  PCIAT-PCIAT_Total   \n",
       "\n",
       "                                          Description             Type  \\\n",
       "54                            Season of participation              str   \n",
       "55  How often does your child disobey time limits ...  categorical int   \n",
       "56  How often does your child neglect household ch...  categorical int   \n",
       "57  How often does your child prefer to spend time...  categorical int   \n",
       "58  How often does your child form new relationshi...  categorical int   \n",
       "59  How often do you complain about the amount of ...  categorical int   \n",
       "60  How often do your child's grades suffer becaus...  categorical int   \n",
       "61  How often does your child check his or her e-m...  categorical int   \n",
       "62  How often does your child seem withdrawn from ...  categorical int   \n",
       "63  How often does your child become defensive or ...  categorical int   \n",
       "64  How often have you caught your child sneaking ...  categorical int   \n",
       "65  How often does your child spend time along in ...  categorical int   \n",
       "66  How often does your child receive strange phon...  categorical int   \n",
       "67  How often does your child snap, yell, or act a...  categorical int   \n",
       "68  How often does your child seem more tired and ...  categorical int   \n",
       "69  How often does your child seem preoccupied wit...  categorical int   \n",
       "70  How often does your child throw tantrums with ...  categorical int   \n",
       "71  How often does your child choose to spend time...  categorical int   \n",
       "72  How often does your child become angry or bell...  categorical int   \n",
       "73  How often does your child choose to spend more...  categorical int   \n",
       "74  How often does your child feel depressed, mood...  categorical int   \n",
       "75                                        Total Score              int   \n",
       "\n",
       "                          Values  \\\n",
       "54  Spring, Summer, Fall, Winter   \n",
       "55                   0,1,2,3,4,5   \n",
       "56                   0,1,2,3,4,5   \n",
       "57                   0,1,2,3,4,5   \n",
       "58                   0,1,2,3,4,5   \n",
       "59                   0,1,2,3,4,5   \n",
       "60                   0,1,2,3,4,5   \n",
       "61                   0,1,2,3,4,5   \n",
       "62                   0,1,2,3,4,5   \n",
       "63                   0,1,2,3,4,5   \n",
       "64                   0,1,2,3,4,5   \n",
       "65                   0,1,2,3,4,5   \n",
       "66                   0,1,2,3,4,5   \n",
       "67                   0,1,2,3,4,5   \n",
       "68                   0,1,2,3,4,5   \n",
       "69                   0,1,2,3,4,5   \n",
       "70                   0,1,2,3,4,5   \n",
       "71                   0,1,2,3,4,5   \n",
       "72                   0,1,2,3,4,5   \n",
       "73                   0,1,2,3,4,5   \n",
       "74                   0,1,2,3,4,5   \n",
       "75                           NaN   \n",
       "\n",
       "                                         Value Labels  \n",
       "54                                                NaN  \n",
       "55  0=Does Not Apply, 1=Rarely, 2=Occasionally, 3=...  \n",
       "56  0=Does Not Apply, 1=Rarely, 2=Occasionally, 3=...  \n",
       "57  0=Does Not Apply, 1=Rarely, 2=Occasionally, 3=...  \n",
       "58  0=Does Not Apply, 1=Rarely, 2=Occasionally, 3=...  \n",
       "59  0=Does Not Apply, 1=Rarely, 2=Occasionally, 3=...  \n",
       "60  0=Does Not Apply, 1=Rarely, 2=Occasionally, 3=...  \n",
       "61  0=Does Not Apply, 1=Rarely, 2=Occasionally, 3=...  \n",
       "62  0=Does Not Apply, 1=Rarely, 2=Occasionally, 3=...  \n",
       "63  0=Does Not Apply, 1=Rarely, 2=Occasionally, 3=...  \n",
       "64  0=Does Not Apply, 1=Rarely, 2=Occasionally, 3=...  \n",
       "65  0=Does Not Apply, 1=Rarely, 2=Occasionally, 3=...  \n",
       "66  0=Does Not Apply, 1=Rarely, 2=Occasionally, 3=...  \n",
       "67  0=Does Not Apply, 1=Rarely, 2=Occasionally, 3=...  \n",
       "68  0=Does Not Apply, 1=Rarely, 2=Occasionally, 3=...  \n",
       "69  0=Does Not Apply, 1=Rarely, 2=Occasionally, 3=...  \n",
       "70  0=Does Not Apply, 1=Rarely, 2=Occasionally, 3=...  \n",
       "71  0=Does Not Apply, 1=Rarely, 2=Occasionally, 3=...  \n",
       "72  0=Does Not Apply, 1=Rarely, 2=Occasionally, 3=...  \n",
       "73  0=Does Not Apply, 1=Rarely, 2=Occasionally, 3=...  \n",
       "74  0=Does Not Apply, 1=Rarely, 2=Occasionally, 3=...  \n",
       "75  Severity Impairment Index: 0-30=None; 31-49=Mi...  "
      ]
     },
     "execution_count": 6,
     "metadata": {},
     "output_type": "execute_result"
    }
   ],
   "source": [
    "# isolating train-only features\n",
    "train_cols = set(train.columns)\n",
    "test_cols = set(test.columns)\n",
    "columns_not_in_test = sorted(list(train_cols - test_cols))\n",
    "\n",
    "# addind additional information using data dictionary\n",
    "data_dict[data_dict['Field'].isin(columns_not_in_test)]"
   ]
  },
  {
   "cell_type": "markdown",
   "id": "9426377e",
   "metadata": {
    "papermill": {
     "duration": 0.012762,
     "end_time": "2025-07-15T04:35:31.967521",
     "exception": false,
     "start_time": "2025-07-15T04:35:31.954759",
     "status": "completed"
    },
    "tags": []
   },
   "source": [
    "Here we see that each item in the Parent-Child Internet Addiction Test (PCIAT) is a question assessing a different aspect of a child's behavior related to internet use, with responses given on a scale from 0 to 5 - the total score, PCIAT_Total, indicates the severity of internet addiction. PCIAT_Total should directly align with SII, but let's verify this by calculating the minimum and maximum scores for each SII category."
   ]
  },
  {
   "cell_type": "code",
   "execution_count": 7,
   "id": "e5da18af",
   "metadata": {
    "execution": {
     "iopub.execute_input": "2025-07-15T04:35:31.995408Z",
     "iopub.status.busy": "2025-07-15T04:35:31.995099Z",
     "iopub.status.idle": "2025-07-15T04:35:32.012625Z",
     "shell.execute_reply": "2025-07-15T04:35:32.011707Z"
    },
    "papermill": {
     "duration": 0.033355,
     "end_time": "2025-07-15T04:35:32.013898",
     "exception": false,
     "start_time": "2025-07-15T04:35:31.980543",
     "status": "completed"
    },
    "tags": []
   },
   "outputs": [
    {
     "data": {
      "text/html": [
       "<div>\n",
       "<style scoped>\n",
       "    .dataframe tbody tr th:only-of-type {\n",
       "        vertical-align: middle;\n",
       "    }\n",
       "\n",
       "    .dataframe tbody tr th {\n",
       "        vertical-align: top;\n",
       "    }\n",
       "\n",
       "    .dataframe thead th {\n",
       "        text-align: right;\n",
       "    }\n",
       "</style>\n",
       "<table border=\"1\" class=\"dataframe\">\n",
       "  <thead>\n",
       "    <tr style=\"text-align: right;\">\n",
       "      <th></th>\n",
       "      <th>Minimum PCIAT total Score</th>\n",
       "      <th>Maximum total PCIAT Score</th>\n",
       "    </tr>\n",
       "    <tr>\n",
       "      <th>sii</th>\n",
       "      <th></th>\n",
       "      <th></th>\n",
       "    </tr>\n",
       "  </thead>\n",
       "  <tbody>\n",
       "    <tr>\n",
       "      <th>0.0</th>\n",
       "      <td>0.0</td>\n",
       "      <td>30.0</td>\n",
       "    </tr>\n",
       "    <tr>\n",
       "      <th>1.0</th>\n",
       "      <td>31.0</td>\n",
       "      <td>49.0</td>\n",
       "    </tr>\n",
       "    <tr>\n",
       "      <th>2.0</th>\n",
       "      <td>50.0</td>\n",
       "      <td>79.0</td>\n",
       "    </tr>\n",
       "    <tr>\n",
       "      <th>3.0</th>\n",
       "      <td>80.0</td>\n",
       "      <td>93.0</td>\n",
       "    </tr>\n",
       "  </tbody>\n",
       "</table>\n",
       "</div>"
      ],
      "text/plain": [
       "     Minimum PCIAT total Score  Maximum total PCIAT Score\n",
       "sii                                                      \n",
       "0.0                        0.0                       30.0\n",
       "1.0                       31.0                       49.0\n",
       "2.0                       50.0                       79.0\n",
       "3.0                       80.0                       93.0"
      ]
     },
     "metadata": {},
     "output_type": "display_data"
    },
    {
     "name": "stdout",
     "output_type": "stream",
     "text": [
      "Severity Impairment Index: 0-30=None; 31-49=Mild; 50-79=Moderate; 80-100=Severe\n"
     ]
    }
   ],
   "source": [
    "# calculate max and min\n",
    "pciat_min_max = train.groupby('sii', observed=True)['PCIAT-PCIAT_Total'].agg(['min', 'max'])\n",
    "pciat_min_max = pciat_min_max.rename(columns={'min': 'Minimum PCIAT total Score', 'max': 'Maximum total PCIAT Score'})\n",
    "display(pciat_min_max)\n",
    "\n",
    "# print range for each level of severity\n",
    "print(data_dict[data_dict['Field'] == 'PCIAT-PCIAT_Total']['Value Labels'].iloc[0])"
   ]
  },
  {
   "cell_type": "markdown",
   "id": "2a953738",
   "metadata": {
    "papermill": {
     "duration": 0.013256,
     "end_time": "2025-07-15T04:35:32.101519",
     "exception": false,
     "start_time": "2025-07-15T04:35:32.088263",
     "status": "completed"
    },
    "tags": []
   },
   "source": [
    "So essentially, the answers to the PCIAT questions are totaled, and each participant is given an SII of 0-3 based on the range of their total score. Simple!\n",
    "\n",
    "But wait, what about missing values? Say, for instance, a participant sees a question that *really hits close to home*, and they skip it. Maybe they skip many questions. How does the assessment account for this?"
   ]
  },
  {
   "cell_type": "code",
   "execution_count": 8,
   "id": "c9764851",
   "metadata": {
    "execution": {
     "iopub.execute_input": "2025-07-15T04:35:32.129179Z",
     "iopub.status.busy": "2025-07-15T04:35:32.128837Z",
     "iopub.status.idle": "2025-07-15T04:35:32.340331Z",
     "shell.execute_reply": "2025-07-15T04:35:32.339431Z"
    },
    "papermill": {
     "duration": 0.227011,
     "end_time": "2025-07-15T04:35:32.341846",
     "exception": false,
     "start_time": "2025-07-15T04:35:32.114835",
     "status": "completed"
    },
    "tags": []
   },
   "outputs": [
    {
     "data": {
      "text/html": [
       "<style type=\"text/css\">\n",
       "#T_f401a_row0_col18, #T_f401a_row1_col0, #T_f401a_row1_col1, #T_f401a_row1_col2, #T_f401a_row1_col3, #T_f401a_row1_col4, #T_f401a_row1_col5, #T_f401a_row1_col6, #T_f401a_row1_col7, #T_f401a_row1_col8, #T_f401a_row1_col9, #T_f401a_row1_col10, #T_f401a_row1_col11, #T_f401a_row1_col12, #T_f401a_row1_col13, #T_f401a_row1_col14, #T_f401a_row1_col15, #T_f401a_row1_col16, #T_f401a_row1_col17, #T_f401a_row1_col18, #T_f401a_row1_col19, #T_f401a_row2_col4, #T_f401a_row3_col16, #T_f401a_row4_col18 {\n",
       "  background-color: #FFC0CB;\n",
       "}\n",
       "</style>\n",
       "<table id=\"T_f401a\">\n",
       "  <thead>\n",
       "    <tr>\n",
       "      <th class=\"blank level0\" >&nbsp;</th>\n",
       "      <th id=\"T_f401a_level0_col0\" class=\"col_heading level0 col0\" >PCIAT-PCIAT_01</th>\n",
       "      <th id=\"T_f401a_level0_col1\" class=\"col_heading level0 col1\" >PCIAT-PCIAT_02</th>\n",
       "      <th id=\"T_f401a_level0_col2\" class=\"col_heading level0 col2\" >PCIAT-PCIAT_03</th>\n",
       "      <th id=\"T_f401a_level0_col3\" class=\"col_heading level0 col3\" >PCIAT-PCIAT_04</th>\n",
       "      <th id=\"T_f401a_level0_col4\" class=\"col_heading level0 col4\" >PCIAT-PCIAT_05</th>\n",
       "      <th id=\"T_f401a_level0_col5\" class=\"col_heading level0 col5\" >PCIAT-PCIAT_06</th>\n",
       "      <th id=\"T_f401a_level0_col6\" class=\"col_heading level0 col6\" >PCIAT-PCIAT_07</th>\n",
       "      <th id=\"T_f401a_level0_col7\" class=\"col_heading level0 col7\" >PCIAT-PCIAT_08</th>\n",
       "      <th id=\"T_f401a_level0_col8\" class=\"col_heading level0 col8\" >PCIAT-PCIAT_09</th>\n",
       "      <th id=\"T_f401a_level0_col9\" class=\"col_heading level0 col9\" >PCIAT-PCIAT_10</th>\n",
       "      <th id=\"T_f401a_level0_col10\" class=\"col_heading level0 col10\" >PCIAT-PCIAT_11</th>\n",
       "      <th id=\"T_f401a_level0_col11\" class=\"col_heading level0 col11\" >PCIAT-PCIAT_12</th>\n",
       "      <th id=\"T_f401a_level0_col12\" class=\"col_heading level0 col12\" >PCIAT-PCIAT_13</th>\n",
       "      <th id=\"T_f401a_level0_col13\" class=\"col_heading level0 col13\" >PCIAT-PCIAT_14</th>\n",
       "      <th id=\"T_f401a_level0_col14\" class=\"col_heading level0 col14\" >PCIAT-PCIAT_15</th>\n",
       "      <th id=\"T_f401a_level0_col15\" class=\"col_heading level0 col15\" >PCIAT-PCIAT_16</th>\n",
       "      <th id=\"T_f401a_level0_col16\" class=\"col_heading level0 col16\" >PCIAT-PCIAT_17</th>\n",
       "      <th id=\"T_f401a_level0_col17\" class=\"col_heading level0 col17\" >PCIAT-PCIAT_18</th>\n",
       "      <th id=\"T_f401a_level0_col18\" class=\"col_heading level0 col18\" >PCIAT-PCIAT_19</th>\n",
       "      <th id=\"T_f401a_level0_col19\" class=\"col_heading level0 col19\" >PCIAT-PCIAT_20</th>\n",
       "      <th id=\"T_f401a_level0_col20\" class=\"col_heading level0 col20\" >PCIAT-PCIAT_Total</th>\n",
       "      <th id=\"T_f401a_level0_col21\" class=\"col_heading level0 col21\" >PCIAT-Season</th>\n",
       "      <th id=\"T_f401a_level0_col22\" class=\"col_heading level0 col22\" >sii</th>\n",
       "    </tr>\n",
       "  </thead>\n",
       "  <tbody>\n",
       "    <tr>\n",
       "      <th id=\"T_f401a_level0_row0\" class=\"row_heading level0 row0\" >24</th>\n",
       "      <td id=\"T_f401a_row0_col0\" class=\"data row0 col0\" >2.000000</td>\n",
       "      <td id=\"T_f401a_row0_col1\" class=\"data row0 col1\" >2.000000</td>\n",
       "      <td id=\"T_f401a_row0_col2\" class=\"data row0 col2\" >3.000000</td>\n",
       "      <td id=\"T_f401a_row0_col3\" class=\"data row0 col3\" >1.000000</td>\n",
       "      <td id=\"T_f401a_row0_col4\" class=\"data row0 col4\" >2.000000</td>\n",
       "      <td id=\"T_f401a_row0_col5\" class=\"data row0 col5\" >1.000000</td>\n",
       "      <td id=\"T_f401a_row0_col6\" class=\"data row0 col6\" >1.000000</td>\n",
       "      <td id=\"T_f401a_row0_col7\" class=\"data row0 col7\" >1.000000</td>\n",
       "      <td id=\"T_f401a_row0_col8\" class=\"data row0 col8\" >2.000000</td>\n",
       "      <td id=\"T_f401a_row0_col9\" class=\"data row0 col9\" >1.000000</td>\n",
       "      <td id=\"T_f401a_row0_col10\" class=\"data row0 col10\" >2.000000</td>\n",
       "      <td id=\"T_f401a_row0_col11\" class=\"data row0 col11\" >1.000000</td>\n",
       "      <td id=\"T_f401a_row0_col12\" class=\"data row0 col12\" >2.000000</td>\n",
       "      <td id=\"T_f401a_row0_col13\" class=\"data row0 col13\" >1.000000</td>\n",
       "      <td id=\"T_f401a_row0_col14\" class=\"data row0 col14\" >1.000000</td>\n",
       "      <td id=\"T_f401a_row0_col15\" class=\"data row0 col15\" >2.000000</td>\n",
       "      <td id=\"T_f401a_row0_col16\" class=\"data row0 col16\" >1.000000</td>\n",
       "      <td id=\"T_f401a_row0_col17\" class=\"data row0 col17\" >2.000000</td>\n",
       "      <td id=\"T_f401a_row0_col18\" class=\"data row0 col18\" >nan</td>\n",
       "      <td id=\"T_f401a_row0_col19\" class=\"data row0 col19\" >2.000000</td>\n",
       "      <td id=\"T_f401a_row0_col20\" class=\"data row0 col20\" >30.000000</td>\n",
       "      <td id=\"T_f401a_row0_col21\" class=\"data row0 col21\" >Summer</td>\n",
       "      <td id=\"T_f401a_row0_col22\" class=\"data row0 col22\" >0.000000</td>\n",
       "    </tr>\n",
       "    <tr>\n",
       "      <th id=\"T_f401a_level0_row1\" class=\"row_heading level0 row1\" >93</th>\n",
       "      <td id=\"T_f401a_row1_col0\" class=\"data row1 col0\" >nan</td>\n",
       "      <td id=\"T_f401a_row1_col1\" class=\"data row1 col1\" >nan</td>\n",
       "      <td id=\"T_f401a_row1_col2\" class=\"data row1 col2\" >nan</td>\n",
       "      <td id=\"T_f401a_row1_col3\" class=\"data row1 col3\" >nan</td>\n",
       "      <td id=\"T_f401a_row1_col4\" class=\"data row1 col4\" >nan</td>\n",
       "      <td id=\"T_f401a_row1_col5\" class=\"data row1 col5\" >nan</td>\n",
       "      <td id=\"T_f401a_row1_col6\" class=\"data row1 col6\" >nan</td>\n",
       "      <td id=\"T_f401a_row1_col7\" class=\"data row1 col7\" >nan</td>\n",
       "      <td id=\"T_f401a_row1_col8\" class=\"data row1 col8\" >nan</td>\n",
       "      <td id=\"T_f401a_row1_col9\" class=\"data row1 col9\" >nan</td>\n",
       "      <td id=\"T_f401a_row1_col10\" class=\"data row1 col10\" >nan</td>\n",
       "      <td id=\"T_f401a_row1_col11\" class=\"data row1 col11\" >nan</td>\n",
       "      <td id=\"T_f401a_row1_col12\" class=\"data row1 col12\" >nan</td>\n",
       "      <td id=\"T_f401a_row1_col13\" class=\"data row1 col13\" >nan</td>\n",
       "      <td id=\"T_f401a_row1_col14\" class=\"data row1 col14\" >nan</td>\n",
       "      <td id=\"T_f401a_row1_col15\" class=\"data row1 col15\" >nan</td>\n",
       "      <td id=\"T_f401a_row1_col16\" class=\"data row1 col16\" >nan</td>\n",
       "      <td id=\"T_f401a_row1_col17\" class=\"data row1 col17\" >nan</td>\n",
       "      <td id=\"T_f401a_row1_col18\" class=\"data row1 col18\" >nan</td>\n",
       "      <td id=\"T_f401a_row1_col19\" class=\"data row1 col19\" >nan</td>\n",
       "      <td id=\"T_f401a_row1_col20\" class=\"data row1 col20\" >0.000000</td>\n",
       "      <td id=\"T_f401a_row1_col21\" class=\"data row1 col21\" >Fall</td>\n",
       "      <td id=\"T_f401a_row1_col22\" class=\"data row1 col22\" >0.000000</td>\n",
       "    </tr>\n",
       "    <tr>\n",
       "      <th id=\"T_f401a_level0_row2\" class=\"row_heading level0 row2\" >104</th>\n",
       "      <td id=\"T_f401a_row2_col0\" class=\"data row2 col0\" >5.000000</td>\n",
       "      <td id=\"T_f401a_row2_col1\" class=\"data row2 col1\" >2.000000</td>\n",
       "      <td id=\"T_f401a_row2_col2\" class=\"data row2 col2\" >4.000000</td>\n",
       "      <td id=\"T_f401a_row2_col3\" class=\"data row2 col3\" >2.000000</td>\n",
       "      <td id=\"T_f401a_row2_col4\" class=\"data row2 col4\" >nan</td>\n",
       "      <td id=\"T_f401a_row2_col5\" class=\"data row2 col5\" >2.000000</td>\n",
       "      <td id=\"T_f401a_row2_col6\" class=\"data row2 col6\" >2.000000</td>\n",
       "      <td id=\"T_f401a_row2_col7\" class=\"data row2 col7\" >2.000000</td>\n",
       "      <td id=\"T_f401a_row2_col8\" class=\"data row2 col8\" >1.000000</td>\n",
       "      <td id=\"T_f401a_row2_col9\" class=\"data row2 col9\" >2.000000</td>\n",
       "      <td id=\"T_f401a_row2_col10\" class=\"data row2 col10\" >1.000000</td>\n",
       "      <td id=\"T_f401a_row2_col11\" class=\"data row2 col11\" >1.000000</td>\n",
       "      <td id=\"T_f401a_row2_col12\" class=\"data row2 col12\" >2.000000</td>\n",
       "      <td id=\"T_f401a_row2_col13\" class=\"data row2 col13\" >2.000000</td>\n",
       "      <td id=\"T_f401a_row2_col14\" class=\"data row2 col14\" >3.000000</td>\n",
       "      <td id=\"T_f401a_row2_col15\" class=\"data row2 col15\" >3.000000</td>\n",
       "      <td id=\"T_f401a_row2_col16\" class=\"data row2 col16\" >3.000000</td>\n",
       "      <td id=\"T_f401a_row2_col17\" class=\"data row2 col17\" >3.000000</td>\n",
       "      <td id=\"T_f401a_row2_col18\" class=\"data row2 col18\" >3.000000</td>\n",
       "      <td id=\"T_f401a_row2_col19\" class=\"data row2 col19\" >2.000000</td>\n",
       "      <td id=\"T_f401a_row2_col20\" class=\"data row2 col20\" >45.000000</td>\n",
       "      <td id=\"T_f401a_row2_col21\" class=\"data row2 col21\" >Fall</td>\n",
       "      <td id=\"T_f401a_row2_col22\" class=\"data row2 col22\" >1.000000</td>\n",
       "    </tr>\n",
       "    <tr>\n",
       "      <th id=\"T_f401a_level0_row3\" class=\"row_heading level0 row3\" >141</th>\n",
       "      <td id=\"T_f401a_row3_col0\" class=\"data row3 col0\" >1.000000</td>\n",
       "      <td id=\"T_f401a_row3_col1\" class=\"data row3 col1\" >2.000000</td>\n",
       "      <td id=\"T_f401a_row3_col2\" class=\"data row3 col2\" >4.000000</td>\n",
       "      <td id=\"T_f401a_row3_col3\" class=\"data row3 col3\" >2.000000</td>\n",
       "      <td id=\"T_f401a_row3_col4\" class=\"data row3 col4\" >2.000000</td>\n",
       "      <td id=\"T_f401a_row3_col5\" class=\"data row3 col5\" >2.000000</td>\n",
       "      <td id=\"T_f401a_row3_col6\" class=\"data row3 col6\" >1.000000</td>\n",
       "      <td id=\"T_f401a_row3_col7\" class=\"data row3 col7\" >3.000000</td>\n",
       "      <td id=\"T_f401a_row3_col8\" class=\"data row3 col8\" >1.000000</td>\n",
       "      <td id=\"T_f401a_row3_col9\" class=\"data row3 col9\" >1.000000</td>\n",
       "      <td id=\"T_f401a_row3_col10\" class=\"data row3 col10\" >2.000000</td>\n",
       "      <td id=\"T_f401a_row3_col11\" class=\"data row3 col11\" >0.000000</td>\n",
       "      <td id=\"T_f401a_row3_col12\" class=\"data row3 col12\" >0.000000</td>\n",
       "      <td id=\"T_f401a_row3_col13\" class=\"data row3 col13\" >0.000000</td>\n",
       "      <td id=\"T_f401a_row3_col14\" class=\"data row3 col14\" >3.000000</td>\n",
       "      <td id=\"T_f401a_row3_col15\" class=\"data row3 col15\" >0.000000</td>\n",
       "      <td id=\"T_f401a_row3_col16\" class=\"data row3 col16\" >nan</td>\n",
       "      <td id=\"T_f401a_row3_col17\" class=\"data row3 col17\" >0.000000</td>\n",
       "      <td id=\"T_f401a_row3_col18\" class=\"data row3 col18\" >2.000000</td>\n",
       "      <td id=\"T_f401a_row3_col19\" class=\"data row3 col19\" >0.000000</td>\n",
       "      <td id=\"T_f401a_row3_col20\" class=\"data row3 col20\" >26.000000</td>\n",
       "      <td id=\"T_f401a_row3_col21\" class=\"data row3 col21\" >Winter</td>\n",
       "      <td id=\"T_f401a_row3_col22\" class=\"data row3 col22\" >0.000000</td>\n",
       "    </tr>\n",
       "    <tr>\n",
       "      <th id=\"T_f401a_level0_row4\" class=\"row_heading level0 row4\" >142</th>\n",
       "      <td id=\"T_f401a_row4_col0\" class=\"data row4 col0\" >2.000000</td>\n",
       "      <td id=\"T_f401a_row4_col1\" class=\"data row4 col1\" >2.000000</td>\n",
       "      <td id=\"T_f401a_row4_col2\" class=\"data row4 col2\" >2.000000</td>\n",
       "      <td id=\"T_f401a_row4_col3\" class=\"data row4 col3\" >1.000000</td>\n",
       "      <td id=\"T_f401a_row4_col4\" class=\"data row4 col4\" >2.000000</td>\n",
       "      <td id=\"T_f401a_row4_col5\" class=\"data row4 col5\" >1.000000</td>\n",
       "      <td id=\"T_f401a_row4_col6\" class=\"data row4 col6\" >2.000000</td>\n",
       "      <td id=\"T_f401a_row4_col7\" class=\"data row4 col7\" >1.000000</td>\n",
       "      <td id=\"T_f401a_row4_col8\" class=\"data row4 col8\" >1.000000</td>\n",
       "      <td id=\"T_f401a_row4_col9\" class=\"data row4 col9\" >1.000000</td>\n",
       "      <td id=\"T_f401a_row4_col10\" class=\"data row4 col10\" >3.000000</td>\n",
       "      <td id=\"T_f401a_row4_col11\" class=\"data row4 col11\" >0.000000</td>\n",
       "      <td id=\"T_f401a_row4_col12\" class=\"data row4 col12\" >2.000000</td>\n",
       "      <td id=\"T_f401a_row4_col13\" class=\"data row4 col13\" >1.000000</td>\n",
       "      <td id=\"T_f401a_row4_col14\" class=\"data row4 col14\" >1.000000</td>\n",
       "      <td id=\"T_f401a_row4_col15\" class=\"data row4 col15\" >1.000000</td>\n",
       "      <td id=\"T_f401a_row4_col16\" class=\"data row4 col16\" >1.000000</td>\n",
       "      <td id=\"T_f401a_row4_col17\" class=\"data row4 col17\" >1.000000</td>\n",
       "      <td id=\"T_f401a_row4_col18\" class=\"data row4 col18\" >nan</td>\n",
       "      <td id=\"T_f401a_row4_col19\" class=\"data row4 col19\" >1.000000</td>\n",
       "      <td id=\"T_f401a_row4_col20\" class=\"data row4 col20\" >26.000000</td>\n",
       "      <td id=\"T_f401a_row4_col21\" class=\"data row4 col21\" >Spring</td>\n",
       "      <td id=\"T_f401a_row4_col22\" class=\"data row4 col22\" >0.000000</td>\n",
       "    </tr>\n",
       "  </tbody>\n",
       "</table>\n"
      ],
      "text/plain": [
       "<pandas.io.formats.style.Styler at 0x7b98d0382b10>"
      ]
     },
     "execution_count": 8,
     "metadata": {},
     "output_type": "execute_result"
    }
   ],
   "source": [
    "# display section with missing values highlighted\n",
    "train_with_sii = train[train['sii'].notna()][columns_not_in_test]\n",
    "train_with_sii[train_with_sii.isna().any(axis=1)].head().style.map(lambda x: 'background-color: #FFC0CB' if pd.isna(x) else '')"
   ]
  },
  {
   "cell_type": "markdown",
   "id": "49ba2cd4",
   "metadata": {
    "papermill": {
     "duration": 0.015044,
     "end_time": "2025-07-15T04:35:32.371043",
     "exception": false,
     "start_time": "2025-07-15T04:35:32.355999",
     "status": "completed"
    },
    "tags": []
   },
   "source": [
    "**The problem:** the SII score is calculated by adding together all of the *non-NA* (non-empty) values in the test, meaning a participant can ignore every question (like the second participant) and still get a score of 0. Entries like this are obviously not reliable, and will skew the results. We can assume then that the SII score can sometimes be incorrect.\n",
    "\n",
    "We can address this though, by recalculating the SII scores ourselves based on the maximum possible PCIAT_Total score *IF* missing values were answered. That way, participants who skip the survey will not be labeled as having no severity, but will instead be given a \"missing\" label."
   ]
  },
  {
   "cell_type": "code",
   "execution_count": 9,
   "id": "9fc49433",
   "metadata": {
    "execution": {
     "iopub.execute_input": "2025-07-15T04:35:32.400108Z",
     "iopub.status.busy": "2025-07-15T04:35:32.399508Z",
     "iopub.status.idle": "2025-07-15T04:35:33.531916Z",
     "shell.execute_reply": "2025-07-15T04:35:33.531051Z"
    },
    "papermill": {
     "duration": 1.149122,
     "end_time": "2025-07-15T04:35:33.533793",
     "exception": false,
     "start_time": "2025-07-15T04:35:32.384671",
     "status": "completed"
    },
    "tags": []
   },
   "outputs": [],
   "source": [
    "# isolate PCIAT columns\n",
    "PCIAT_cols = [f'PCIAT-PCIAT_{i+1:02d}' for i in range(20)]\n",
    "\n",
    "# define function to recalculate SII accounting for missing PCIAT values\n",
    "def recalculate_sii(row):\n",
    "    if pd.isna(row['PCIAT-PCIAT_Total']):\n",
    "        return np.nan\n",
    "    max_possible = row['PCIAT-PCIAT_Total'] + row[PCIAT_cols].isna().sum() * 5\n",
    "    if row['PCIAT-PCIAT_Total'] <= 30 and max_possible <= 30:\n",
    "        return 0\n",
    "    elif 31 <= row['PCIAT-PCIAT_Total'] <= 49 and max_possible <= 49:\n",
    "        return 1\n",
    "    elif 50 <= row['PCIAT-PCIAT_Total'] <= 79 and max_possible <= 79:\n",
    "        return 2\n",
    "    elif row['PCIAT-PCIAT_Total'] >= 80 and max_possible >= 80:\n",
    "        return 3\n",
    "    return np.nan\n",
    "train['recalc_sii'] = train.apply(recalculate_sii, axis=1)\n",
    "\n",
    "# overwriting SII with recalc_SII and adding labels 'missing', 'none', 'mild', 'moderate', 'severe'\n",
    "train['sii'] = train['recalc_sii']\n",
    "train['complete_resp_total'] = train['PCIAT-PCIAT_Total'].where(train[PCIAT_cols].notna().all(axis=1), np.nan)\n",
    "sii_map = {0: '0 (None)', 1: '1 (Mild)', 2: '2 (Moderate)', 3: '3 (Severe)'}\n",
    "train['sii'] = train['sii'].map(sii_map).fillna('Missing')\n",
    "sii_order = ['Missing', '0 (None)', '1 (Mild)', '2 (Moderate)', '3 (Severe)']\n",
    "train['sii'] = pd.Categorical(train['sii'], categories=sii_order, ordered=True)\n",
    "train.drop(columns='recalc_sii', inplace=True)"
   ]
  },
  {
   "cell_type": "markdown",
   "id": "a1876881",
   "metadata": {
    "papermill": {
     "duration": 0.013425,
     "end_time": "2025-07-15T04:35:33.561601",
     "exception": false,
     "start_time": "2025-07-15T04:35:33.548176",
     "status": "completed"
    },
    "tags": []
   },
   "source": [
    "Now with our SII values recalculated and updated, we can remove all duplicate rows, and all rows with \"missing\" in the SII column.\n",
    "\n",
    "**Why?** Well, we don't want to train our model on values that aren't there."
   ]
  },
  {
   "cell_type": "code",
   "execution_count": 10,
   "id": "84ed43d7",
   "metadata": {
    "execution": {
     "iopub.execute_input": "2025-07-15T04:35:33.590266Z",
     "iopub.status.busy": "2025-07-15T04:35:33.589636Z",
     "iopub.status.idle": "2025-07-15T04:35:33.617229Z",
     "shell.execute_reply": "2025-07-15T04:35:33.616192Z"
    },
    "papermill": {
     "duration": 0.043642,
     "end_time": "2025-07-15T04:35:33.618796",
     "exception": false,
     "start_time": "2025-07-15T04:35:33.575154",
     "status": "completed"
    },
    "tags": []
   },
   "outputs": [
    {
     "name": "stdout",
     "output_type": "stream",
     "text": [
      "Removed 1241 rows with 'Missing' SII values.\n",
      "Train shape: (2719, 83)\n",
      "Duplicate rows: 0\n"
     ]
    }
   ],
   "source": [
    "# remove rows with no SII\n",
    "initial_rows = len(train)\n",
    "train = train[train['sii'] != 'Missing']\n",
    "train['sii'] = train['sii'].cat.remove_unused_categories()\n",
    "removed_rows = initial_rows - len(train)\n",
    "print(f\"Removed {removed_rows} rows with 'Missing' SII values.\")\n",
    "print(f\"Train shape: {train.shape}\")\n",
    "\n",
    "# check for/ remove duplicate rows (if present)\n",
    "duplicate_count = train.duplicated().sum()\n",
    "print(f\"Duplicate rows: {duplicate_count}\")"
   ]
  },
  {
   "cell_type": "markdown",
   "id": "e596aecb",
   "metadata": {
    "papermill": {
     "duration": 0.014057,
     "end_time": "2025-07-15T04:35:33.647387",
     "exception": false,
     "start_time": "2025-07-15T04:35:33.633330",
     "status": "completed"
    },
    "tags": []
   },
   "source": [
    "Finally, before we start creating visualizations, let's define a helper function for generating summary statistics for any given column - this will come in handy during analysis."
   ]
  },
  {
   "cell_type": "code",
   "execution_count": 11,
   "id": "8549960a",
   "metadata": {
    "execution": {
     "iopub.execute_input": "2025-07-15T04:35:33.676778Z",
     "iopub.status.busy": "2025-07-15T04:35:33.676483Z",
     "iopub.status.idle": "2025-07-15T04:35:33.683307Z",
     "shell.execute_reply": "2025-07-15T04:35:33.682379Z"
    },
    "papermill": {
     "duration": 0.023393,
     "end_time": "2025-07-15T04:35:33.684768",
     "exception": false,
     "start_time": "2025-07-15T04:35:33.661375",
     "status": "completed"
    },
    "tags": []
   },
   "outputs": [],
   "source": [
    "# define helper function for gathering information from given column(s)\n",
    "def calculate_stats(data, columns):\n",
    "    if isinstance(columns, str):\n",
    "        columns = [columns]\n",
    "    stats = []\n",
    "    for col in columns:\n",
    "        if data[col].dtype in ['object', 'category']:\n",
    "            counts = data[col].value_counts(dropna=False, sort=False)\n",
    "            percents = data[col].value_counts(normalize=True, dropna=False, sort=False) * 100\n",
    "            formatted = counts.astype(str) + ' (' + percents.round(2).astype(str) + '%)'\n",
    "            stats_col = pd.DataFrame({'count (%)': formatted})\n",
    "            stats.append(stats_col)\n",
    "        else:\n",
    "            stats_col = data[col].describe().to_frame().transpose()\n",
    "            stats_col['missing'] = data[col].isnull().sum()\n",
    "            stats_col.index.name = col\n",
    "            stats.append(stats_col)\n",
    "    return pd.concat(stats, axis=0)"
   ]
  },
  {
   "cell_type": "markdown",
   "id": "94b54728",
   "metadata": {
    "papermill": {
     "duration": 0.015958,
     "end_time": "2025-07-15T04:35:33.716083",
     "exception": false,
     "start_time": "2025-07-15T04:35:33.700125",
     "status": "completed"
    },
    "tags": []
   },
   "source": [
    "🖼️ ***With that, it's time to start visualizing!***\n",
    "\n",
    "First, let's view the distributions for the target variable SII, as well as for the corresponding PCIAT scores."
   ]
  },
  {
   "cell_type": "code",
   "execution_count": 12,
   "id": "fb5f75f4",
   "metadata": {
    "execution": {
     "iopub.execute_input": "2025-07-15T04:35:33.745252Z",
     "iopub.status.busy": "2025-07-15T04:35:33.744896Z",
     "iopub.status.idle": "2025-07-15T04:35:34.222085Z",
     "shell.execute_reply": "2025-07-15T04:35:34.221189Z"
    },
    "papermill": {
     "duration": 0.493757,
     "end_time": "2025-07-15T04:35:34.223900",
     "exception": false,
     "start_time": "2025-07-15T04:35:33.730143",
     "status": "completed"
    },
    "tags": []
   },
   "outputs": [
    {
     "data": {
      "image/png": "[encoded data removed]",
      "text/plain": [
       "<Figure size 1400x500 with 2 Axes>"
      ]
     },
     "metadata": {},
     "output_type": "display_data"
    }
   ],
   "source": [
    "warnings.filterwarnings(\"ignore\", message=\".*use_inf_as_na option is deprecated.*\")\n",
    "\n",
    "# helper variables for EDA\n",
    "sii_counts = train['sii'].value_counts().reset_index()\n",
    "sii_counts.columns = ['SII', 'Count']\n",
    "total = sii_counts['Count'].sum()\n",
    "sii_counts['percentage'] = (sii_counts['Count'] / total) * 100\n",
    "fig, axes = plt.subplots(1, 2, figsize=(14, 5))\n",
    "\n",
    "# generate custom color pallete: bright yellow, lavender, mint green, light pink, sky blue\n",
    "custom_palette = ['#FFFB46', '#E2A0FF', '#B7FFD8', '#FFC1CF', '#C4F5FC']\n",
    "\n",
    "# create pie chart: distribution of participant SII\n",
    "axes[0].pie(sii_counts['Count'], labels=sii_counts['SII'], autopct='%1.1f%%', colors=custom_palette, startangle=140, wedgeprops={'edgecolor': 'black'})\n",
    "axes[0].set_title('Distribution of Severity Impairment Index (SII)', fontsize=14)\n",
    "axes[0].axis('equal')\n",
    "\n",
    "# create histogram: distribution of participant PCIAT_Total\n",
    "sns.histplot(train['complete_resp_total'].dropna(), bins=20, color='#E2A0FF', ax=axes[1])\n",
    "axes[1].set_title('Distribution of PCIAT_Total', fontsize=14)\n",
    "axes[1].set_xlabel('PCIAT_Total')\n",
    "axes[1].set_ylabel('Participants')\n",
    "plt.tight_layout()\n",
    "plt.show()"
   ]
  },
  {
   "cell_type": "markdown",
   "id": "be752e14",
   "metadata": {
    "papermill": {
     "duration": 0.015104,
     "end_time": "2025-07-15T04:35:34.254732",
     "exception": false,
     "start_time": "2025-07-15T04:35:34.239628",
     "status": "completed"
    },
    "tags": []
   },
   "source": [
    "A couple things here - first, we can see that about 60% of participants have an SII score of 0, which we can basically interpret as, 60% of participants reporting that they are not impaired by internet use whatsoever. *Yeah, doubtful.* Following that, 26% are mildly impaired, and only a little over 1% are severely impaired. PCIAT scores seem to mostly follow a normal curve, with obvious exception being the giant spike at 0. With reasonable assurance, we can assume that the self-reported format of the assessment has led to some responses that are... *disingenuous,* to say the least.\n",
    "\n",
    "But, let us in this moment give humanity the benefit of the doubt and proceed with our analysis. Next we'll use our handy **calculate_stats** funtion to take a look at some basic participant demographics like age and sex, and see how SII distributes over these metrics."
   ]
  },
  {
   "cell_type": "code",
   "execution_count": 13,
   "id": "903a8ca4",
   "metadata": {
    "execution": {
     "iopub.execute_input": "2025-07-15T04:35:34.287454Z",
     "iopub.status.busy": "2025-07-15T04:35:34.286532Z",
     "iopub.status.idle": "2025-07-15T04:35:34.304561Z",
     "shell.execute_reply": "2025-07-15T04:35:34.303656Z"
    },
    "papermill": {
     "duration": 0.036,
     "end_time": "2025-07-15T04:35:34.306002",
     "exception": false,
     "start_time": "2025-07-15T04:35:34.270002",
     "status": "completed"
    },
    "tags": []
   },
   "outputs": [
    {
     "data": {
      "text/html": [
       "<div>\n",
       "<style scoped>\n",
       "    .dataframe tbody tr th:only-of-type {\n",
       "        vertical-align: middle;\n",
       "    }\n",
       "\n",
       "    .dataframe tbody tr th {\n",
       "        vertical-align: top;\n",
       "    }\n",
       "\n",
       "    .dataframe thead th {\n",
       "        text-align: right;\n",
       "    }\n",
       "</style>\n",
       "<table border=\"1\" class=\"dataframe\">\n",
       "  <thead>\n",
       "    <tr style=\"text-align: right;\">\n",
       "      <th></th>\n",
       "      <th>count (%)</th>\n",
       "    </tr>\n",
       "    <tr>\n",
       "      <th>Age Group</th>\n",
       "      <th></th>\n",
       "    </tr>\n",
       "  </thead>\n",
       "  <tbody>\n",
       "    <tr>\n",
       "      <th>Children (5-12)</th>\n",
       "      <td>2061 (75.8%)</td>\n",
       "    </tr>\n",
       "    <tr>\n",
       "      <th>Adolescents (13-18)</th>\n",
       "      <td>623 (22.91%)</td>\n",
       "    </tr>\n",
       "    <tr>\n",
       "      <th>Adults (19-22)</th>\n",
       "      <td>35 (1.29%)</td>\n",
       "    </tr>\n",
       "  </tbody>\n",
       "</table>\n",
       "</div>"
      ],
      "text/plain": [
       "                        count (%)\n",
       "Age Group                        \n",
       "Children (5-12)      2061 (75.8%)\n",
       "Adolescents (13-18)  623 (22.91%)\n",
       "Adults (19-22)         35 (1.29%)"
      ]
     },
     "execution_count": 13,
     "metadata": {},
     "output_type": "execute_result"
    }
   ],
   "source": [
    "assert train['Basic_Demos-Age'].isna().sum() == 0\n",
    "assert train['Basic_Demos-Sex'].isna().sum() == 0\n",
    "\n",
    "# create table: distribution of participant Age Group\n",
    "train['Age Group'] = pd.cut(train['Basic_Demos-Age'], bins=[4, 12, 18, 22], labels=['Children (5-12)', 'Adolescents (13-18)', 'Adults (19-22)'])\n",
    "calculate_stats(train, 'Age Group')"
   ]
  },
  {
   "cell_type": "code",
   "execution_count": 14,
   "id": "acc32891",
   "metadata": {
    "execution": {
     "iopub.execute_input": "2025-07-15T04:35:34.338721Z",
     "iopub.status.busy": "2025-07-15T04:35:34.338158Z",
     "iopub.status.idle": "2025-07-15T04:35:34.349138Z",
     "shell.execute_reply": "2025-07-15T04:35:34.348281Z"
    },
    "papermill": {
     "duration": 0.028712,
     "end_time": "2025-07-15T04:35:34.350485",
     "exception": false,
     "start_time": "2025-07-15T04:35:34.321773",
     "status": "completed"
    },
    "tags": []
   },
   "outputs": [
    {
     "data": {
      "text/html": [
       "<div>\n",
       "<style scoped>\n",
       "    .dataframe tbody tr th:only-of-type {\n",
       "        vertical-align: middle;\n",
       "    }\n",
       "\n",
       "    .dataframe tbody tr th {\n",
       "        vertical-align: top;\n",
       "    }\n",
       "\n",
       "    .dataframe thead th {\n",
       "        text-align: right;\n",
       "    }\n",
       "</style>\n",
       "<table border=\"1\" class=\"dataframe\">\n",
       "  <thead>\n",
       "    <tr style=\"text-align: right;\">\n",
       "      <th></th>\n",
       "      <th>count (%)</th>\n",
       "    </tr>\n",
       "    <tr>\n",
       "      <th>Basic_Demos-Sex</th>\n",
       "      <th></th>\n",
       "    </tr>\n",
       "  </thead>\n",
       "  <tbody>\n",
       "    <tr>\n",
       "      <th>Male</th>\n",
       "      <td>1729 (63.59%)</td>\n",
       "    </tr>\n",
       "    <tr>\n",
       "      <th>Female</th>\n",
       "      <td>990 (36.41%)</td>\n",
       "    </tr>\n",
       "  </tbody>\n",
       "</table>\n",
       "</div>"
      ],
      "text/plain": [
       "                     count (%)\n",
       "Basic_Demos-Sex               \n",
       "Male             1729 (63.59%)\n",
       "Female            990 (36.41%)"
      ]
     },
     "execution_count": 14,
     "metadata": {},
     "output_type": "execute_result"
    }
   ],
   "source": [
    "# create table: distribution of participant Sex\n",
    "sex_map = {0: 'Male', 1: 'Female'}\n",
    "train['Basic_Demos-Sex'] = train['Basic_Demos-Sex'].map(sex_map)\n",
    "calculate_stats(train, 'Basic_Demos-Sex')"
   ]
  },
  {
   "cell_type": "code",
   "execution_count": 15,
   "id": "d653b58c",
   "metadata": {
    "execution": {
     "iopub.execute_input": "2025-07-15T04:35:34.383485Z",
     "iopub.status.busy": "2025-07-15T04:35:34.383191Z",
     "iopub.status.idle": "2025-07-15T04:35:34.408475Z",
     "shell.execute_reply": "2025-07-15T04:35:34.407702Z"
    },
    "papermill": {
     "duration": 0.043185,
     "end_time": "2025-07-15T04:35:34.409820",
     "exception": false,
     "start_time": "2025-07-15T04:35:34.366635",
     "status": "completed"
    },
    "tags": []
   },
   "outputs": [
    {
     "data": {
      "text/html": [
       "<div>\n",
       "<style scoped>\n",
       "    .dataframe tbody tr th:only-of-type {\n",
       "        vertical-align: middle;\n",
       "    }\n",
       "\n",
       "    .dataframe tbody tr th {\n",
       "        vertical-align: top;\n",
       "    }\n",
       "\n",
       "    .dataframe thead th {\n",
       "        text-align: right;\n",
       "    }\n",
       "</style>\n",
       "<table border=\"1\" class=\"dataframe\">\n",
       "  <thead>\n",
       "    <tr style=\"text-align: right;\">\n",
       "      <th>sii</th>\n",
       "      <th>0 (None)</th>\n",
       "      <th>1 (Mild)</th>\n",
       "      <th>2 (Moderate)</th>\n",
       "      <th>3 (Severe)</th>\n",
       "    </tr>\n",
       "    <tr>\n",
       "      <th>Age Group</th>\n",
       "      <th></th>\n",
       "      <th></th>\n",
       "      <th></th>\n",
       "      <th></th>\n",
       "    </tr>\n",
       "  </thead>\n",
       "  <tbody>\n",
       "    <tr>\n",
       "      <th>Children (5-12)</th>\n",
       "      <td>1359 (65.9%)</td>\n",
       "      <td>493 (23.9%)</td>\n",
       "      <td>203 (9.8%)</td>\n",
       "      <td>6 (0.3%)</td>\n",
       "    </tr>\n",
       "    <tr>\n",
       "      <th>Adolescents (13-18)</th>\n",
       "      <td>211 (33.9%)</td>\n",
       "      <td>217 (34.8%)</td>\n",
       "      <td>169 (27.1%)</td>\n",
       "      <td>26 (4.2%)</td>\n",
       "    </tr>\n",
       "    <tr>\n",
       "      <th>Adults (19-22)</th>\n",
       "      <td>16 (45.7%)</td>\n",
       "      <td>12 (34.3%)</td>\n",
       "      <td>5 (14.3%)</td>\n",
       "      <td>2 (5.7%)</td>\n",
       "    </tr>\n",
       "  </tbody>\n",
       "</table>\n",
       "</div>"
      ],
      "text/plain": [
       "sii                      0 (None)     1 (Mild) 2 (Moderate) 3 (Severe)\n",
       "Age Group                                                             \n",
       "Children (5-12)      1359 (65.9%)  493 (23.9%)   203 (9.8%)   6 (0.3%)\n",
       "Adolescents (13-18)   211 (33.9%)  217 (34.8%)  169 (27.1%)  26 (4.2%)\n",
       "Adults (19-22)         16 (45.7%)   12 (34.3%)    5 (14.3%)   2 (5.7%)"
      ]
     },
     "execution_count": 15,
     "metadata": {},
     "output_type": "execute_result"
    }
   ],
   "source": [
    "# create table: distribution of SII by Age Group\n",
    "stats_age = train.groupby(['Age Group', 'sii'], observed=False).size().unstack(fill_value=0)\n",
    "stats_age_prop = stats_age.div(stats_age.sum(axis=1), axis=0) * 100\n",
    "stats_age = stats_age.astype(str) +' (' + stats_age_prop.round(1).astype(str) + '%)'\n",
    "stats_age"
   ]
  },
  {
   "cell_type": "code",
   "execution_count": 16,
   "id": "f723fa97",
   "metadata": {
    "execution": {
     "iopub.execute_input": "2025-07-15T04:35:34.442917Z",
     "iopub.status.busy": "2025-07-15T04:35:34.442629Z",
     "iopub.status.idle": "2025-07-15T04:35:34.458911Z",
     "shell.execute_reply": "2025-07-15T04:35:34.458136Z"
    },
    "papermill": {
     "duration": 0.034517,
     "end_time": "2025-07-15T04:35:34.460359",
     "exception": false,
     "start_time": "2025-07-15T04:35:34.425842",
     "status": "completed"
    },
    "tags": []
   },
   "outputs": [
    {
     "data": {
      "text/html": [
       "<div>\n",
       "<style scoped>\n",
       "    .dataframe tbody tr th:only-of-type {\n",
       "        vertical-align: middle;\n",
       "    }\n",
       "\n",
       "    .dataframe tbody tr th {\n",
       "        vertical-align: top;\n",
       "    }\n",
       "\n",
       "    .dataframe thead th {\n",
       "        text-align: right;\n",
       "    }\n",
       "</style>\n",
       "<table border=\"1\" class=\"dataframe\">\n",
       "  <thead>\n",
       "    <tr style=\"text-align: right;\">\n",
       "      <th>sii</th>\n",
       "      <th>0 (None)</th>\n",
       "      <th>1 (Mild)</th>\n",
       "      <th>2 (Moderate)</th>\n",
       "      <th>3 (Severe)</th>\n",
       "    </tr>\n",
       "    <tr>\n",
       "      <th>Basic_Demos-Sex</th>\n",
       "      <th></th>\n",
       "      <th></th>\n",
       "      <th></th>\n",
       "      <th></th>\n",
       "    </tr>\n",
       "  </thead>\n",
       "  <tbody>\n",
       "    <tr>\n",
       "      <th>Female</th>\n",
       "      <td>634 (64.0%)</td>\n",
       "      <td>247 (24.9%)</td>\n",
       "      <td>101 (10.2%)</td>\n",
       "      <td>8 (0.8%)</td>\n",
       "    </tr>\n",
       "    <tr>\n",
       "      <th>Male</th>\n",
       "      <td>952 (55.1%)</td>\n",
       "      <td>475 (27.5%)</td>\n",
       "      <td>276 (16.0%)</td>\n",
       "      <td>26 (1.5%)</td>\n",
       "    </tr>\n",
       "  </tbody>\n",
       "</table>\n",
       "</div>"
      ],
      "text/plain": [
       "sii                 0 (None)     1 (Mild) 2 (Moderate) 3 (Severe)\n",
       "Basic_Demos-Sex                                                  \n",
       "Female           634 (64.0%)  247 (24.9%)  101 (10.2%)   8 (0.8%)\n",
       "Male             952 (55.1%)  475 (27.5%)  276 (16.0%)  26 (1.5%)"
      ]
     },
     "execution_count": 16,
     "metadata": {},
     "output_type": "execute_result"
    }
   ],
   "source": [
    "# create table: distribution of SII by Sex\n",
    "stats_sex = train.groupby(['Basic_Demos-Sex', 'sii'], observed=False).size().unstack(fill_value=0)\n",
    "stats_sex_prop = stats_sex.div(stats_sex.sum(axis=1), axis=0) * 100\n",
    "stats_sex = stats_sex.astype(str) +' (' + stats_sex_prop.round(1).astype(str) + '%)'\n",
    "stats_sex"
   ]
  },
  {
   "cell_type": "markdown",
   "id": "b642b901",
   "metadata": {
    "papermill": {
     "duration": 0.015909,
     "end_time": "2025-07-15T04:35:34.492424",
     "exception": false,
     "start_time": "2025-07-15T04:35:34.476515",
     "status": "completed"
    },
    "tags": []
   },
   "source": [
    "The tables show us that the majority of the participants are children, with fewer adolescents and very few adults. The participant pool is also interestingly two-thirds male, **which is significant - this means the model will be essentially gender-biased.** It is plausible that this was intentional by the institute.\n",
    "\n",
    "The distribution of SII scores for the \"children\" and \"adults\" groups is skewed towards lower values, while scores for adolescents are relatively balanced across the categories, following something of a reverse-U shape. We also might notice that there are significantly more severe cases for males, but considering the sample is heavily skewed male, the differences between SII distribution in males and females are likely not significant."
   ]
  },
  {
   "cell_type": "markdown",
   "id": "c4ea6b49",
   "metadata": {
    "papermill": {
     "duration": 0.01587,
     "end_time": "2025-07-15T04:35:34.524358",
     "exception": false,
     "start_time": "2025-07-15T04:35:34.508488",
     "status": "completed"
    },
    "tags": []
   },
   "source": [
    "📲 ***Internet Use:***\n",
    "\n",
    "You might have noticed in our data samples a variable called \"PreInt_EduHx-computerinternet_hoursday\". This measures the number of hours participants spend on the internet per day - naturally, since we are investigating internet addiction, this variable warrants some deeper analysis. Let us first take a look at how long different age groups spend online."
   ]
  },
  {
   "cell_type": "code",
   "execution_count": 17,
   "id": "23ef3f94",
   "metadata": {
    "execution": {
     "iopub.execute_input": "2025-07-15T04:35:34.558072Z",
     "iopub.status.busy": "2025-07-15T04:35:34.557711Z",
     "iopub.status.idle": "2025-07-15T04:35:35.193378Z",
     "shell.execute_reply": "2025-07-15T04:35:35.192476Z"
    },
    "papermill": {
     "duration": 0.654231,
     "end_time": "2025-07-15T04:35:35.194810",
     "exception": false,
     "start_time": "2025-07-15T04:35:34.540579",
     "status": "completed"
    },
    "tags": []
   },
   "outputs": [
    {
     "data": {
      "image/png": "[encoded data removed]",
      "text/plain": [
       "<Figure size 2400x600 with 3 Axes>"
      ]
     },
     "metadata": {},
     "output_type": "display_data"
    }
   ],
   "source": [
    "warnings.filterwarnings(\"ignore\", message=\".*observed=False is deprecated.*\")\n",
    "fig, axes = plt.subplots(1, 3, figsize=(24, 6)) \n",
    "\n",
    "# create bar chart: distribution of Hours of Internet Use\n",
    "ax1 = sns.countplot(x='PreInt_EduHx-computerinternet_hoursday', data=train, palette=custom_palette[:4], ax=axes[0], edgecolor='black', linewidth=0.8)\n",
    "axes[0].set_title('Distribution of Hours of Internet Use')\n",
    "axes[0].set_xlabel('Hours per Day Group')\n",
    "axes[0].set_ylabel('Count')\n",
    "axes[0].tick_params(axis='x', which='both', bottom=False, labelbottom=True)\n",
    "\n",
    "# create boxplot: Hours of Internet Use vs Age\n",
    "sns.boxplot(y=train['Basic_Demos-Age'], x=train['PreInt_EduHx-computerinternet_hoursday'], palette=custom_palette[:4], ax=axes[1])\n",
    "axes[1].set_title('Hours of Internet Use by Age')\n",
    "axes[1].set_ylabel('Age')\n",
    "axes[1].set_xlabel('Hours per Day Group')\n",
    "\n",
    "# create boxplot: Hours of Internet Use vs Age Group\n",
    "sns.boxplot(y='PreInt_EduHx-computerinternet_hoursday', x='Age Group', data=train, palette=custom_palette[:3], ax=axes[2])\n",
    "axes[2].set_title('Internet Use by Age Group')\n",
    "axes[2].set_ylabel('Hours per Day')\n",
    "axes[2].set_xlabel('Age Group');"
   ]
  },
  {
   "cell_type": "markdown",
   "id": "4982fe00",
   "metadata": {
    "papermill": {
     "duration": 0.017247,
     "end_time": "2025-07-15T04:35:35.229733",
     "exception": false,
     "start_time": "2025-07-15T04:35:35.212486",
     "status": "completed"
    },
    "tags": []
   },
   "source": [
    "Following from the tables we analyzed previously, we can see that higher internet usage is linked to older age, hinting towards a correlation between hours of internet use and SII scores."
   ]
  },
  {
   "cell_type": "code",
   "execution_count": 18,
   "id": "fceb5ec7",
   "metadata": {
    "execution": {
     "iopub.execute_input": "2025-07-15T04:35:35.265355Z",
     "iopub.status.busy": "2025-07-15T04:35:35.264493Z",
     "iopub.status.idle": "2025-07-15T04:35:35.624451Z",
     "shell.execute_reply": "2025-07-15T04:35:35.623599Z"
    },
    "papermill": {
     "duration": 0.379087,
     "end_time": "2025-07-15T04:35:35.625869",
     "exception": false,
     "start_time": "2025-07-15T04:35:35.246782",
     "status": "completed"
    },
    "tags": []
   },
   "outputs": [
    {
     "data": {
      "image/png": "[encoded data removed]",
      "text/plain": [
       "<Figure size 1200x1000 with 2 Axes>"
      ]
     },
     "metadata": {},
     "output_type": "display_data"
    }
   ],
   "source": [
    "warnings.filterwarnings(\"ignore\", message=\".*observed=False is deprecated.*\")\n",
    "fig = plt.figure(figsize=(12, 10))\n",
    "gs = fig.add_gridspec(2, 2, height_ratios=[1, 1.5])\n",
    "\n",
    "# create boxplot: SII vs Hours of Internet Use\n",
    "ax1 = fig.add_subplot(gs[0, 0])\n",
    "sns.boxplot(x='sii', y='PreInt_EduHx-computerinternet_hoursday', data=train, ax=ax1, palette=custom_palette[:4])\n",
    "ax1.set_title('SII by Internet Use')\n",
    "ax1.set_ylabel('Hours per Day')\n",
    "ax1.set_xlabel('SII')\n",
    "\n",
    "# create boxplot: PCIAT_Total vs Hours of Internet Use\n",
    "ax2 = fig.add_subplot(gs[0, 1])\n",
    "sns.boxplot(x='PreInt_EduHx-computerinternet_hoursday', y='complete_resp_total', data=train, palette=custom_palette[:4], ax=ax2)\n",
    "ax2.set_title('PCIAT_Total by Internet Use')\n",
    "ax2.set_ylabel('PCIAT_Total')\n",
    "ax2.set_xlabel('Hours per Day');"
   ]
  },
  {
   "cell_type": "markdown",
   "id": "b9ea4978",
   "metadata": {
    "papermill": {
     "duration": 0.018545,
     "end_time": "2025-07-15T04:35:35.662980",
     "exception": false,
     "start_time": "2025-07-15T04:35:35.644435",
     "status": "completed"
    },
    "tags": []
   },
   "source": [
    "Sure enough - simply tracing your finger across the plots, a slight upward trend is visible between SII/ PCIAT and hours of internet use, signaling their clear correlation. This result makes intuitive sense and shouldn't come as a surprise. We can also discern from our analysis so far that *while adults spend the most time using the internet, adolescents are the most likely to report a high SII score.*\n",
    "\n",
    "It might also be notable that there are plenty of participants across all age groups that report less than an hour of internet use AND a high SII score, showing that for some participants, only an hour of internet use can be enough to negatively impact their mental health. "
   ]
  },
  {
   "cell_type": "markdown",
   "id": "fe0a17a0",
   "metadata": {
    "papermill": {
     "duration": 0.017842,
     "end_time": "2025-07-15T04:35:35.699003",
     "exception": false,
     "start_time": "2025-07-15T04:35:35.681161",
     "status": "completed"
    },
    "tags": []
   },
   "source": [
    "🫀 ***Physcial Activity:***\n",
    "\n",
    "What about the participants' physical attributes? A significant portion of the dataset is dedicated to metrics like height, weight, BMI, heart rate, etc. The relationship between internet use and SII makes sense, but analysis of these metrics might yield some interesting and unexpected results.\n",
    "\n",
    "Looking at our data, there just so happen to be 7 primary physical metrics: BMI, Height, Weight, Waist Circumference, Heart Rate, and Diastolic and Systolic BP (Blood Pressure). This is the perfect number of features for building a **correlation matrix**, where each feature is given a score from -1 to 1, based on its correlation with the target variable (positive values indicate positive correlation, negative values indicate negative correlation, and 0 indicates no correlation)."
   ]
  },
  {
   "cell_type": "code",
   "execution_count": 19,
   "id": "1086925f",
   "metadata": {
    "execution": {
     "iopub.execute_input": "2025-07-15T04:35:35.736955Z",
     "iopub.status.busy": "2025-07-15T04:35:35.736123Z",
     "iopub.status.idle": "2025-07-15T04:35:36.144665Z",
     "shell.execute_reply": "2025-07-15T04:35:36.143764Z"
    },
    "papermill": {
     "duration": 0.430351,
     "end_time": "2025-07-15T04:35:36.147546",
     "exception": false,
     "start_time": "2025-07-15T04:35:35.717195",
     "status": "completed"
    },
    "tags": []
   },
   "outputs": [
    {
     "data": {
      "image/png": "[encoded data removed]",
      "text/plain": [
       "<Figure size 1000x800 with 2 Axes>"
      ]
     },
     "metadata": {},
     "output_type": "display_data"
    }
   ],
   "source": [
    "# covert SII values to float type\n",
    "train['sii'] = train['sii'].str[0].astype(float)\n",
    "\n",
    "# isolate physical features\n",
    "physical_cols = ['Physical-BMI', 'Physical-Height', 'Physical-Weight', 'Physical-Waist_Circumference', 'Physical-Diastolic_BP', 'Physical-HeartRate', 'Physical-Systolic_BP']\n",
    "data_subset = train[physical_cols + ['sii']]\n",
    "\n",
    "# generate correlation heatmap matrix for physical features\n",
    "corr_matrix = data_subset.corr()\n",
    "plt.figure(figsize=(10, 8))\n",
    "sns.heatmap(corr_matrix, annot=True, cmap='coolwarm', fmt='.2f', vmin=-1, vmax=1)\n",
    "plt.title('Correlation Heatmap')\n",
    "plt.show()"
   ]
  },
  {
   "cell_type": "markdown",
   "id": "5953f430",
   "metadata": {
    "papermill": {
     "duration": 0.020527,
     "end_time": "2025-07-15T04:35:36.189687",
     "exception": false,
     "start_time": "2025-07-15T04:35:36.169160",
     "status": "completed"
    },
    "tags": []
   },
   "source": [
    "Each square reads the correlation coefficeint between the two features intersecting at that square, with positive correlations marked red and negative correlations marked blue. Right away we notice strong positive correlations in the top right corner - this is where variables like height, weight, BMI and waist circumference all intersect with one another. But what we are really interested in is how these features are correlated with SII.\n",
    "\n",
    "Looking at the bottom row, we see that height, weight and waist circumference all have positive correlations with SII, while dialostic blood pressure, systolic blood pressure and heart rate are weakly correlated. **Interesting!** This would suggest that taller and heavier participants are more likely to have higher SII scores, while cardiovascular health is not a determining factor for SII.\n",
    "\n",
    "*It should be noted:* since height and weight increase with age, some of this correlation is likely our previously observed age correlation in disguise. Let us investigate."
   ]
  },
  {
   "cell_type": "code",
   "execution_count": 20,
   "id": "85f55fe9",
   "metadata": {
    "execution": {
     "iopub.execute_input": "2025-07-15T04:35:36.232602Z",
     "iopub.status.busy": "2025-07-15T04:35:36.232339Z",
     "iopub.status.idle": "2025-07-15T04:35:36.654603Z",
     "shell.execute_reply": "2025-07-15T04:35:36.653703Z"
    },
    "papermill": {
     "duration": 0.446711,
     "end_time": "2025-07-15T04:35:36.657071",
     "exception": false,
     "start_time": "2025-07-15T04:35:36.210360",
     "status": "completed"
    },
    "tags": []
   },
   "outputs": [
    {
     "data": {
      "image/png": "[encoded data removed]",
      "text/plain": [
       "<Figure size 1800x500 with 2 Axes>"
      ]
     },
     "metadata": {},
     "output_type": "display_data"
    }
   ],
   "source": [
    "plt.figure(figsize=(18, 5))\n",
    "\n",
    "# create scatterplot: Height vs Age\n",
    "plt.subplot(1, 3, 1)\n",
    "sns.scatterplot(x='Basic_Demos-Age', y='Physical-Height', data=train)\n",
    "plt.title('Physical-Height by Age')\n",
    "plt.xlabel('Age')\n",
    "plt.ylabel('Height (cm)')\n",
    "\n",
    "# create scatterplot: Weight vs Age\n",
    "plt.subplot(1, 3, 2)\n",
    "sns.scatterplot(x='Basic_Demos-Age', y='Physical-Weight', data=train)\n",
    "plt.title('Physical-Weight by Age')\n",
    "plt.xlabel('Age')\n",
    "plt.ylabel('Weight (kg)')\n",
    "plt.tight_layout()\n",
    "plt.show()"
   ]
  },
  {
   "cell_type": "markdown",
   "id": "2f446e42",
   "metadata": {
    "papermill": {
     "duration": 0.022027,
     "end_time": "2025-07-15T04:35:36.701994",
     "exception": false,
     "start_time": "2025-07-15T04:35:36.679967",
     "status": "completed"
    },
    "tags": []
   },
   "source": [
    "No surprises here - however, we can see a number of outliers in the weight measurements, possibly suggesting some input error. This might have an effect on the correlation between weight and SII.\n",
    "\n",
    "We saw that height, weight and BMI have the strongest correlation with SII, so let's take a closer look at those."
   ]
  },
  {
   "cell_type": "code",
   "execution_count": 21,
   "id": "6c0fa476",
   "metadata": {
    "execution": {
     "iopub.execute_input": "2025-07-15T04:35:36.747498Z",
     "iopub.status.busy": "2025-07-15T04:35:36.747188Z",
     "iopub.status.idle": "2025-07-15T04:35:37.299965Z",
     "shell.execute_reply": "2025-07-15T04:35:37.299028Z"
    },
    "papermill": {
     "duration": 0.577351,
     "end_time": "2025-07-15T04:35:37.301545",
     "exception": false,
     "start_time": "2025-07-15T04:35:36.724194",
     "status": "completed"
    },
    "tags": []
   },
   "outputs": [
    {
     "data": {
      "image/png": "[encoded data removed]",
      "text/plain": [
       "<Figure size 1800x500 with 3 Axes>"
      ]
     },
     "metadata": {},
     "output_type": "display_data"
    }
   ],
   "source": [
    "fig, axes = plt.subplots(1, 3, figsize=(18, 5))\n",
    "\n",
    "# create boxplot: SII vs BMI\n",
    "sns.boxplot(x='sii', y='Physical-BMI', data=train, ax=axes[0], palette=custom_palette[:4])\n",
    "axes[0].set_title('SII vs BMI')\n",
    "axes[0].set_xlabel('SII Category')\n",
    "axes[0].set_ylabel('BMI')\n",
    "\n",
    "# create boxplot: SII vs Height\n",
    "sns.boxplot(x='sii', y='Physical-Height', data=train, ax=axes[1], palette=custom_palette[:4])\n",
    "axes[1].set_title('SII vs Height')\n",
    "axes[1].set_xlabel('SII Category')\n",
    "axes[1].set_ylabel('Height (cm)')\n",
    "\n",
    "# create boxplot: SII vs Weight\n",
    "sns.boxplot(x='sii', y='Physical-Weight', data=train, ax=axes[2], palette=custom_palette[:4])\n",
    "axes[2].set_title('SII vs Weight')\n",
    "axes[2].set_xlabel('SII Category')\n",
    "axes[2].set_ylabel('Weight (kg)')\n",
    "plt.tight_layout()\n",
    "plt.show()"
   ]
  },
  {
   "cell_type": "markdown",
   "id": "be085c0f",
   "metadata": {
    "papermill": {
     "duration": 0.023985,
     "end_time": "2025-07-15T04:35:37.349888",
     "exception": false,
     "start_time": "2025-07-15T04:35:37.325903",
     "status": "completed"
    },
    "tags": []
   },
   "source": [
    "Here we can see something kind of interesting - there is a pretty sharp jump in BMI and weight when SII is 3, suggesting that **weight** may play a significant factor in severe internet addiction, which is plausible. A positive correlation also exists with height, but the increase is gradual and less dramatic."
   ]
  },
  {
   "cell_type": "markdown",
   "id": "2eda2a04",
   "metadata": {
    "papermill": {
     "duration": 0.02523,
     "end_time": "2025-07-15T04:35:37.398998",
     "exception": false,
     "start_time": "2025-07-15T04:35:37.373768",
     "status": "completed"
    },
    "tags": []
   },
   "source": [
    "🏠 ***Bringing it Home:***\n",
    "\n",
    "At this point, we have a decent understanding of the data at hand. To conclude our analysis, let us calculate the **Pearson correlation coefficient** between each feature and SII, like we did with the physical measures - this will help us determine which features to utilize in feature engineering and model training, and which features are less relevant."
   ]
  },
  {
   "cell_type": "code",
   "execution_count": 22,
   "id": "9807bf47",
   "metadata": {
    "execution": {
     "iopub.execute_input": "2025-07-15T04:35:37.449717Z",
     "iopub.status.busy": "2025-07-15T04:35:37.448846Z",
     "iopub.status.idle": "2025-07-15T04:35:37.811390Z",
     "shell.execute_reply": "2025-07-15T04:35:37.810456Z"
    },
    "papermill": {
     "duration": 0.390115,
     "end_time": "2025-07-15T04:35:37.813482",
     "exception": false,
     "start_time": "2025-07-15T04:35:37.423367",
     "status": "completed"
    },
    "tags": []
   },
   "outputs": [
    {
     "data": {
      "image/png": "[encoded data removed]",
      "text/plain": [
       "<Figure size 1200x800 with 1 Axes>"
      ]
     },
     "metadata": {},
     "output_type": "display_data"
    }
   ],
   "source": [
    "# isolate non-PCIAT features\n",
    "train_subset = train.drop(train.columns[55:76].tolist() + ['complete_resp_total'], axis=1)\n",
    "numerical_features = train_subset.select_dtypes(include=[np.number]).columns.tolist()\n",
    "\n",
    "# calculate Pearson correlations with 'sii'\n",
    "target_correlations = []\n",
    "for feature in numerical_features:\n",
    "    if feature != 'sii':\n",
    "        corr = train_subset[[feature, 'sii']].corr().iloc[0, 1]\n",
    "        if not np.isnan(corr):\n",
    "            target_correlations.append((feature, abs(corr)))\n",
    "\n",
    "# sort and select top 20\n",
    "top_corr = sorted(target_correlations, key=lambda x: x[1], reverse=True)[:20]\n",
    "features, corrs = zip(*top_corr)\n",
    "\n",
    "# create bar chart of features by correlation with SII\n",
    "plt.figure(figsize=(12, 8))\n",
    "plt.barh(range(len(features)), corrs, color='#E2A0FF', edgecolor='black')\n",
    "plt.yticks(range(len(features)), features)\n",
    "plt.xlabel('Absolute Correlation with SII')\n",
    "plt.title('Top 20 Features by Correlation with SII')\n",
    "plt.gca().invert_yaxis()  # Optional: highest at top\n",
    "plt.tight_layout()\n",
    "plt.show()"
   ]
  },
  {
   "cell_type": "markdown",
   "id": "1ba5cacd",
   "metadata": {
    "papermill": {
     "duration": 0.024942,
     "end_time": "2025-07-15T04:35:37.865436",
     "exception": false,
     "start_time": "2025-07-15T04:35:37.840494",
     "status": "completed"
    },
    "tags": []
   },
   "source": [
    "This confirms much of what we found earlier - features like height, weight, age, and internet use, have a strong positive correlation with SII score. In interpreting these results, we must remember the time-old logical fallacy: *\"correlation does not imply causation\"*. Pearson correlation (same correlation as used in the matrix) doesn't say that any of these features **cause** SII, only that when one is higher, the other also tends to be higher.\n",
    "\n",
    "We can see many many other features we did not analyze as closely also have positive correlations with SII. Not to worry, these will be accounted for in the feature engineering and selection process."
   ]
  },
  {
   "cell_type": "markdown",
   "id": "ae546879",
   "metadata": {
    "papermill": {
     "duration": 0.024995,
     "end_time": "2025-07-15T04:35:37.916607",
     "exception": false,
     "start_time": "2025-07-15T04:35:37.891612",
     "status": "completed"
    },
    "tags": []
   },
   "source": [
    "🥡 ***Key Takeaways:***\n",
    "\n",
    "‣ Roughly 85% of participants report and SII of either 0 or 1.\n",
    "\n",
    "‣ The largest share of high SII scores are found in adolescents, with children and adults following.\n",
    "\n",
    "‣ Physical attribures (BMI, height, weight, waist circumference) are among the features with the strongest positive correlations with SII.\n",
    "\n",
    "‣ SII increases with internet use, and internet use increases with age.\n",
    "\n",
    "‣ The dataset overall skews male."
   ]
  },
  {
   "cell_type": "markdown",
   "id": "dc42be9a",
   "metadata": {
    "papermill": {
     "duration": 0.025071,
     "end_time": "2025-07-15T04:35:37.966822",
     "exception": false,
     "start_time": "2025-07-15T04:35:37.941751",
     "status": "completed"
    },
    "tags": []
   },
   "source": [
    "***\n",
    "\n",
    "## 🏋️ ***Model Training!***\n",
    "\n",
    "We are now ready to start our model training pipeline! This involves some final data cleaning, general feature engineering, pre-processing for each model, and finally, model training and validation. We will train two models: a **Ridge Regression model** and a **LightGBM (Gradient Boosting Machine) model**. Ridge Regression is a linear regression model that uses correlation to determine feature importance, while LightGBM is a gradient boosting machine that can handle non-linear relationships and complex interactions between features. Ridge is a simpler baseline ML model, while LightGBM is more complex and requires more computing power.\n",
    "\n",
    "Training multiple models and combining their results is known as *ensembling,* and is a common tactic to generate balanced, unbiased results. If one model is improperly trained, or displays significant **overfitting** (when a model only performs well on the training data), the other model can make up for this deficiency.\n",
    "\n",
    "Before we begin, we want to ensure our dataset only contains features we want to train on, so let's remove all features that are directly related to SII, like PCIAT scores, and arbitrary identifiers like \"id\". "
   ]
  },
  {
   "cell_type": "code",
   "execution_count": 23,
   "id": "68cf1c54",
   "metadata": {
    "execution": {
     "iopub.execute_input": "2025-07-15T04:35:38.019367Z",
     "iopub.status.busy": "2025-07-15T04:35:38.019071Z",
     "iopub.status.idle": "2025-07-15T04:35:38.029608Z",
     "shell.execute_reply": "2025-07-15T04:35:38.028806Z"
    },
    "papermill": {
     "duration": 0.038698,
     "end_time": "2025-07-15T04:35:38.031062",
     "exception": false,
     "start_time": "2025-07-15T04:35:37.992364",
     "status": "completed"
    },
    "tags": []
   },
   "outputs": [],
   "source": [
    "# permanentlyremove all PCIAT columns\n",
    "pciat_cols = [col for col in train.columns if 'PCIAT' in col]\n",
    "train = train.drop(columns=pciat_cols)\n",
    "\n",
    "# remove \"complete_resp\" and \"age group\" columns\n",
    "train = train.drop(\"complete_resp_total\", axis=1)\n",
    "train = train.drop(\"Age Group\", axis=1) \n",
    "\n",
    "# remove id column\n",
    "train = train.drop(\"id\", axis=1)"
   ]
  },
  {
   "cell_type": "markdown",
   "id": "29b1bbbb",
   "metadata": {
    "papermill": {
     "duration": 0.02525,
     "end_time": "2025-07-15T04:35:38.082419",
     "exception": false,
     "start_time": "2025-07-15T04:35:38.057169",
     "status": "completed"
    },
    "tags": []
   },
   "source": [
    "Next, let's get ready for feature engineering by separating our data into categorical and numerical columns. We'll then re-calculate the absolute Pearson correlations with the target variable (SII) for the numerical features, before using them to create engineered features."
   ]
  },
  {
   "cell_type": "code",
   "execution_count": 24,
   "id": "78850f54",
   "metadata": {
    "execution": {
     "iopub.execute_input": "2025-07-15T04:35:38.134576Z",
     "iopub.status.busy": "2025-07-15T04:35:38.134288Z",
     "iopub.status.idle": "2025-07-15T04:35:38.192805Z",
     "shell.execute_reply": "2025-07-15T04:35:38.191736Z"
    },
    "papermill": {
     "duration": 0.086498,
     "end_time": "2025-07-15T04:35:38.194490",
     "exception": false,
     "start_time": "2025-07-15T04:35:38.107992",
     "status": "completed"
    },
    "tags": []
   },
   "outputs": [
    {
     "name": "stdout",
     "output_type": "stream",
     "text": [
      "\n",
      "Top 20 correlations with SII (absolute correlation):\n",
      " 1. Physical-Height                          | Corr:  0.374 | p-value: 0.0000\n",
      " 2. Basic_Demos-Age                          | Corr:  0.368 | p-value: 0.0000\n",
      " 3. PreInt_EduHx-computerinternet_hoursday   | Corr:  0.336 | p-value: 0.0000\n",
      " 4. Physical-Weight                          | Corr:  0.326 | p-value: 0.0000\n",
      " 5. Physical-Waist_Circumference             | Corr:  0.270 | p-value: 0.0000\n",
      " 6. FGC-FGC_CU                               | Corr:  0.248 | p-value: 0.0000\n",
      " 7. SDS-SDS_Total_T                          | Corr:  0.233 | p-value: 0.0000\n",
      " 8. SDS-SDS_Total_Raw                        | Corr:  0.230 | p-value: 0.0000\n",
      " 9. BIA-BIA_BMI                              | Corr:  0.226 | p-value: 0.0000\n",
      "10. Physical-BMI                             | Corr:  0.220 | p-value: 0.0000\n",
      "11. FGC-FGC_PU                               | Corr:  0.179 | p-value: 0.0000\n",
      "12. BIA-BIA_Frame_num                        | Corr:  0.165 | p-value: 0.0000\n",
      "13. FGC-FGC_GSD                              | Corr:  0.163 | p-value: 0.0000\n",
      "14. FGC-FGC_GSND                             | Corr:  0.150 | p-value: 0.0000\n",
      "15. Physical-Systolic_BP                     | Corr:  0.135 | p-value: 0.0000\n",
      "16. FGC-FGC_SRL_Zone                         | Corr: -0.112 | p-value: 0.0000\n",
      "17. FGC-FGC_TL                               | Corr:  0.108 | p-value: 0.0000\n",
      "18. BIA-BIA_FFMI                             | Corr:  0.103 | p-value: 0.0000\n",
      "19. CGAS-CGAS_Score                          | Corr: -0.085 | p-value: 0.0000\n",
      "20. BIA-BIA_FMI                              | Corr:  0.076 | p-value: 0.0013\n"
     ]
    }
   ],
   "source": [
    "# separate SII from features\n",
    "X = train.drop('sii', axis=1)\n",
    "y = train['sii']\n",
    "\n",
    "# create sets for categorical and numerical features\n",
    "categorical_cols = []\n",
    "numerical_cols = []\n",
    "for col in X.columns:\n",
    "    if X[col].dtype == 'object':\n",
    "        categorical_cols.append(col)\n",
    "    else:\n",
    "        numerical_cols.append(col)\n",
    "\n",
    "# re-calculate Pearson correlation coefficients for numerical columns (corr. with SII)\n",
    "def calculate_correlations(X, y, numerical_cols):\n",
    "    correlations = {}\n",
    "    for col in numerical_cols:\n",
    "        mask = ~(X[col].isnull() | y.isnull())\n",
    "        if mask.sum() > 1:\n",
    "            corr, p_value = pearsonr(X[col][mask], y[mask])\n",
    "            correlations[col] = {'correlation': corr, 'p_value': p_value}\n",
    "    return correlations\n",
    "correlations = calculate_correlations(X, y, numerical_cols)\n",
    "\n",
    "# sort features by correlation\n",
    "sorted_correlations = sorted(correlations.items(), key=lambda x: abs(x[1]['correlation']), reverse=True)\n",
    "print(\"\\nTop 20 correlations with SII (absolute correlation):\")\n",
    "for i, (col, stats) in enumerate(sorted_correlations[:20]):\n",
    "    print(f\"{i+1:2d}. {col:<40} | Corr: {stats['correlation']:6.3f} | p-value: {stats['p_value']:.4f}\")"
   ]
  },
  {
   "cell_type": "markdown",
   "id": "5d46c976",
   "metadata": {
    "papermill": {
     "duration": 0.025213,
     "end_time": "2025-07-15T04:35:38.245510",
     "exception": false,
     "start_time": "2025-07-15T04:35:38.220297",
     "status": "completed"
    },
    "tags": []
   },
   "source": [
    "This largely follows from our EDA, only this time we see some features with negative correlation. There's nothing wrong with this - in fact, negative correlations are just as informative as positive ones, only in the opposite direction."
   ]
  },
  {
   "cell_type": "markdown",
   "id": "0a37e104",
   "metadata": {
    "papermill": {
     "duration": 0.02563,
     "end_time": "2025-07-15T04:35:38.296828",
     "exception": false,
     "start_time": "2025-07-15T04:35:38.271198",
     "status": "completed"
    },
    "tags": []
   },
   "source": [
    "⚙️ ***Feature Engineering:***\n",
    "\n",
    "We'll engineer features in two different ways - some based on out own domain knowledge, and some based on correlation with the SII. "
   ]
  },
  {
   "cell_type": "markdown",
   "id": "836f74b5",
   "metadata": {
    "papermill": {
     "duration": 0.039265,
     "end_time": "2025-07-15T04:35:38.361694",
     "exception": false,
     "start_time": "2025-07-15T04:35:38.322429",
     "status": "completed"
    },
    "tags": []
   },
   "source": [
    "***Custom features:***\n",
    "\n",
    "‣ Difference between Physical BMI and Bio-electric Impedance Analysis (BIA) BMI (different assessments - BIA incorporates internal composition, while Physical BMI is a crude ratio)\n",
    "\n",
    "‣ Duration of Total Exercise (in seconds)\n",
    "\n",
    "‣ Ratio of Fat to FFM (body fat percentage to fat-free mass)\n",
    "\n",
    "‣ Z-score normalation of cardiovascular health statistics (heart rate, systolic and diastolic blood pressure)\n",
    "\n",
    "‣ Age Squared and Age Group (self-explanatory)"
   ]
  },
  {
   "cell_type": "code",
   "execution_count": 25,
   "id": "17d2d455",
   "metadata": {
    "execution": {
     "iopub.execute_input": "2025-07-15T04:35:38.426916Z",
     "iopub.status.busy": "2025-07-15T04:35:38.426249Z",
     "iopub.status.idle": "2025-07-15T04:35:38.450288Z",
     "shell.execute_reply": "2025-07-15T04:35:38.449214Z"
    },
    "papermill": {
     "duration": 0.054915,
     "end_time": "2025-07-15T04:35:38.451635",
     "exception": false,
     "start_time": "2025-07-15T04:35:38.396720",
     "status": "completed"
    },
    "tags": []
   },
   "outputs": [
    {
     "name": "stdout",
     "output_type": "stream",
     "text": [
      "New features created:\n",
      "  - Basic_Demos-Age_x_Physical-Weight\n",
      "  - Physical-Systolic_BP_normalized\n",
      "  - Total_Fitness_Time\n",
      "  - Physical-Height_x_Basic_Demos-Age\n",
      "  - Fat_to_FFM_ratio\n",
      "  - Physical-Height_x_Physical-Weight\n",
      "  - BMI_difference\n",
      "  - PreInt_EduHx-computerinternet_hoursday_x_Physical-Waist_Circumference\n",
      "  - Age_squared\n",
      "  - PreInt_EduHx-computerinternet_hoursday_x_Physical-Weight\n",
      "  - Basic_Demos-Age_x_PreInt_EduHx-computerinternet_hoursday\n",
      "  - Physical-Diastolic_BP_normalized\n",
      "  - Physical-Height_x_Physical-Waist_Circumference\n",
      "  - Physical-Weight_x_Physical-Waist_Circumference\n",
      "  - Basic_Demos-Age_x_Physical-Waist_Circumference\n",
      "  - Physical-Height_x_PreInt_EduHx-computerinternet_hoursday\n",
      "  - Physical-HeartRate_normalized\n",
      "  - Age_group\n"
     ]
    }
   ],
   "source": [
    "# define function to engineer new features\n",
    "def create_engineered_features(df, correlations=None):\n",
    "    df_eng = df.copy()\n",
    "    \n",
    "    # BMI-related features\n",
    "    if 'Physical-BMI' in df_eng.columns and 'BIA-BIA_BMI' in df_eng.columns:\n",
    "        df_eng['BMI_difference'] = df_eng['Physical-BMI'] - df_eng['BIA-BIA_BMI']\n",
    "    \n",
    "    # fitness ratios\n",
    "    if 'Fitness_Endurance-Time_Mins' in df_eng.columns and 'Fitness_Endurance-Time_Sec' in df_eng.columns:\n",
    "        df_eng['Total_Fitness_Time'] = df_eng['Fitness_Endurance-Time_Mins'] * 60 + df_eng['Fitness_Endurance-Time_Sec']\n",
    "    \n",
    "    # body composition ratios\n",
    "    if 'BIA-BIA_Fat' in df_eng.columns and 'BIA-BIA_FFM' in df_eng.columns:\n",
    "        df_eng['Fat_to_FFM_ratio'] = df_eng['BIA-BIA_Fat'] / (df_eng['BIA-BIA_FFM'] + 1e-8)\n",
    "    \n",
    "    # physical health composite\n",
    "    if all(col in df_eng.columns for col in ['Physical-HeartRate', 'Physical-Systolic_BP', 'Physical-Diastolic_BP']):\n",
    "        health_cols = ['Physical-HeartRate', 'Physical-Systolic_BP', 'Physical-Diastolic_BP']\n",
    "        for col in health_cols:\n",
    "            if df_eng[col].notna().sum() > 0:\n",
    "                mean_val = df_eng[col].mean()\n",
    "                std_val = df_eng[col].std()\n",
    "                df_eng[f'{col}_normalized'] = (df_eng[col] - mean_val) / (std_val + 1e-8)\n",
    "    \n",
    "    # age-related\n",
    "    if 'Basic_Demos-Age' in df_eng.columns:\n",
    "        df_eng['Age_squared'] = df_eng['Basic_Demos-Age'] ** 2\n",
    "        df_eng['Age_group'] = pd.cut(df_eng['Basic_Demos-Age'], \n",
    "                                   bins=[0, 8, 12, 16, 22], \n",
    "                                   labels=['child', 'preteen', 'teen', 'young_adult'])\n",
    "    \n",
    "    # features based on correlation\n",
    "    if correlations is not None:\n",
    "        top_corr_features = [col for col, stats in sorted(correlations.items(), key=lambda x: abs(x[1]['correlation']), reverse=True)[:10] if col in df_eng.columns]\n",
    "        for i, col1 in enumerate(top_corr_features[:5]):\n",
    "            for col2 in top_corr_features[i+1:5]:\n",
    "                if col1 in df_eng.columns and col2 in df_eng.columns:\n",
    "                    if df_eng[col1].dtype in ['int64', 'float64'] and df_eng[col2].dtype in ['int64', 'float64']:\n",
    "                        df_eng[f'{col1}_x_{col2}'] = df_eng[col1] * df_eng[col2]\n",
    "    return df_eng\n",
    "\n",
    "# apply feature engineering function to train set\n",
    "X_engineered = create_engineered_features(X, correlations)\n",
    "print(\"New features created:\")\n",
    "new_features = set(X_engineered.columns) - set(X.columns)\n",
    "for feat in new_features:\n",
    "    print(f\"  - {feat}\")"
   ]
  },
  {
   "cell_type": "markdown",
   "id": "5093d105",
   "metadata": {
    "papermill": {
     "duration": 0.025711,
     "end_time": "2025-07-15T04:35:38.504605",
     "exception": false,
     "start_time": "2025-07-15T04:35:38.478894",
     "status": "completed"
    },
    "tags": []
   },
   "source": [
    "Here, we can see all of the features created through correlation marked with an \"_x_\", with our custom features sprinkled in throughout. Since many of these features were calculated *using* correlation, many of them will likely be more highly correlated with SII than the original features. Let us then calculate absolute correlations one last time."
   ]
  },
  {
   "cell_type": "code",
   "execution_count": 26,
   "id": "52bf1cc4",
   "metadata": {
    "execution": {
     "iopub.execute_input": "2025-07-15T04:35:38.558105Z",
     "iopub.status.busy": "2025-07-15T04:35:38.557749Z",
     "iopub.status.idle": "2025-07-15T04:35:38.628153Z",
     "shell.execute_reply": "2025-07-15T04:35:38.627352Z"
    },
    "papermill": {
     "duration": 0.099021,
     "end_time": "2025-07-15T04:35:38.629669",
     "exception": false,
     "start_time": "2025-07-15T04:35:38.530648",
     "status": "completed"
    },
    "tags": []
   },
   "outputs": [
    {
     "name": "stdout",
     "output_type": "stream",
     "text": [
      "\n",
      "Final categorical columns: 12\n",
      "Final numerical columns: 64\n",
      "\n",
      "Top 15 correlations with SII (after feature engineering):\n",
      " 1. Basic_Demos-Age_x_PreInt_EduHx-computerinternet_hoursday | Corr:  0.380 | p-value: 0.0000\n",
      " 2. Physical-Height                          | Corr:  0.374 | p-value: 0.0000\n",
      " 3. Physical-Height_x_Basic_Demos-Age        | Corr:  0.374 | p-value: 0.0000\n",
      " 4. Basic_Demos-Age_x_Physical-Waist_Circumference | Corr:  0.372 | p-value: 0.0000\n",
      " 5. Basic_Demos-Age                          | Corr:  0.368 | p-value: 0.0000\n",
      " 6. Physical-Height_x_PreInt_EduHx-computerinternet_hoursday | Corr:  0.359 | p-value: 0.0000\n",
      " 7. PreInt_EduHx-computerinternet_hoursday_x_Physical-Weight | Corr:  0.357 | p-value: 0.0000\n",
      " 8. Age_squared                              | Corr:  0.346 | p-value: 0.0000\n",
      " 9. Physical-Height_x_Physical-Waist_Circumference | Corr:  0.345 | p-value: 0.0000\n",
      "10. Physical-Height_x_Physical-Weight        | Corr:  0.340 | p-value: 0.0000\n",
      "11. Basic_Demos-Age_x_Physical-Weight        | Corr:  0.340 | p-value: 0.0000\n",
      "12. PreInt_EduHx-computerinternet_hoursday   | Corr:  0.336 | p-value: 0.0000\n",
      "13. Physical-Weight                          | Corr:  0.326 | p-value: 0.0000\n",
      "14. PreInt_EduHx-computerinternet_hoursday_x_Physical-Waist_Circumference | Corr:  0.322 | p-value: 0.0000\n",
      "15. Physical-Weight_x_Physical-Waist_Circumference | Corr:  0.316 | p-value: 0.0000\n"
     ]
    }
   ],
   "source": [
    "# re-create categorical and numerical sets to include engineered features\n",
    "categorical_cols_eng = []\n",
    "numerical_cols_eng = []\n",
    "for col in X_engineered.columns:\n",
    "    if is_object_dtype(X_engineered[col]) or isinstance(X_engineered[col].dtype, CategoricalDtype):\n",
    "        categorical_cols_eng.append(col)\n",
    "    elif is_numeric_dtype(X_engineered[col]):\n",
    "        numerical_cols_eng.append(col)\n",
    "print(f\"\\nFinal categorical columns: {len(categorical_cols_eng)}\")\n",
    "print(f\"Final numerical columns: {len(numerical_cols_eng)}\")\n",
    "\n",
    "# recalculate correlations with engineered features\n",
    "correlations_eng = calculate_correlations(X_engineered, y, numerical_cols_eng)\n",
    "\n",
    "# sort by absolute correlation\n",
    "sorted_correlations_eng = sorted(correlations_eng.items(), key=lambda x: abs(x[1]['correlation']), reverse=True)\n",
    "print(\"\\nTop 15 correlations with SII (after feature engineering):\")\n",
    "for i, (col, stats) in enumerate(sorted_correlations_eng[:15]):\n",
    "    print(f\"{i+1:2d}. {col:<40} | Corr: {stats['correlation']:6.3f} | p-value: {stats['p_value']:.4f}\")"
   ]
  },
  {
   "cell_type": "markdown",
   "id": "6e5c6748",
   "metadata": {
    "papermill": {
     "duration": 0.025264,
     "end_time": "2025-07-15T04:35:38.681639",
     "exception": false,
     "start_time": "2025-07-15T04:35:38.656375",
     "status": "completed"
    },
    "tags": []
   },
   "source": [
    "Theoretically, we could repeat this process of engineering new features based on correlation, then re-calculating correlations for those new features, engineering new features again... and so on. But this is short-sighted - improvements would likely plateau quickly, and possibly even diverge into nonsense, so we'll stop here. These features should serve as a solid baseline, and our models will be able to take it from here.\n",
    "\n",
    "One more thing before training. We of course have our **test set** to evaluate our models on, but we'll want to tune and adjust our models before we do that and need a way of evaluating our models' performance *without* using the test set. To do this, we can split our train set into a training set and a **validation set** we can experiment on. "
   ]
  },
  {
   "cell_type": "code",
   "execution_count": 27,
   "id": "74990af3",
   "metadata": {
    "execution": {
     "iopub.execute_input": "2025-07-15T04:35:38.734771Z",
     "iopub.status.busy": "2025-07-15T04:35:38.734128Z",
     "iopub.status.idle": "2025-07-15T04:35:38.744651Z",
     "shell.execute_reply": "2025-07-15T04:35:38.743687Z"
    },
    "papermill": {
     "duration": 0.03875,
     "end_time": "2025-07-15T04:35:38.746124",
     "exception": false,
     "start_time": "2025-07-15T04:35:38.707374",
     "status": "completed"
    },
    "tags": []
   },
   "outputs": [
    {
     "name": "stdout",
     "output_type": "stream",
     "text": [
      "\n",
      "Train set shape: (2175, 76)\n",
      "Validation set shape: (544, 76)\n"
     ]
    }
   ],
   "source": [
    "# split engineered data into train and validation sets, 80/ 20\n",
    "X_train, X_val, y_train, y_val = train_test_split(X_engineered, y, test_size=0.2, random_state=42, stratify=y)\n",
    "print(f\"\\nTrain set shape: {X_train.shape}\")\n",
    "print(f\"Validation set shape: {X_val.shape}\")"
   ]
  },
  {
   "cell_type": "markdown",
   "id": "1b3965ff",
   "metadata": {
    "papermill": {
     "duration": 0.025682,
     "end_time": "2025-07-15T04:35:38.799799",
     "exception": false,
     "start_time": "2025-07-15T04:35:38.774117",
     "status": "completed"
    },
    "tags": []
   },
   "source": [
    "⛰ ***Time to Train: Ridge Model***\n",
    "\n",
    "First, the Ridge model. The pre-processing pipeline will select which features to use (based on correlation), fill missing values, scale the features to have zero mean and unit variance, and finally encode the categorical variables using **one-hot encoding**, so that the model can learn from them. After running through our engineered train and validation sets through this pipeline, we'll try training the Ridge model with a few different *correlation thresholds* (meaning, only features meeting a certain correlation threshold will be included in the training), and evaluate each on the validation set, calculating the **Root Mean Squared Error (RMSE)** between the model's predictions for SII and the actual SII values. Lower the validation RMSE, the more accurate the model.\n",
    "\n",
    "We'll try 4 different correlation thresholds: 0.01, 0.03, 0.05, and 0.1, as well as one model with no threshold."
   ]
  },
  {
   "cell_type": "code",
   "execution_count": 28,
   "id": "3146640f",
   "metadata": {
    "execution": {
     "iopub.execute_input": "2025-07-15T04:35:38.853690Z",
     "iopub.status.busy": "2025-07-15T04:35:38.853403Z",
     "iopub.status.idle": "2025-07-15T04:35:39.811468Z",
     "shell.execute_reply": "2025-07-15T04:35:39.810634Z"
    },
    "papermill": {
     "duration": 0.987183,
     "end_time": "2025-07-15T04:35:39.812919",
     "exception": false,
     "start_time": "2025-07-15T04:35:38.825736",
     "status": "completed"
    },
    "tags": []
   },
   "outputs": [
    {
     "name": "stdout",
     "output_type": "stream",
     "text": [
      "\n",
      "==================================================\n",
      "RIDGE REGRESSION PREPROCESSING\n",
      "==================================================\n",
      "\n",
      "Testing different correlation thresholds for Ridge:\n",
      "\n",
      "--- Testing threshold: 0.01 ---\n",
      "Selected 37 numerical features out of 64 based on correlation > 0.01\n",
      "Selected features: ['Basic_Demos-Age', 'CGAS-CGAS_Score', 'Physical-BMI', 'Physical-Height', 'Physical-Weight', 'Physical-Waist_Circumference', 'Physical-Diastolic_BP', 'Physical-Systolic_BP', 'Fitness_Endurance-Time_Mins', 'FGC-FGC_CU'] ...\n",
      "Ridge - Train shape after preprocessing: (2175, 71)\n",
      "Train RMSE: 0.6607\n",
      "Validation RMSE: 0.6833\n",
      "\n",
      "--- Testing threshold: 0.03 ---\n",
      "Selected 37 numerical features out of 64 based on correlation > 0.03\n",
      "Selected features: ['Basic_Demos-Age', 'CGAS-CGAS_Score', 'Physical-BMI', 'Physical-Height', 'Physical-Weight', 'Physical-Waist_Circumference', 'Physical-Diastolic_BP', 'Physical-Systolic_BP', 'Fitness_Endurance-Time_Mins', 'FGC-FGC_CU'] ...\n",
      "Ridge - Train shape after preprocessing: (2175, 71)\n",
      "Train RMSE: 0.6607\n",
      "Validation RMSE: 0.6833\n",
      "\n",
      "--- Testing threshold: 0.05 ---\n",
      "Selected 34 numerical features out of 64 based on correlation > 0.05\n",
      "Selected features: ['Basic_Demos-Age', 'CGAS-CGAS_Score', 'Physical-BMI', 'Physical-Height', 'Physical-Weight', 'Physical-Waist_Circumference', 'Physical-Systolic_BP', 'FGC-FGC_CU', 'FGC-FGC_GSND', 'FGC-FGC_GSND_Zone'] ...\n",
      "Ridge - Train shape after preprocessing: (2175, 68)\n",
      "Train RMSE: 0.6613\n",
      "Validation RMSE: 0.6844\n",
      "\n",
      "--- Testing threshold: 0.1 ---\n",
      "Selected 26 numerical features out of 64 based on correlation > 0.1\n",
      "Selected features: ['Basic_Demos-Age', 'Physical-BMI', 'Physical-Height', 'Physical-Weight', 'Physical-Systolic_BP', 'FGC-FGC_CU', 'FGC-FGC_GSND', 'FGC-FGC_GSD', 'FGC-FGC_PU', 'FGC-FGC_TL'] ...\n",
      "Ridge - Train shape after preprocessing: (2175, 60)\n",
      "Train RMSE: 0.6633\n",
      "Validation RMSE: 0.6768\n",
      "\n",
      "--- Testing without correlation filtering ---\n",
      "Ridge - Train shape after preprocessing: (2175, 98)\n",
      "Train RMSE: 0.6555\n",
      "Validation RMSE: 0.6838\n",
      "\n",
      "Best Ridge configuration: 0.1 (Validation RMSE: 0.6768)\n",
      "Selected 26 numerical features out of 64 based on correlation > 0.1\n",
      "Selected features: ['Basic_Demos-Age', 'Physical-BMI', 'Physical-Height', 'Physical-Weight', 'Physical-Systolic_BP', 'FGC-FGC_CU', 'FGC-FGC_GSND', 'FGC-FGC_GSD', 'FGC-FGC_PU', 'FGC-FGC_TL'] ...\n"
     ]
    }
   ],
   "source": [
    "# RIDGE REGRESSION PREPROCESSING PIPELINE\n",
    "print(\"\\n\" + \"=\"*50)\n",
    "print(\"RIDGE REGRESSION PREPROCESSING\")\n",
    "print(\"=\"*50)\n",
    "\n",
    "# define function for feature selection based on threshold\n",
    "def select_features_by_correlation(X, y, numerical_cols, threshold=0.05):\n",
    "    correlations = calculate_correlations(X, y, numerical_cols)\n",
    "    selected_features = []\n",
    "    for col, stats in correlations.items():\n",
    "        if abs(stats['correlation']) >= threshold and stats['p_value'] < 0.05:\n",
    "            selected_features.append(col)\n",
    "    return selected_features\n",
    "\n",
    "# define ridge model preprocessing function\n",
    "def preprocess_for_ridge(X_train, X_val, categorical_cols, numerical_cols, correlation_threshold=0.05, use_correlation_filtering=True):\n",
    "    \n",
    "    # create copies of sets\n",
    "    X_train_processed = X_train.copy()\n",
    "    X_val_processed = X_val.copy()\n",
    "    \n",
    "    # missing values (fill numerical with median, categorical with mode)\n",
    "    for col in numerical_cols:\n",
    "        if col in X_train_processed.columns:\n",
    "            median_val = X_train_processed[col].median()\n",
    "            X_train_processed[col] = X_train_processed[col].fillna(median_val)\n",
    "            X_val_processed[col] = X_val_processed[col].fillna(median_val)\n",
    "    for col in categorical_cols:\n",
    "        if col in X_train_processed.columns:\n",
    "            mode_val = X_train_processed[col].mode()[0] if not X_train_processed[col].mode().empty else 'Unknown'\n",
    "            X_train_processed[col] = X_train_processed[col].fillna(mode_val)\n",
    "            X_val_processed[col] = X_val_processed[col].fillna(mode_val)\n",
    "    \n",
    "    # feature selection based on correlation\n",
    "    selected_numerical_features = numerical_cols\n",
    "    if use_correlation_filtering:\n",
    "        selected_numerical_features = select_features_by_correlation(X_train_processed, y_train, numerical_cols, correlation_threshold)\n",
    "        print(f\"Selected {len(selected_numerical_features)} numerical features out of {len(numerical_cols)} based on correlation > {correlation_threshold}\")\n",
    "        print(\"Selected features:\", selected_numerical_features[:10], \"...\" if len(selected_numerical_features) > 10 else \"\")\n",
    "        \n",
    "        # keep only selected numerical features\n",
    "        features_to_keep = selected_numerical_features + categorical_cols\n",
    "        X_train_processed = X_train_processed[features_to_keep]\n",
    "        X_val_processed = X_val_processed[features_to_keep]\n",
    "    \n",
    "    # one-hot encoding for categorical variables\n",
    "    X_train_encoded = pd.get_dummies(X_train_processed, columns=categorical_cols, drop_first=True)\n",
    "    X_val_encoded = pd.get_dummies(X_val_processed, columns=categorical_cols, drop_first=True)\n",
    "    \n",
    "    # validate continuity between sets\n",
    "    missing_cols_val = set(X_train_encoded.columns) - set(X_val_encoded.columns)\n",
    "    missing_cols_train = set(X_val_encoded.columns) - set(X_train_encoded.columns)\n",
    "    for col in missing_cols_val:\n",
    "        X_val_encoded[col] = 0\n",
    "    for col in missing_cols_train:\n",
    "        X_train_encoded[col] = 0\n",
    "    X_val_encoded = X_val_encoded.reindex(columns=X_train_encoded.columns, fill_value=0)\n",
    "    \n",
    "    # scale features\n",
    "    scaler = StandardScaler()\n",
    "    X_train_scaled = scaler.fit_transform(X_train_encoded)\n",
    "    X_val_scaled = scaler.transform(X_val_encoded)\n",
    "    encoded_cols = list(X_train_encoded.columns)\n",
    "    return X_train_scaled, X_val_scaled, scaler, encoded_cols, selected_numerical_features\n",
    "\n",
    "# train Ridge models with different correlation thresholds\n",
    "correlation_thresholds = [0.01, 0.03, 0.05, 0.1]\n",
    "ridge_results = {}\n",
    "print(\"\\nTesting different correlation thresholds for Ridge:\")\n",
    "for threshold in correlation_thresholds:\n",
    "    print(f\"\\n--- Testing threshold: {threshold} ---\")\n",
    "    \n",
    "    # preprocessing\n",
    "    X_train_ridge, X_val_ridge, scaler, encoded_cols, selected_features = preprocess_for_ridge(X_train, X_val, categorical_cols_eng, numerical_cols_eng, correlation_threshold=threshold, use_correlation_filtering=True)\n",
    "    print(f\"Ridge - Train shape after preprocessing: {X_train_ridge.shape}\")\n",
    "    \n",
    "    # train\n",
    "    ridge_model = Ridge(alpha=1.0, random_state=42)\n",
    "    ridge_model.fit(X_train_ridge, y_train)\n",
    "    \n",
    "    # predictions and evaluation\n",
    "    y_train_pred_ridge = ridge_model.predict(X_train_ridge)\n",
    "    y_val_pred_ridge = ridge_model.predict(X_val_ridge)\n",
    "    ridge_train_rmse = np.sqrt(mean_squared_error(y_train, y_train_pred_ridge))\n",
    "    ridge_val_rmse = np.sqrt(mean_squared_error(y_val, y_val_pred_ridge))\n",
    "    ridge_results[threshold] = {'train_rmse': ridge_train_rmse, 'val_rmse': ridge_val_rmse, 'num_features': X_train_ridge.shape[1], 'selected_features': selected_features}\n",
    "    print(f\"Train RMSE: {ridge_train_rmse:.4f}\")\n",
    "    print(f\"Validation RMSE: {ridge_val_rmse:.4f}\")\n",
    "\n",
    "# test without correlation fitting\n",
    "print(f\"\\n--- Testing without correlation filtering ---\")\n",
    "X_train_ridge_no_filter, X_val_ridge_no_filter, ridge_scaler_no_filter, ridge_columns_no_filter, _ = preprocess_for_ridge(X_train, X_val, categorical_cols_eng, numerical_cols_eng, use_correlation_filtering=False)\n",
    "print(f\"Ridge - Train shape after preprocessing: {X_train_ridge_no_filter.shape}\")\n",
    "ridge_model_no_filter = Ridge(alpha=1.0, random_state=42)\n",
    "ridge_model_no_filter.fit(X_train_ridge_no_filter, y_train)\n",
    "\n",
    "# evaluate without correlation fitting\n",
    "y_train_pred_ridge_no_filter = ridge_model_no_filter.predict(X_train_ridge_no_filter)\n",
    "y_val_pred_ridge_no_filter = ridge_model_no_filter.predict(X_val_ridge_no_filter)\n",
    "ridge_train_rmse_no_filter = np.sqrt(mean_squared_error(y_train, y_train_pred_ridge_no_filter))\n",
    "ridge_val_rmse_no_filter = np.sqrt(mean_squared_error(y_val, y_val_pred_ridge_no_filter))\n",
    "ridge_results['no_filter'] = {'train_rmse': ridge_train_rmse_no_filter, 'val_rmse': ridge_val_rmse_no_filter, 'num_features': X_train_ridge_no_filter.shape[1], 'selected_features': None}\n",
    "print(f\"Train RMSE: {ridge_train_rmse_no_filter:.4f}\")\n",
    "print(f\"Validation RMSE: {ridge_val_rmse_no_filter:.4f}\")\n",
    "\n",
    "# select best Ridge configuration for final model\n",
    "best_ridge_config = min(ridge_results.items(), key=lambda x: x[1]['val_rmse'])\n",
    "print(f\"\\nBest Ridge configuration: {best_ridge_config[0]} (Validation RMSE: {best_ridge_config[1]['val_rmse']:.4f})\")\n",
    "if best_ridge_config[0] == 'no_filter':\n",
    "    X_train_ridge_final, X_val_ridge_final = X_train_ridge_no_filter, X_val_ridge_no_filter\n",
    "    ridge_model_final = ridge_model_no_filter\n",
    "    final_ridge_train_rmse, final_ridge_val_rmse = ridge_train_rmse_no_filter, ridge_val_rmse_no_filter\n",
    "else:\n",
    "    X_train_ridge_final, X_val_ridge_final, _, _, _ = preprocess_for_ridge(X_train, X_val, categorical_cols_eng, numerical_cols_eng, correlation_threshold=best_ridge_config[0], use_correlation_filtering=True)\n",
    "    ridge_model_final = Ridge(alpha=1.0, random_state=42)\n",
    "    ridge_model_final.fit(X_train_ridge_final, y_train)\n",
    "    y_train_pred_final = ridge_model_final.predict(X_train_ridge_final)\n",
    "    y_val_pred_final = ridge_model_final.predict(X_val_ridge_final)\n",
    "    final_ridge_train_rmse = np.sqrt(mean_squared_error(y_train, y_train_pred_final))\n",
    "    final_ridge_val_rmse = np.sqrt(mean_squared_error(y_val, y_val_pred_final))\n",
    "selected_features = best_ridge_config[1]['selected_features']"
   ]
  },
  {
   "cell_type": "markdown",
   "id": "6277fedd",
   "metadata": {
    "papermill": {
     "duration": 0.026406,
     "end_time": "2025-07-15T04:35:39.866358",
     "exception": false,
     "start_time": "2025-07-15T04:35:39.839952",
     "status": "completed"
    },
    "tags": []
   },
   "source": [
    "Boom! We see our validation RMSEs mostly hovering around 0.68, with the clear winner being the model with threshold 0.1, with a validation RMSE of 0.6768. *How do we interpret this?* This means that on average, the model's SII predictions are off by 0.678 points. For a range of 0 to 3, that's not bad - the model is frequently correct or close to correct. Of course, there is room for improvement. We'll tune the model in the next section.\n",
    "\n",
    "For each model, we also have calculated the train RMSE, giving us the accuracy of the model's predictions on the very data that was used to train it. Ideally, these values should be close together - if they're not, that means we have an **overfitting** problem. In our best model, we have a train RMSE of 0.663 and a validation RMSE of 0.6768, suggesting a small amount of overfitting. "
   ]
  },
  {
   "cell_type": "markdown",
   "id": "9869dafd",
   "metadata": {
    "papermill": {
     "duration": 0.02634,
     "end_time": "2025-07-15T04:35:39.919821",
     "exception": false,
     "start_time": "2025-07-15T04:35:39.893481",
     "status": "completed"
    },
    "tags": []
   },
   "source": [
    "💡 ***Time to Train: LightGBM Model***\n",
    "\n",
    "Just like with the Ridge model, we'll define a pre-processing pipeline to separate numerical and categorical columns, fill missing values, and encode categorical variables, before running our same engineered train and validation sets through it. LightGBM doesn't require correlation filterning like Ridge does, and selects automatically features internally based on a calculated metric called \"importance\".\n",
    "\n",
    "It also requires us to define a set of **hyperparameters**, which can be thought of like knobs on a piece of audio equipment. Instead of optimizing sound, these hyperparameters are used to optimize the behavior and performance of the model. For now, we'll set some basic hyperparameters, and experiment with tuning them later."
   ]
  },
  {
   "cell_type": "code",
   "execution_count": 29,
   "id": "6d181481",
   "metadata": {
    "execution": {
     "iopub.execute_input": "2025-07-15T04:35:39.975349Z",
     "iopub.status.busy": "2025-07-15T04:35:39.975030Z",
     "iopub.status.idle": "2025-07-15T04:35:40.566017Z",
     "shell.execute_reply": "2025-07-15T04:35:40.565238Z"
    },
    "papermill": {
     "duration": 0.621028,
     "end_time": "2025-07-15T04:35:40.567528",
     "exception": false,
     "start_time": "2025-07-15T04:35:39.946500",
     "status": "completed"
    },
    "tags": []
   },
   "outputs": [
    {
     "name": "stdout",
     "output_type": "stream",
     "text": [
      "\n",
      "==================================================\n",
      "LIGHTGBM PREPROCESSING\n",
      "==================================================\n",
      "LightGBM - Train shape after preprocessing: (2175, 76)\n",
      "LightGBM - Validation shape after preprocessing: (544, 76)\n",
      "Training until validation scores don't improve for 50 rounds\n",
      "Early stopping, best iteration is:\n",
      "[49]\ttraining's rmse: 0.529629\tvalid_1's rmse: 0.669343\n",
      "\n",
      "LightGBM Results:\n",
      "Train RMSE: 0.5296\n",
      "Validation RMSE: 0.6693\n"
     ]
    }
   ],
   "source": [
    "# LIGHTGBM PREPROCESSING PIPELINE\n",
    "print(\"\\n\" + \"=\"*50)\n",
    "print(\"LIGHTGBM PREPROCESSING\")\n",
    "print(\"=\"*50)\n",
    "\n",
    "def preprocess_for_lightgbm(X_train, X_val, categorical_cols, numerical_cols):\n",
    "    \n",
    "    # create copies of sets\n",
    "    X_train_processed = X_train.copy()\n",
    "    X_val_processed = X_val.copy()\n",
    "    \n",
    "    # missing values for numerical columns\n",
    "    for col in numerical_cols:\n",
    "        if col in X_train_processed.columns:\n",
    "            median_val = X_train_processed[col].median()\n",
    "            X_train_processed[col] = X_train_processed[col].fillna(median_val)\n",
    "            X_val_processed[col] = X_val_processed[col].fillna(median_val)\n",
    "    \n",
    "    # label encoding for categorical variables\n",
    "    label_encoders = {}\n",
    "    for col in categorical_cols:\n",
    "        if col in X_train_processed.columns:\n",
    "            le = LabelEncoder()\n",
    "            \n",
    "            # fill missing values first\n",
    "            mode_val = X_train_processed[col].mode()[0] if not X_train_processed[col].mode().empty else 'Unknown'\n",
    "            X_train_processed[col] = X_train_processed[col].fillna(mode_val)\n",
    "            X_val_processed[col] = X_val_processed[col].fillna(mode_val)\n",
    "\n",
    "            # fit on train data\n",
    "            X_train_processed[col] = le.fit_transform(X_train_processed[col]).astype(int)\n",
    "\n",
    "            # handle unseen categories in validation\n",
    "            train_categories = set(le.classes_)\n",
    "            X_val_processed[col] = X_val_processed[col].map(lambda x: le.transform([x])[0] if x in train_categories else 0).astype(int)\n",
    "            label_encoders[col] = le\n",
    "    return X_train_processed, X_val_processed, label_encoders\n",
    "\n",
    "# preprocess for LightGBM\n",
    "X_train_lgb, X_val_lgb, lgb_encoders = preprocess_for_lightgbm(X_train, X_val, categorical_cols_eng, numerical_cols_eng)\n",
    "categorical_feature_names = [col for col in categorical_cols_eng if col in X_train_lgb.columns]\n",
    "print(f\"LightGBM - Train shape after preprocessing: {X_train_lgb.shape}\")\n",
    "print(f\"LightGBM - Validation shape after preprocessing: {X_val_lgb.shape}\")\n",
    "\n",
    "# define LightGBM parameters\n",
    "lgb_params = {'objective': 'regression', 'metric': 'rmse', 'boosting_type': 'gbdt', 'num_leaves': 31, 'learning_rate': 0.05, 'colsample_bytree': 0.9, 'subsample': 0.8, 'bagging_freq': 5, 'verbose': 0, 'random_state': 42, 'force_col_wise': True}\n",
    "\n",
    "# create train and validation sets for LightGBM\n",
    "train_data = lgb.Dataset(X_train_lgb, label=y_train, categorical_feature=categorical_feature_names)\n",
    "val_data = lgb.Dataset(X_val_lgb, label=y_val, reference=train_data, categorical_feature=categorical_feature_names)\n",
    "\n",
    "# train LightGBM model\n",
    "lgb_model = lgb.train(lgb_params, train_data, valid_sets=[train_data, val_data], num_boost_round=1000, callbacks=[lgb.early_stopping(stopping_rounds=50), lgb.log_evaluation(0)])\n",
    "\n",
    "# evaluate trained model on train and validation sets for result\n",
    "y_train_pred_lgb = lgb_model.predict(X_train_lgb, num_iteration=lgb_model.best_iteration)\n",
    "y_val_pred_lgb = lgb_model.predict(X_val_lgb, num_iteration=lgb_model.best_iteration)\n",
    "lgb_train_rmse = np.sqrt(mean_squared_error(y_train, y_train_pred_lgb))\n",
    "lgb_val_rmse = np.sqrt(mean_squared_error(y_val, y_val_pred_lgb))\n",
    "print(f\"\\nLightGBM Results:\")\n",
    "print(f\"Train RMSE: {lgb_train_rmse:.4f}\")\n",
    "print(f\"Validation RMSE: {lgb_val_rmse:.4f}\")"
   ]
  },
  {
   "cell_type": "markdown",
   "id": "9ad39e8b",
   "metadata": {
    "papermill": {
     "duration": 0.026242,
     "end_time": "2025-07-15T04:35:40.621675",
     "exception": false,
     "start_time": "2025-07-15T04:35:40.595433",
     "status": "completed"
    },
    "tags": []
   },
   "source": [
    "With LightGBM, we get a slightly lower validation RMSE of 0.6693, implying a better performance than our Ridge model. However, we also see a significant difference between the train and validation RMSE's, with a train RMSE of 0.5296, evidence of substantial overfitting."
   ]
  },
  {
   "cell_type": "code",
   "execution_count": 30,
   "id": "4b49edf0",
   "metadata": {
    "execution": {
     "iopub.execute_input": "2025-07-15T04:35:40.675835Z",
     "iopub.status.busy": "2025-07-15T04:35:40.675557Z",
     "iopub.status.idle": "2025-07-15T04:35:40.680614Z",
     "shell.execute_reply": "2025-07-15T04:35:40.679729Z"
    },
    "papermill": {
     "duration": 0.033785,
     "end_time": "2025-07-15T04:35:40.681913",
     "exception": false,
     "start_time": "2025-07-15T04:35:40.648128",
     "status": "completed"
    },
    "tags": []
   },
   "outputs": [
    {
     "name": "stdout",
     "output_type": "stream",
     "text": [
      "\n",
      "Overfitting Analysis:\n",
      "   - Ridge overfitting: 0.0135\n",
      "   - LightGBM overfitting: 0.1397\n",
      "   - Ridge is more robust (less overfitting)\n"
     ]
    }
   ],
   "source": [
    "# print overfitting analysis\n",
    "print(\"\\nOverfitting Analysis:\")\n",
    "ridge_overfit = final_ridge_val_rmse - final_ridge_train_rmse\n",
    "lgb_overfit = lgb_val_rmse - lgb_train_rmse\n",
    "print(f\"   - Ridge overfitting: {ridge_overfit:.4f}\")\n",
    "print(f\"   - LightGBM overfitting: {lgb_overfit:.4f}\")\n",
    "if ridge_overfit < lgb_overfit:\n",
    "    print(\"   - Ridge is more robust (less overfitting)\")\n",
    "else:\n",
    "    print(\"   - LightGBM is more robust (less overfitting)\")"
   ]
  },
  {
   "cell_type": "markdown",
   "id": "99fa264c",
   "metadata": {
    "papermill": {
     "duration": 0.026342,
     "end_time": "2025-07-15T04:35:40.735347",
     "exception": false,
     "start_time": "2025-07-15T04:35:40.709005",
     "status": "completed"
    },
    "tags": []
   },
   "source": [
    "And there we have it! The Ridge model is now saved as *ridge_model_final* and the LightGBM model is saved as *lgb_model*."
   ]
  },
  {
   "cell_type": "markdown",
   "id": "a95b4112",
   "metadata": {
    "papermill": {
     "duration": 0.028868,
     "end_time": "2025-07-15T04:35:40.791019",
     "exception": false,
     "start_time": "2025-07-15T04:35:40.762151",
     "status": "completed"
    },
    "tags": []
   },
   "source": [
    "🥡 ***Key Takeaways:***\n",
    "\n",
    "‣ Both models preformed fairly well on the validation set, with the LightGBM model performing slightly better.\n",
    "\n",
    "‣ Both models show signs of overfitting, but much moreso in the LightGBM model."
   ]
  },
  {
   "cell_type": "markdown",
   "id": "9eb0e096",
   "metadata": {
    "papermill": {
     "duration": 0.026504,
     "end_time": "2025-07-15T04:35:40.845105",
     "exception": false,
     "start_time": "2025-07-15T04:35:40.818601",
     "status": "completed"
    },
    "tags": []
   },
   "source": [
    "***\n",
    "\n",
    "## 🎛️ ***Tuning Our Models!***\n",
    "\n",
    "Essentially what we have just done is trained two models, feeding into each data with specifically engineered features and pre-processing. However, what we have not done is configured the model behavior itself. As mentioned before, our models have certain hyperparamters we can tune to optimize our models and potentially get a lower validation RMSE.\n",
    "\n",
    "Ridge Regression models only have one parameter to tune, *alpha*, which controls the strength of the penalty applied to the model's coefficients. Let's try various configurations of alpha on a blank Ridge model to see which performs best, then train a Ridge model using our selected features, correlation threshold of 0.1, and the best alpha value. To experiment with different alpha, we can use a **grid search cross-validation** function."
   ]
  },
  {
   "cell_type": "code",
   "execution_count": 31,
   "id": "894b583e",
   "metadata": {
    "execution": {
     "iopub.execute_input": "2025-07-15T04:35:40.899625Z",
     "iopub.status.busy": "2025-07-15T04:35:40.899347Z",
     "iopub.status.idle": "2025-07-15T04:35:40.991374Z",
     "shell.execute_reply": "2025-07-15T04:35:40.990617Z"
    },
    "papermill": {
     "duration": 0.121192,
     "end_time": "2025-07-15T04:35:40.992723",
     "exception": false,
     "start_time": "2025-07-15T04:35:40.871531",
     "status": "completed"
    },
    "tags": []
   },
   "outputs": [
    {
     "name": "stdout",
     "output_type": "stream",
     "text": [
      "Best alpha: 100.0\n",
      "\n",
      "Final Ridge Model with alpha=100.0:\n",
      "  Train RMSE: 0.6654\n",
      "  Validation RMSE: 0.6710\n"
     ]
    }
   ],
   "source": [
    "# determine best alpha for Ridge\n",
    "ridge = Ridge(random_state=42)\n",
    "param_grid = {'alpha': [0.01, 0.1, 1.0, 10.0, 100.0]}\n",
    "grid_search = GridSearchCV(ridge, param_grid, cv=5, scoring='neg_root_mean_squared_error')\n",
    "grid_search.fit(X_train_ridge_final, y_train)\n",
    "print(f\"Best alpha: {grid_search.best_params_['alpha']}\")\n",
    "\n",
    "# retrain with best alpha from CV\n",
    "best_alpha = grid_search.best_params_['alpha']\n",
    "ridge_model_final = Ridge(alpha=best_alpha, random_state=42)\n",
    "ridge_model_final.fit(X_train_ridge_final, y_train)\n",
    "\n",
    "# re-evaluate Ridge model on validation set with best alpha\n",
    "y_train_pred = ridge_model_final.predict(X_train_ridge_final)\n",
    "y_val_pred = ridge_model_final.predict(X_val_ridge_final)\n",
    "\n",
    "# calculate train and validation RMSE\n",
    "train_rmse = np.sqrt(mean_squared_error(y_train, y_train_pred))\n",
    "val_rmse = np.sqrt(mean_squared_error(y_val, y_val_pred))\n",
    "print(f\"\\nFinal Ridge Model with alpha={best_alpha}:\")\n",
    "print(f\"  Train RMSE: {train_rmse:.4f}\")\n",
    "print(f\"  Validation RMSE: {val_rmse:.4f}\")"
   ]
  },
  {
   "cell_type": "markdown",
   "id": "354a3a5d",
   "metadata": {
    "papermill": {
     "duration": 0.026376,
     "end_time": "2025-07-15T04:35:41.045694",
     "exception": false,
     "start_time": "2025-07-15T04:35:41.019318",
     "status": "completed"
    },
    "tags": []
   },
   "source": [
    "GridSearchCV tells us that setting alpha to 100 gives the best results, and re-evaluating on the validation set proves it! We get a validation RMSE of 0.6710, a slight improvement over our previous result of 0.6768. Our train RMSE also increased slightly from 0.6633 to 0.6654, which means less overfitting in this tuned version of the model.\n",
    "\n",
    "Now let's tackle LightGBM - there are many parameters we could choose from, but we'll focus on a simple configuration focusing on learning speed, tree complexity and overfitting. With these parameters, grid search will go through 192 different configurations, so running locally on your machine may use a lot of computing power."
   ]
  },
  {
   "cell_type": "code",
   "execution_count": 32,
   "id": "073ddce7",
   "metadata": {
    "execution": {
     "iopub.execute_input": "2025-07-15T04:35:41.099902Z",
     "iopub.status.busy": "2025-07-15T04:35:41.099610Z",
     "iopub.status.idle": "2025-07-15T04:43:37.614976Z",
     "shell.execute_reply": "2025-07-15T04:43:37.613957Z"
    },
    "papermill": {
     "duration": 476.544437,
     "end_time": "2025-07-15T04:43:37.616568",
     "exception": false,
     "start_time": "2025-07-15T04:35:41.072131",
     "status": "completed"
    },
    "tags": []
   },
   "outputs": [
    {
     "name": "stdout",
     "output_type": "stream",
     "text": [
      "Best Parameters:\n",
      "{'colsample_bytree': 0.8, 'learning_rate': 0.01, 'max_depth': 5, 'min_child_samples': 50, 'num_leaves': 15, 'subsample': 0.8}\n",
      "Best CV RMSE: 0.6867\n",
      "Training until validation scores don't improve for 50 rounds\n",
      "Early stopping, best iteration is:\n",
      "[376]\tvalid_0's rmse: 0.66574\tvalid_0's l2: 0.44321\n",
      "\n",
      "Tuned LightGBM Results:\n",
      "  Train RMSE: 0.5901\n",
      "  Validation RMSE: 0.6657\n"
     ]
    }
   ],
   "source": [
    "# define hyperparameters for tuning\n",
    "param_grid = {'learning_rate': [0.01, 0.05], 'num_leaves': [15, 31], 'max_depth': [-1, 5], 'colsample_bytree': [0.8, 1.0], 'subsample': [0.8, 1.0], 'min_child_samples': [20, 50]}\n",
    "lgb_params['verbose'] = -1\n",
    "\n",
    "# define new model for parameter testing\n",
    "lgb_model = LGBMRegressor(objective='regression', random_state=42, n_estimators=1000, verbose=-1)\n",
    "grid_search = GridSearchCV(estimator=lgb_model, param_grid=param_grid, scoring='neg_root_mean_squared_error', cv=3, verbose=0, n_jobs=-1)\n",
    "\n",
    "# fit new parameters on train lgb data\n",
    "grid_search.fit(X_train_lgb, y_train)\n",
    "print(f\"Best Parameters:\\n{grid_search.best_params_}\")\n",
    "print(f\"Best CV RMSE: {-grid_search.best_score_:.4f}\")\n",
    "best_lgb_params = grid_search.best_params_\n",
    "\n",
    "# retrain final model with tuned parameters\n",
    "final_lgb_model = LGBMRegressor(**best_lgb_params, objective='regression', random_state=42, n_estimators=1000)\n",
    "\n",
    "# fit final model on full training set\n",
    "final_lgb_model.fit(X_train_lgb, y_train,eval_set=[(X_val_lgb, y_val)], eval_metric='rmse', callbacks=[early_stopping(stopping_rounds=50), log_evaluation(0)])\n",
    "\n",
    "# evaluate tuned/ trained model on train and validation sets for final result\n",
    "y_train_pred = final_lgb_model.predict(X_train_lgb)\n",
    "y_val_pred = final_lgb_model.predict(X_val_lgb)\n",
    "train_rmse = np.sqrt(mean_squared_error(y_train, y_train_pred))\n",
    "val_rmse = np.sqrt(mean_squared_error(y_val, y_val_pred))\n",
    "print(f\"\\nTuned LightGBM Results:\")\n",
    "print(f\"  Train RMSE: {train_rmse:.4f}\")\n",
    "print(f\"  Validation RMSE: {val_rmse:.4f}\")"
   ]
  },
  {
   "cell_type": "markdown",
   "id": "ea099ea5",
   "metadata": {
    "papermill": {
     "duration": 0.026444,
     "end_time": "2025-07-15T04:43:37.670033",
     "exception": false,
     "start_time": "2025-07-15T04:43:37.643589",
     "status": "completed"
    },
    "tags": []
   },
   "source": [
    "The tuned LightGBM model has a validation RMSE of 0.6657, a slight improvement over the previous 0.6693. But what is likely more significant is the increase in RMSE from 0.5296 to 0.5901 - combined with the decreased validation RMSE, this nearly cuts model overfitting in half, from 0.1397 to 0.0756.\n",
    "\n",
    "The Ridge model is saved as *ridge_model_final* and the LightGBM model is saved as *final_lgb_model*."
   ]
  },
  {
   "cell_type": "markdown",
   "id": "b6cdddc2",
   "metadata": {
    "papermill": {
     "duration": 0.026438,
     "end_time": "2025-07-15T04:43:37.723115",
     "exception": false,
     "start_time": "2025-07-15T04:43:37.696677",
     "status": "completed"
    },
    "tags": []
   },
   "source": [
    "***\n",
    "\n",
    "## 🧮 ***Evaluating the Test Set***\n",
    "\n",
    "Finally, it's time to evaluate our models on the test set. In order to do this, we'll first have to configure the test to contain all of features we engineered for training the models - thankfully, we wrote a function earlier *\"create_engineered_features\"* that will do this for us. Then we will adapt each preprocessing pipeline for use on the test set, so the structure is exactly the same as the train set, just with different data."
   ]
  },
  {
   "cell_type": "code",
   "execution_count": 33,
   "id": "4000c55e",
   "metadata": {
    "execution": {
     "iopub.execute_input": "2025-07-15T04:43:37.778300Z",
     "iopub.status.busy": "2025-07-15T04:43:37.777887Z",
     "iopub.status.idle": "2025-07-15T04:43:37.795990Z",
     "shell.execute_reply": "2025-07-15T04:43:37.795133Z"
    },
    "papermill": {
     "duration": 0.047486,
     "end_time": "2025-07-15T04:43:37.797484",
     "exception": false,
     "start_time": "2025-07-15T04:43:37.749998",
     "status": "completed"
    },
    "tags": []
   },
   "outputs": [],
   "source": [
    "# convert sex binary to string (we changed this in the train set in the EDA section)\n",
    "test['Basic_Demos-Sex'] = test['Basic_Demos-Sex'].map({0: 'Male', 1: 'Female'})\n",
    "\n",
    "# separate id from test set\n",
    "test_ids = test[\"id\"].copy()\n",
    "test = test.drop(\"id\", axis=1)\n",
    "\n",
    "# update test set with engineered features\n",
    "X_test_engineered = create_engineered_features(test, correlations)"
   ]
  },
  {
   "cell_type": "markdown",
   "id": "d1f7f522",
   "metadata": {
    "papermill": {
     "duration": 0.027118,
     "end_time": "2025-07-15T04:43:37.852539",
     "exception": false,
     "start_time": "2025-07-15T04:43:37.825421",
     "status": "completed"
    },
    "tags": []
   },
   "source": [
    "*X_test_engineered* now contains all of our engineered features. To evaluate the Ridge model, we simply adapt the previously defined *preprocess_for_ridge* function and run X_test_engineered through it to get our preprocessed test set. Then, we use *ridge_mode_final* to get our predictions!"
   ]
  },
  {
   "cell_type": "code",
   "execution_count": 34,
   "id": "06002289",
   "metadata": {
    "execution": {
     "iopub.execute_input": "2025-07-15T04:43:37.907523Z",
     "iopub.status.busy": "2025-07-15T04:43:37.907233Z",
     "iopub.status.idle": "2025-07-15T04:43:37.959290Z",
     "shell.execute_reply": "2025-07-15T04:43:37.958459Z"
    },
    "papermill": {
     "duration": 0.081453,
     "end_time": "2025-07-15T04:43:37.960795",
     "exception": false,
     "start_time": "2025-07-15T04:43:37.879342",
     "status": "completed"
    },
    "tags": []
   },
   "outputs": [
    {
     "data": {
      "text/html": [
       "<div>\n",
       "<style scoped>\n",
       "    .dataframe tbody tr th:only-of-type {\n",
       "        vertical-align: middle;\n",
       "    }\n",
       "\n",
       "    .dataframe tbody tr th {\n",
       "        vertical-align: top;\n",
       "    }\n",
       "\n",
       "    .dataframe thead th {\n",
       "        text-align: right;\n",
       "    }\n",
       "</style>\n",
       "<table border=\"1\" class=\"dataframe\">\n",
       "  <thead>\n",
       "    <tr style=\"text-align: right;\">\n",
       "      <th></th>\n",
       "      <th>id</th>\n",
       "      <th>SII</th>\n",
       "    </tr>\n",
       "  </thead>\n",
       "  <tbody>\n",
       "    <tr>\n",
       "      <th>0</th>\n",
       "      <td>00008ff9</td>\n",
       "      <td>0.0</td>\n",
       "    </tr>\n",
       "    <tr>\n",
       "      <th>1</th>\n",
       "      <td>000fd460</td>\n",
       "      <td>1.0</td>\n",
       "    </tr>\n",
       "    <tr>\n",
       "      <th>2</th>\n",
       "      <td>00105258</td>\n",
       "      <td>1.0</td>\n",
       "    </tr>\n",
       "    <tr>\n",
       "      <th>3</th>\n",
       "      <td>00115b9f</td>\n",
       "      <td>1.0</td>\n",
       "    </tr>\n",
       "    <tr>\n",
       "      <th>4</th>\n",
       "      <td>0016bb22</td>\n",
       "      <td>1.0</td>\n",
       "    </tr>\n",
       "    <tr>\n",
       "      <th>5</th>\n",
       "      <td>001f3379</td>\n",
       "      <td>0.0</td>\n",
       "    </tr>\n",
       "    <tr>\n",
       "      <th>6</th>\n",
       "      <td>0038ba98</td>\n",
       "      <td>1.0</td>\n",
       "    </tr>\n",
       "    <tr>\n",
       "      <th>7</th>\n",
       "      <td>0068a485</td>\n",
       "      <td>0.0</td>\n",
       "    </tr>\n",
       "    <tr>\n",
       "      <th>8</th>\n",
       "      <td>0069fbed</td>\n",
       "      <td>1.0</td>\n",
       "    </tr>\n",
       "    <tr>\n",
       "      <th>9</th>\n",
       "      <td>0083e397</td>\n",
       "      <td>1.0</td>\n",
       "    </tr>\n",
       "    <tr>\n",
       "      <th>10</th>\n",
       "      <td>0087dd65</td>\n",
       "      <td>1.0</td>\n",
       "    </tr>\n",
       "    <tr>\n",
       "      <th>11</th>\n",
       "      <td>00abe655</td>\n",
       "      <td>1.0</td>\n",
       "    </tr>\n",
       "    <tr>\n",
       "      <th>12</th>\n",
       "      <td>00ae59c9</td>\n",
       "      <td>1.0</td>\n",
       "    </tr>\n",
       "    <tr>\n",
       "      <th>13</th>\n",
       "      <td>00af6387</td>\n",
       "      <td>1.0</td>\n",
       "    </tr>\n",
       "    <tr>\n",
       "      <th>14</th>\n",
       "      <td>00bd4359</td>\n",
       "      <td>1.0</td>\n",
       "    </tr>\n",
       "    <tr>\n",
       "      <th>15</th>\n",
       "      <td>00c0cd71</td>\n",
       "      <td>1.0</td>\n",
       "    </tr>\n",
       "    <tr>\n",
       "      <th>16</th>\n",
       "      <td>00d56d4b</td>\n",
       "      <td>0.0</td>\n",
       "    </tr>\n",
       "    <tr>\n",
       "      <th>17</th>\n",
       "      <td>00d9913d</td>\n",
       "      <td>0.0</td>\n",
       "    </tr>\n",
       "    <tr>\n",
       "      <th>18</th>\n",
       "      <td>00e6167c</td>\n",
       "      <td>1.0</td>\n",
       "    </tr>\n",
       "    <tr>\n",
       "      <th>19</th>\n",
       "      <td>00ebc35d</td>\n",
       "      <td>1.0</td>\n",
       "    </tr>\n",
       "  </tbody>\n",
       "</table>\n",
       "</div>"
      ],
      "text/plain": [
       "          id  SII\n",
       "0   00008ff9  0.0\n",
       "1   000fd460  1.0\n",
       "2   00105258  1.0\n",
       "3   00115b9f  1.0\n",
       "4   0016bb22  1.0\n",
       "5   001f3379  0.0\n",
       "6   0038ba98  1.0\n",
       "7   0068a485  0.0\n",
       "8   0069fbed  1.0\n",
       "9   0083e397  1.0\n",
       "10  0087dd65  1.0\n",
       "11  00abe655  1.0\n",
       "12  00ae59c9  1.0\n",
       "13  00af6387  1.0\n",
       "14  00bd4359  1.0\n",
       "15  00c0cd71  1.0\n",
       "16  00d56d4b  0.0\n",
       "17  00d9913d  0.0\n",
       "18  00e6167c  1.0\n",
       "19  00ebc35d  1.0"
      ]
     },
     "metadata": {},
     "output_type": "display_data"
    }
   ],
   "source": [
    "# define helper function to round predictions\n",
    "def clip_predictions(predictions):\n",
    "    rounded = np.round(predictions)\n",
    "    clipped = np.clip(rounded, 0, 3)\n",
    "    return clipped\n",
    "\n",
    "# define Ridge preprocessing function for test set\n",
    "def preprocess_test_for_ridge(X_test, categorical_cols, numerical_cols, selected_numerical_features, scaler, encoded_column_names):\n",
    "    X_test_processed = X_test.copy()\n",
    "    \n",
    "    # missing values (fill numerical with median, categorical with mode)\n",
    "    for col in numerical_cols:\n",
    "        if col in X_test_processed.columns:\n",
    "            median_val = X_test_processed[col].median()\n",
    "            X_test_processed[col] = X_test_processed[col].fillna(median_val)\n",
    "    for col in categorical_cols:\n",
    "        if col in X_test_processed.columns:\n",
    "            mode_val = X_test_processed[col].mode()[0] if not X_test_processed[col].mode().empty else 'Unknown'\n",
    "            X_test_processed[col] = X_test_processed[col].fillna(mode_val)\n",
    "\n",
    "    # keep selected features and one-hot encode\n",
    "    features_to_keep = selected_numerical_features + categorical_cols\n",
    "    X_test_processed = X_test_processed[features_to_keep]\n",
    "    X_test_encoded = pd.get_dummies(X_test_processed, columns=categorical_cols, drop_first=True)\n",
    "\n",
    "    # add absent columns, reorder columns and scale\n",
    "    for col in encoded_column_names:\n",
    "        if col not in X_test_encoded.columns:\n",
    "            X_test_encoded[col] = 0\n",
    "    X_test_encoded = X_test_encoded[encoded_column_names]\n",
    "    X_test_scaled = scaler.transform(X_test_encoded)\n",
    "    return X_test_scaled\n",
    "\n",
    "# apply Ridge preprocessing function to test set\n",
    "X_test_scaled = preprocess_test_for_ridge(X_test_engineered, categorical_cols = categorical_cols_eng, numerical_cols = numerical_cols_eng, selected_numerical_features = selected_features, scaler = scaler, encoded_column_names = encoded_cols)\n",
    "\n",
    "# make predictions\n",
    "predictions_ridge = ridge_model_final.predict(X_test_scaled)\n",
    "y_pred_ridge = clip_predictions(predictions_ridge)\n",
    "\n",
    "# generate Ridge predictions as dataframe\n",
    "submission = pd.DataFrame({'id': test_ids, 'SII': y_pred_ridge})\n",
    "display(submission)"
   ]
  },
  {
   "cell_type": "markdown",
   "id": "ffcfad03",
   "metadata": {
    "papermill": {
     "duration": 0.026716,
     "end_time": "2025-07-15T04:43:38.014450",
     "exception": false,
     "start_time": "2025-07-15T04:43:37.987734",
     "status": "completed"
    },
    "tags": []
   },
   "source": [
    "*Hm, all ones and zeros? ChatGPT, is that you?* Actually, this result makes total sense - if you recall in our earlier EDA, about 85% of participants reported an SII of 0 or 1, leaving only 15% of participants with an SII of 2 or 3. It's fairly likely that one of these 2's and 3's just didn't slip into the test.\n",
    "\n",
    "Now same process for the LightGBM model. Adapt the *preprocess_for_LightGBM* function for the test set, run *X_test_engineered* through it, and finally evaluate *final_lgbm_model*."
   ]
  },
  {
   "cell_type": "code",
   "execution_count": 35,
   "id": "608c9a86",
   "metadata": {
    "execution": {
     "iopub.execute_input": "2025-07-15T04:43:38.070014Z",
     "iopub.status.busy": "2025-07-15T04:43:38.069690Z",
     "iopub.status.idle": "2025-07-15T04:43:38.127042Z",
     "shell.execute_reply": "2025-07-15T04:43:38.126239Z"
    },
    "papermill": {
     "duration": 0.086797,
     "end_time": "2025-07-15T04:43:38.128424",
     "exception": false,
     "start_time": "2025-07-15T04:43:38.041627",
     "status": "completed"
    },
    "tags": []
   },
   "outputs": [
    {
     "data": {
      "text/html": [
       "<div>\n",
       "<style scoped>\n",
       "    .dataframe tbody tr th:only-of-type {\n",
       "        vertical-align: middle;\n",
       "    }\n",
       "\n",
       "    .dataframe tbody tr th {\n",
       "        vertical-align: top;\n",
       "    }\n",
       "\n",
       "    .dataframe thead th {\n",
       "        text-align: right;\n",
       "    }\n",
       "</style>\n",
       "<table border=\"1\" class=\"dataframe\">\n",
       "  <thead>\n",
       "    <tr style=\"text-align: right;\">\n",
       "      <th></th>\n",
       "      <th>id</th>\n",
       "      <th>SII</th>\n",
       "    </tr>\n",
       "  </thead>\n",
       "  <tbody>\n",
       "    <tr>\n",
       "      <th>0</th>\n",
       "      <td>00008ff9</td>\n",
       "      <td>0.0</td>\n",
       "    </tr>\n",
       "    <tr>\n",
       "      <th>1</th>\n",
       "      <td>000fd460</td>\n",
       "      <td>0.0</td>\n",
       "    </tr>\n",
       "    <tr>\n",
       "      <th>2</th>\n",
       "      <td>00105258</td>\n",
       "      <td>1.0</td>\n",
       "    </tr>\n",
       "    <tr>\n",
       "      <th>3</th>\n",
       "      <td>00115b9f</td>\n",
       "      <td>0.0</td>\n",
       "    </tr>\n",
       "    <tr>\n",
       "      <th>4</th>\n",
       "      <td>0016bb22</td>\n",
       "      <td>0.0</td>\n",
       "    </tr>\n",
       "    <tr>\n",
       "      <th>5</th>\n",
       "      <td>001f3379</td>\n",
       "      <td>0.0</td>\n",
       "    </tr>\n",
       "    <tr>\n",
       "      <th>6</th>\n",
       "      <td>0038ba98</td>\n",
       "      <td>1.0</td>\n",
       "    </tr>\n",
       "    <tr>\n",
       "      <th>7</th>\n",
       "      <td>0068a485</td>\n",
       "      <td>0.0</td>\n",
       "    </tr>\n",
       "    <tr>\n",
       "      <th>8</th>\n",
       "      <td>0069fbed</td>\n",
       "      <td>1.0</td>\n",
       "    </tr>\n",
       "    <tr>\n",
       "      <th>9</th>\n",
       "      <td>0083e397</td>\n",
       "      <td>0.0</td>\n",
       "    </tr>\n",
       "    <tr>\n",
       "      <th>10</th>\n",
       "      <td>0087dd65</td>\n",
       "      <td>0.0</td>\n",
       "    </tr>\n",
       "    <tr>\n",
       "      <th>11</th>\n",
       "      <td>00abe655</td>\n",
       "      <td>1.0</td>\n",
       "    </tr>\n",
       "    <tr>\n",
       "      <th>12</th>\n",
       "      <td>00ae59c9</td>\n",
       "      <td>1.0</td>\n",
       "    </tr>\n",
       "    <tr>\n",
       "      <th>13</th>\n",
       "      <td>00af6387</td>\n",
       "      <td>1.0</td>\n",
       "    </tr>\n",
       "    <tr>\n",
       "      <th>14</th>\n",
       "      <td>00bd4359</td>\n",
       "      <td>1.0</td>\n",
       "    </tr>\n",
       "    <tr>\n",
       "      <th>15</th>\n",
       "      <td>00c0cd71</td>\n",
       "      <td>1.0</td>\n",
       "    </tr>\n",
       "    <tr>\n",
       "      <th>16</th>\n",
       "      <td>00d56d4b</td>\n",
       "      <td>0.0</td>\n",
       "    </tr>\n",
       "    <tr>\n",
       "      <th>17</th>\n",
       "      <td>00d9913d</td>\n",
       "      <td>0.0</td>\n",
       "    </tr>\n",
       "    <tr>\n",
       "      <th>18</th>\n",
       "      <td>00e6167c</td>\n",
       "      <td>1.0</td>\n",
       "    </tr>\n",
       "    <tr>\n",
       "      <th>19</th>\n",
       "      <td>00ebc35d</td>\n",
       "      <td>0.0</td>\n",
       "    </tr>\n",
       "  </tbody>\n",
       "</table>\n",
       "</div>"
      ],
      "text/plain": [
       "          id  SII\n",
       "0   00008ff9  0.0\n",
       "1   000fd460  0.0\n",
       "2   00105258  1.0\n",
       "3   00115b9f  0.0\n",
       "4   0016bb22  0.0\n",
       "5   001f3379  0.0\n",
       "6   0038ba98  1.0\n",
       "7   0068a485  0.0\n",
       "8   0069fbed  1.0\n",
       "9   0083e397  0.0\n",
       "10  0087dd65  0.0\n",
       "11  00abe655  1.0\n",
       "12  00ae59c9  1.0\n",
       "13  00af6387  1.0\n",
       "14  00bd4359  1.0\n",
       "15  00c0cd71  1.0\n",
       "16  00d56d4b  0.0\n",
       "17  00d9913d  0.0\n",
       "18  00e6167c  1.0\n",
       "19  00ebc35d  0.0"
      ]
     },
     "metadata": {},
     "output_type": "display_data"
    }
   ],
   "source": [
    "# define LightGBM preprocessing function for test set\n",
    "def preprocess_test_for_lightgbm(X_test, categorical_cols, numerical_cols, label_encoders):\n",
    "    X_test_processed = X_test.copy()\n",
    "    \n",
    "    # missing values for numerical columns\n",
    "    for col in numerical_cols:\n",
    "        if col in X_test_processed.columns:\n",
    "            median_val = X_test_processed[col].median()\n",
    "            X_test_processed[col] = X_test_processed[col].fillna(median_val)\n",
    "    \n",
    "    # label encode using training encoders\n",
    "    for col in categorical_cols:\n",
    "        if col in X_test_processed.columns:\n",
    "            le = label_encoders.get(col)\n",
    "            if le:\n",
    "                mode_val = X_test_processed[col].mode()[0] if not X_test_processed[col].mode().empty else 'Unknown'\n",
    "                X_test_processed[col] = X_test_processed[col].fillna(mode_val)\n",
    "                train_categories = set(le.classes_)\n",
    "                X_test_processed[col] = X_test_processed[col].map(lambda x: le.transform([x])[0] if x in train_categories else 0).astype(int)\n",
    "            else:\n",
    "                X_test_processed[col] = 0\n",
    "    return X_test_processed\n",
    "\n",
    "# apply LightGBM preprocessing function to test set\n",
    "X_test_lgb = preprocess_test_for_lightgbm(X_test_engineered, categorical_cols = categorical_cols_eng, numerical_cols = numerical_cols_eng, label_encoders = lgb_encoders)\n",
    "\n",
    "# make predictions\n",
    "predictions_lgb = final_lgb_model.predict(X_test_lgb)\n",
    "y_pred_lgb = clip_predictions(predictions_lgb)\n",
    "\n",
    "# generate LightGBM predictions as dataframe\n",
    "submission = pd.DataFrame({'id': test_ids, 'SII': y_pred_lgb})\n",
    "display(submission)"
   ]
  },
  {
   "cell_type": "markdown",
   "id": "03ca3a14",
   "metadata": {
    "papermill": {
     "duration": 0.026798,
     "end_time": "2025-07-15T04:43:38.182607",
     "exception": false,
     "start_time": "2025-07-15T04:43:38.155809",
     "status": "completed"
    },
    "tags": []
   },
   "source": [
    "Finally we'll combine the two results through with a weighted average. Since the two models were pretty close in validation RMSE, we can give both models equal 50/ 50 weight."
   ]
  },
  {
   "cell_type": "code",
   "execution_count": 36,
   "id": "fe4b6a7a",
   "metadata": {
    "execution": {
     "iopub.execute_input": "2025-07-15T04:43:38.238270Z",
     "iopub.status.busy": "2025-07-15T04:43:38.237488Z",
     "iopub.status.idle": "2025-07-15T04:43:38.246446Z",
     "shell.execute_reply": "2025-07-15T04:43:38.245672Z"
    },
    "papermill": {
     "duration": 0.038081,
     "end_time": "2025-07-15T04:43:38.247740",
     "exception": false,
     "start_time": "2025-07-15T04:43:38.209659",
     "status": "completed"
    },
    "tags": []
   },
   "outputs": [
    {
     "data": {
      "text/html": [
       "<div>\n",
       "<style scoped>\n",
       "    .dataframe tbody tr th:only-of-type {\n",
       "        vertical-align: middle;\n",
       "    }\n",
       "\n",
       "    .dataframe tbody tr th {\n",
       "        vertical-align: top;\n",
       "    }\n",
       "\n",
       "    .dataframe thead th {\n",
       "        text-align: right;\n",
       "    }\n",
       "</style>\n",
       "<table border=\"1\" class=\"dataframe\">\n",
       "  <thead>\n",
       "    <tr style=\"text-align: right;\">\n",
       "      <th></th>\n",
       "      <th>id</th>\n",
       "      <th>SII</th>\n",
       "    </tr>\n",
       "  </thead>\n",
       "  <tbody>\n",
       "    <tr>\n",
       "      <th>0</th>\n",
       "      <td>00008ff9</td>\n",
       "      <td>0</td>\n",
       "    </tr>\n",
       "    <tr>\n",
       "      <th>1</th>\n",
       "      <td>000fd460</td>\n",
       "      <td>0</td>\n",
       "    </tr>\n",
       "    <tr>\n",
       "      <th>2</th>\n",
       "      <td>00105258</td>\n",
       "      <td>1</td>\n",
       "    </tr>\n",
       "    <tr>\n",
       "      <th>3</th>\n",
       "      <td>00115b9f</td>\n",
       "      <td>0</td>\n",
       "    </tr>\n",
       "    <tr>\n",
       "      <th>4</th>\n",
       "      <td>0016bb22</td>\n",
       "      <td>0</td>\n",
       "    </tr>\n",
       "    <tr>\n",
       "      <th>5</th>\n",
       "      <td>001f3379</td>\n",
       "      <td>0</td>\n",
       "    </tr>\n",
       "    <tr>\n",
       "      <th>6</th>\n",
       "      <td>0038ba98</td>\n",
       "      <td>1</td>\n",
       "    </tr>\n",
       "    <tr>\n",
       "      <th>7</th>\n",
       "      <td>0068a485</td>\n",
       "      <td>0</td>\n",
       "    </tr>\n",
       "    <tr>\n",
       "      <th>8</th>\n",
       "      <td>0069fbed</td>\n",
       "      <td>1</td>\n",
       "    </tr>\n",
       "    <tr>\n",
       "      <th>9</th>\n",
       "      <td>0083e397</td>\n",
       "      <td>0</td>\n",
       "    </tr>\n",
       "    <tr>\n",
       "      <th>10</th>\n",
       "      <td>0087dd65</td>\n",
       "      <td>0</td>\n",
       "    </tr>\n",
       "    <tr>\n",
       "      <th>11</th>\n",
       "      <td>00abe655</td>\n",
       "      <td>1</td>\n",
       "    </tr>\n",
       "    <tr>\n",
       "      <th>12</th>\n",
       "      <td>00ae59c9</td>\n",
       "      <td>1</td>\n",
       "    </tr>\n",
       "    <tr>\n",
       "      <th>13</th>\n",
       "      <td>00af6387</td>\n",
       "      <td>1</td>\n",
       "    </tr>\n",
       "    <tr>\n",
       "      <th>14</th>\n",
       "      <td>00bd4359</td>\n",
       "      <td>1</td>\n",
       "    </tr>\n",
       "    <tr>\n",
       "      <th>15</th>\n",
       "      <td>00c0cd71</td>\n",
       "      <td>1</td>\n",
       "    </tr>\n",
       "    <tr>\n",
       "      <th>16</th>\n",
       "      <td>00d56d4b</td>\n",
       "      <td>0</td>\n",
       "    </tr>\n",
       "    <tr>\n",
       "      <th>17</th>\n",
       "      <td>00d9913d</td>\n",
       "      <td>0</td>\n",
       "    </tr>\n",
       "    <tr>\n",
       "      <th>18</th>\n",
       "      <td>00e6167c</td>\n",
       "      <td>1</td>\n",
       "    </tr>\n",
       "    <tr>\n",
       "      <th>19</th>\n",
       "      <td>00ebc35d</td>\n",
       "      <td>0</td>\n",
       "    </tr>\n",
       "  </tbody>\n",
       "</table>\n",
       "</div>"
      ],
      "text/plain": [
       "          id  SII\n",
       "0   00008ff9    0\n",
       "1   000fd460    0\n",
       "2   00105258    1\n",
       "3   00115b9f    0\n",
       "4   0016bb22    0\n",
       "5   001f3379    0\n",
       "6   0038ba98    1\n",
       "7   0068a485    0\n",
       "8   0069fbed    1\n",
       "9   0083e397    0\n",
       "10  0087dd65    0\n",
       "11  00abe655    1\n",
       "12  00ae59c9    1\n",
       "13  00af6387    1\n",
       "14  00bd4359    1\n",
       "15  00c0cd71    1\n",
       "16  00d56d4b    0\n",
       "17  00d9913d    0\n",
       "18  00e6167c    1\n",
       "19  00ebc35d    0"
      ]
     },
     "metadata": {},
     "output_type": "display_data"
    }
   ],
   "source": [
    "# calcuate weighted average of predictions\n",
    "y_pred_ensemble = 0.5 * y_pred_ridge + 0.5 * y_pred_lgb\n",
    "y_pred_final = np.round(y_pred_ensemble).astype(int)\n",
    "\n",
    "# generate final submission as dataframe\n",
    "submission = pd.DataFrame({'id': test_ids, 'SII': y_pred_final})\n",
    "display(submission)"
   ]
  }
 ],
 "metadata": {
  "kaggle": {
   "accelerator": "none",
   "dataSources": [
    {
     "databundleVersionId": 9643020,
     "sourceId": 81933,
     "sourceType": "competition"
    },
    {
     "datasetId": 7803330,
     "sourceId": 12375679,
     "sourceType": "datasetVersion"
    },
    {
     "sourceId": 198686398,
     "sourceType": "kernelVersion"
    },
    {
     "sourceId": 203489307,
     "sourceType": "kernelVersion"
    }
   ],
   "dockerImageVersionId": 31040,
   "isGpuEnabled": false,
   "isInternetEnabled": true,
   "language": "python",
   "sourceType": "notebook"
  },
  "kernelspec": {
   "display_name": "Python 3",
   "language": "python",
   "name": "python3"
  },
  "language_info": {
   "codemirror_mode": {
    "name": "ipython",
    "version": 3
   },
   "file_extension": ".py",
   "mimetype": "text/x-python",
   "name": "python",
   "nbconvert_exporter": "python",
   "pygments_lexer": "ipython3",
   "version": "3.11.11"
  },
  "papermill": {
   "default_parameters": {},
   "duration": 503.515466,
   "end_time": "2025-07-15T04:43:40.895352",
   "environment_variables": {},
   "exception": null,
   "input_path": "__notebook__.ipynb",
   "output_path": "__notebook__.ipynb",
   "parameters": {},
   "start_time": "2025-07-15T04:35:17.379886",
   "version": "2.6.0"
  }
 },
 "nbformat": 4,
 "nbformat_minor": 5
}
